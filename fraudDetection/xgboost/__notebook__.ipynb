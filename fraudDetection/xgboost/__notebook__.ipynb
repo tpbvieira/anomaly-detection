{
 "cells": [
  {
   "cell_type": "markdown",
   "execution_count": null,
   "metadata": {
    "_cell_guid": "931a1cf1-4e0f-d870-728f-d3d256ff77c3",
    "_uuid": "c85d2c9f33c9ff347246a22d6534f925457a33fc"
   },
   "outputs": [],
   "source": [
    "`enter code here`XGBoost_auc_0.99831"
   ]
  },
  {
   "cell_type": "code",
   "execution_count": 1,
   "metadata": {
    "_cell_guid": "b1cb2f2f-3547-466e-0c60-fc09b46b1b2d",
    "_execution_state": "idle",
    "_uuid": "410847a8941484c6dda5e60b2d7cc3c65d5dd287"
   },
   "outputs": [],
   "source": [
    "import numpy as np\n",
    "import pandas as pd\n",
    "from sklearn.preprocessing import StandardScaler\n",
    "from sklearn import preprocessing\n",
    "\n",
    "from sklearn.model_selection import train_test_split,GridSearchCV\n",
    "from sklearn.ensemble import GradientBoostingClassifier\n",
    "from sklearn.metrics import roc_curve, auc,confusion_matrix,recall_score\n",
    "from sklearn import metrics\n",
    "\n",
    "\n",
    "import matplotlib.pyplot as plt\n",
    "import matplotlib.cm as cm\n",
    "from matplotlib import style\n",
    "style.use('ggplot')\n",
    "import seaborn as sns\n",
    "%matplotlib inline\n",
    "\n",
    "\n",
    "from scipy.stats import skew, boxcox\n",
    "import warnings\n",
    "warnings.filterwarnings(\"ignore\")\n",
    "\n",
    "plt.rcParams['font.sans-serif'] = ['SimHei']  \n",
    "plt.rcParams['axes.unicode_minus'] = False"
   ]
  },
  {
   "cell_type": "code",
   "execution_count": 2,
   "metadata": {
    "_cell_guid": "4d6d0ea5-6a7c-06cb-885b-0b89ebdd2143",
    "_execution_state": "idle",
    "_uuid": "be6803a0b59a114e34aca3b6e78d44c153bc812b"
   },
   "outputs": [
    {
     "name": "stdout",
     "output_type": "stream",
     "text": [
      "raw data shape: (6362620, 11)\n",
      "   step      type    amount     nameOrig  oldbalanceOrg  newbalanceOrig  \\\n",
      "0     1   PAYMENT   9839.64  C1231006815       170136.0       160296.36   \n",
      "1     1   PAYMENT   1864.28  C1666544295        21249.0        19384.72   \n",
      "2     1  TRANSFER    181.00  C1305486145          181.0            0.00   \n",
      "3     1  CASH_OUT    181.00   C840083671          181.0            0.00   \n",
      "4     1   PAYMENT  11668.14  C2048537720        41554.0        29885.86   \n",
      "\n",
      "      nameDest  oldbalanceDest  newbalanceDest  isFraud  isFlaggedFraud  \n",
      "0  M1979787155             0.0             0.0        0               0  \n",
      "1  M2044282225             0.0             0.0        0               0  \n",
      "2   C553264065             0.0             0.0        1               0  \n",
      "3    C38997010         21182.0             0.0        1               0  \n",
      "4  M1230701703             0.0             0.0        0               0  \n",
      "               step        amount  oldbalanceOrg  newbalanceOrig  \\\n",
      "count  6.362620e+06  6.362620e+06   6.362620e+06    6.362620e+06   \n",
      "mean   2.433972e+02  1.798619e+05   8.338831e+05    8.551137e+05   \n",
      "std    1.423320e+02  6.038582e+05   2.888243e+06    2.924049e+06   \n",
      "min    1.000000e+00  0.000000e+00   0.000000e+00    0.000000e+00   \n",
      "25%    1.560000e+02  1.338957e+04   0.000000e+00    0.000000e+00   \n",
      "50%    2.390000e+02  7.487194e+04   1.420800e+04    0.000000e+00   \n",
      "75%    3.350000e+02  2.087215e+05   1.073152e+05    1.442584e+05   \n",
      "max    7.430000e+02  9.244552e+07   5.958504e+07    4.958504e+07   \n",
      "\n",
      "       oldbalanceDest  newbalanceDest       isFraud  isFlaggedFraud  \n",
      "count    6.362620e+06    6.362620e+06  6.362620e+06    6.362620e+06  \n",
      "mean     1.100702e+06    1.224996e+06  1.290820e-03    2.514687e-06  \n",
      "std      3.399180e+06    3.674129e+06  3.590480e-02    1.585775e-03  \n",
      "min      0.000000e+00    0.000000e+00  0.000000e+00    0.000000e+00  \n",
      "25%      0.000000e+00    0.000000e+00  0.000000e+00    0.000000e+00  \n",
      "50%      1.327057e+05    2.146614e+05  0.000000e+00    0.000000e+00  \n",
      "75%      9.430367e+05    1.111909e+06  0.000000e+00    0.000000e+00  \n",
      "max      3.560159e+08    3.561793e+08  1.000000e+00    1.000000e+00  \n",
      "<class 'pandas.core.frame.DataFrame'>\n",
      "RangeIndex: 6362620 entries, 0 to 6362619\n",
      "Data columns (total 11 columns):\n",
      "step              int64\n",
      "type              object\n",
      "amount            float64\n",
      "nameOrig          object\n",
      "oldbalanceOrg     float64\n",
      "newbalanceOrig    float64\n",
      "nameDest          object\n",
      "oldbalanceDest    float64\n",
      "newbalanceDest    float64\n",
      "isFraud           int64\n",
      "isFlaggedFraud    int64\n",
      "dtypes: float64(5), int64(3), object(3)\n",
      "memory usage: 534.0+ MB\n",
      "None\n"
     ]
    }
   ],
   "source": [
    "# Checking data\n",
    "csvfile_path = '../input/PS_20174392719_1491204439457_log.csv'\n",
    "raw_data = pd.read_csv(csvfile_path)\n",
    "print (\"raw data shape:\", raw_data.shape)\n",
    "print(raw_data.head())\n",
    "print(raw_data.describe())\n",
    "print(raw_data.info())"
   ]
  },
  {
   "cell_type": "code",
   "execution_count": 3,
   "metadata": {
    "_cell_guid": "df00bb92-de60-e07e-2fdb-855513ddb9c6",
    "_execution_state": "idle",
    "_uuid": "2e35f7e0a8d110c7b03c7071562dab6bedabd386"
   },
   "outputs": [
    {
     "data": {
      "text/plain": [
       "step              False\n",
       "type              False\n",
       "amount            False\n",
       "nameOrig          False\n",
       "oldbalanceOrg     False\n",
       "newbalanceOrig    False\n",
       "nameDest          False\n",
       "oldbalanceDest    False\n",
       "newbalanceDest    False\n",
       "isFraud           False\n",
       "isFlaggedFraud    False\n",
       "dtype: bool"
      ]
     },
     "execution_count": 3,
     "metadata": {},
     "output_type": "execute_result"
    }
   ],
   "source": [
    "# check the missing values\n",
    "raw_data.isnull().any()"
   ]
  },
  {
   "cell_type": "code",
   "execution_count": 4,
   "metadata": {
    "_cell_guid": "1bf829fe-6cfb-4ec0-8620-f66d208393ce",
    "_execution_state": "idle",
    "_uuid": "8d01704328be4d70bdbce4d88d5fbbaf4ca02b1e",
    "collapsed": false
   },
   "outputs": [
    {
     "name": "stdout",
     "output_type": "stream",
     "text": [
      "CASH_OUT    2237500\n",
      "PAYMENT     2151495\n",
      "CASH_IN     1399284\n",
      "TRANSFER     532909\n",
      "DEBIT         41432\n",
      "Name: type, dtype: int64\n"
     ]
    },
    {
     "data": {
      "image/png": "[encoded data removed]",
      "text/plain": [
       "<matplotlib.figure.Figure at 0x7f68841109e8>"
      ]
     },
     "metadata": {},
     "output_type": "display_data"
    }
   ],
   "source": [
    "# exploratory the colum of 'type'\n",
    "print(raw_data['type'].value_counts())\n",
    "raw_data['type'].value_counts().plot.pie(autopct='%.2f',figsize=(5, 5))\n",
    "plt.title('type')\n",
    "plt.tight_layout()"
   ]
  },
  {
   "cell_type": "code",
   "execution_count": 5,
   "metadata": {
    "_cell_guid": "24481607-1498-4a86-8fc4-b0fe94f9cad7",
    "_execution_state": "idle",
    "_uuid": "8d981ff3cfae6e7e6323257c6a5335bc07f58f95",
    "collapsed": false
   },
   "outputs": [
    {
     "data": {
      "text/html": [
       "<div>\n",
       "<style>\n",
       "    .dataframe thead tr:only-child th {\n",
       "        text-align: right;\n",
       "    }\n",
       "\n",
       "    .dataframe thead th {\n",
       "        text-align: left;\n",
       "    }\n",
       "\n",
       "    .dataframe tbody tr th {\n",
       "        vertical-align: top;\n",
       "    }\n",
       "</style>\n",
       "<table border=\"1\" class=\"dataframe\">\n",
       "  <thead>\n",
       "    <tr style=\"text-align: right;\">\n",
       "      <th>isFraud</th>\n",
       "      <th>0</th>\n",
       "      <th>1</th>\n",
       "    </tr>\n",
       "    <tr>\n",
       "      <th>type</th>\n",
       "      <th></th>\n",
       "      <th></th>\n",
       "    </tr>\n",
       "  </thead>\n",
       "  <tbody>\n",
       "    <tr>\n",
       "      <th>CASH_IN</th>\n",
       "      <td>1399284</td>\n",
       "      <td>0</td>\n",
       "    </tr>\n",
       "    <tr>\n",
       "      <th>CASH_OUT</th>\n",
       "      <td>2233384</td>\n",
       "      <td>4116</td>\n",
       "    </tr>\n",
       "    <tr>\n",
       "      <th>DEBIT</th>\n",
       "      <td>41432</td>\n",
       "      <td>0</td>\n",
       "    </tr>\n",
       "    <tr>\n",
       "      <th>PAYMENT</th>\n",
       "      <td>2151495</td>\n",
       "      <td>0</td>\n",
       "    </tr>\n",
       "    <tr>\n",
       "      <th>TRANSFER</th>\n",
       "      <td>528812</td>\n",
       "      <td>4097</td>\n",
       "    </tr>\n",
       "  </tbody>\n",
       "</table>\n",
       "</div>"
      ],
      "text/plain": [
       "isFraud         0     1\n",
       "type                   \n",
       "CASH_IN   1399284     0\n",
       "CASH_OUT  2233384  4116\n",
       "DEBIT       41432     0\n",
       "PAYMENT   2151495     0\n",
       "TRANSFER   528812  4097"
      ]
     },
     "execution_count": 5,
     "metadata": {},
     "output_type": "execute_result"
    }
   ],
   "source": [
    "pd.crosstab(raw_data['type'], raw_data['isFraud'])"
   ]
  },
  {
   "cell_type": "code",
   "execution_count": 6,
   "metadata": {
    "_cell_guid": "e1413cf6-36fc-46c9-86af-fbd57e7eb9a6",
    "_execution_state": "idle",
    "_uuid": "44d36fae6caf34f3b192948579e3cc5c9c9d0a9d",
    "collapsed": false
   },
   "outputs": [
    {
     "data": {
      "text/html": [
       "<div>\n",
       "<style>\n",
       "    .dataframe thead tr:only-child th {\n",
       "        text-align: right;\n",
       "    }\n",
       "\n",
       "    .dataframe thead th {\n",
       "        text-align: left;\n",
       "    }\n",
       "\n",
       "    .dataframe tbody tr th {\n",
       "        vertical-align: top;\n",
       "    }\n",
       "</style>\n",
       "<table border=\"1\" class=\"dataframe\">\n",
       "  <thead>\n",
       "    <tr style=\"text-align: right;\">\n",
       "      <th>isFlaggedFraud</th>\n",
       "      <th>0</th>\n",
       "      <th>1</th>\n",
       "    </tr>\n",
       "    <tr>\n",
       "      <th>type</th>\n",
       "      <th></th>\n",
       "      <th></th>\n",
       "    </tr>\n",
       "  </thead>\n",
       "  <tbody>\n",
       "    <tr>\n",
       "      <th>CASH_IN</th>\n",
       "      <td>1399284</td>\n",
       "      <td>0</td>\n",
       "    </tr>\n",
       "    <tr>\n",
       "      <th>CASH_OUT</th>\n",
       "      <td>2237500</td>\n",
       "      <td>0</td>\n",
       "    </tr>\n",
       "    <tr>\n",
       "      <th>DEBIT</th>\n",
       "      <td>41432</td>\n",
       "      <td>0</td>\n",
       "    </tr>\n",
       "    <tr>\n",
       "      <th>PAYMENT</th>\n",
       "      <td>2151495</td>\n",
       "      <td>0</td>\n",
       "    </tr>\n",
       "    <tr>\n",
       "      <th>TRANSFER</th>\n",
       "      <td>532893</td>\n",
       "      <td>16</td>\n",
       "    </tr>\n",
       "  </tbody>\n",
       "</table>\n",
       "</div>"
      ],
      "text/plain": [
       "isFlaggedFraud        0   1\n",
       "type                       \n",
       "CASH_IN         1399284   0\n",
       "CASH_OUT        2237500   0\n",
       "DEBIT             41432   0\n",
       "PAYMENT         2151495   0\n",
       "TRANSFER         532893  16"
      ]
     },
     "execution_count": 6,
     "metadata": {},
     "output_type": "execute_result"
    }
   ],
   "source": [
    "pd.crosstab(raw_data['type'], raw_data['isFlaggedFraud'])"
   ]
  },
  {
   "cell_type": "code",
   "execution_count": 7,
   "metadata": {
    "_cell_guid": "baa31785-e039-44b2-a4c0-1f15b24224a8",
    "_execution_state": "idle",
    "_uuid": "7ddfd2457d8ff31f127041b7959886fe7f7b65af",
    "collapsed": false
   },
   "outputs": [
    {
     "data": {
      "text/html": [
       "<div>\n",
       "<style>\n",
       "    .dataframe thead tr:only-child th {\n",
       "        text-align: right;\n",
       "    }\n",
       "\n",
       "    .dataframe thead th {\n",
       "        text-align: left;\n",
       "    }\n",
       "\n",
       "    .dataframe tbody tr th {\n",
       "        vertical-align: top;\n",
       "    }\n",
       "</style>\n",
       "<table border=\"1\" class=\"dataframe\">\n",
       "  <thead>\n",
       "    <tr style=\"text-align: right;\">\n",
       "      <th></th>\n",
       "      <th>nameOrig</th>\n",
       "      <th>nameDest</th>\n",
       "    </tr>\n",
       "  </thead>\n",
       "  <tbody>\n",
       "    <tr>\n",
       "      <th>count</th>\n",
       "      <td>6362620</td>\n",
       "      <td>6362620</td>\n",
       "    </tr>\n",
       "    <tr>\n",
       "      <th>unique</th>\n",
       "      <td>6353307</td>\n",
       "      <td>2722362</td>\n",
       "    </tr>\n",
       "    <tr>\n",
       "      <th>top</th>\n",
       "      <td>C1784010646</td>\n",
       "      <td>C1286084959</td>\n",
       "    </tr>\n",
       "    <tr>\n",
       "      <th>freq</th>\n",
       "      <td>3</td>\n",
       "      <td>113</td>\n",
       "    </tr>\n",
       "  </tbody>\n",
       "</table>\n",
       "</div>"
      ],
      "text/plain": [
       "           nameOrig     nameDest\n",
       "count       6362620      6362620\n",
       "unique      6353307      2722362\n",
       "top     C1784010646  C1286084959\n",
       "freq              3          113"
      ]
     },
     "execution_count": 7,
     "metadata": {},
     "output_type": "execute_result"
    }
   ],
   "source": [
    "raw_data[['nameOrig', 'nameDest']].describe()"
   ]
  },
  {
   "cell_type": "code",
   "execution_count": 8,
   "metadata": {
    "_cell_guid": "85781b8a-b21a-4232-b888-1324e277c802",
    "_execution_state": "idle",
    "_uuid": "c43c4a879949b0ac1d8c1a1c96ea281068f64f0d",
    "collapsed": false
   },
   "outputs": [
    {
     "name": "stdout",
     "output_type": "stream",
     "text": [
      "data_used shape: (2770409, 8)\n",
      "       type     amount  oldbalanceOrg  newbalanceOrig  oldbalanceDest  \\\n",
      "0  TRANSFER     181.00          181.0             0.0             0.0   \n",
      "1  CASH_OUT     181.00          181.0             0.0         21182.0   \n",
      "2  CASH_OUT  229133.94        15325.0             0.0          5083.0   \n",
      "3  TRANSFER  215310.30          705.0             0.0         22425.0   \n",
      "4  TRANSFER  311685.89        10835.0             0.0          6267.0   \n",
      "\n",
      "   newbalanceDest  isFraud  type_code  \n",
      "0            0.00        1          1  \n",
      "1            0.00        1          0  \n",
      "2        51513.44        0          0  \n",
      "3            0.00        0          1  \n",
      "4      2719172.89        0          1  \n",
      "<class 'pandas.core.frame.DataFrame'>\n",
      "RangeIndex: 2770409 entries, 0 to 2770408\n",
      "Data columns (total 8 columns):\n",
      "type              object\n",
      "amount            float64\n",
      "oldbalanceOrg     float64\n",
      "newbalanceOrig    float64\n",
      "oldbalanceDest    float64\n",
      "newbalanceDest    float64\n",
      "isFraud           int64\n",
      "type_code         int64\n",
      "dtypes: float64(5), int64(2), object(1)\n",
      "memory usage: 169.1+ MB\n",
      "None\n"
     ]
    }
   ],
   "source": [
    "data_used = raw_data.loc[(raw_data['type'].isin(['TRANSFER', 'CASH_OUT'])),:]\n",
    "data_used.drop(['step', 'nameOrig', 'nameDest', 'isFlaggedFraud'], axis=1, inplace=True)\n",
    "\n",
    "data_used = data_used.reset_index(drop=True)\n",
    "\n",
    "type_encoder = preprocessing.LabelEncoder()\n",
    "type_category = type_encoder.fit_transform(data_used['type'].values)\n",
    "data_used['type_code'] = type_category\n",
    "\n",
    "print (\"data_used shape:\", data_used.shape)\n",
    "print(data_used.head())\n",
    "print(data_used.info())"
   ]
  },
  {
   "cell_type": "code",
   "execution_count": 9,
   "metadata": {
    "_cell_guid": "a096ff02-db51-4222-8297-c6f5cd7fc6f6",
    "_execution_state": "idle",
    "_uuid": "1130c40ba8105e3e822a2b4f92281a9f10ce2a7c",
    "collapsed": false
   },
   "outputs": [
    {
     "data": {
      "text/plain": [
       "<matplotlib.axes._subplots.AxesSubplot at 0x7f6883ea2438>"
      ]
     },
     "execution_count": 9,
     "metadata": {},
     "output_type": "execute_result"
    },
    {
     "data": {
      "image/png": "[encoded data removed]",
      "text/plain": [
       "<matplotlib.figure.Figure at 0x7f6883e88c88>"
      ]
     },
     "metadata": {},
     "output_type": "display_data"
    }
   ],
   "source": [
    "sns.heatmap(data_used.corr())"
   ]
  },
  {
   "cell_type": "code",
   "execution_count": 10,
   "metadata": {
    "_cell_guid": "9b5af4cd-f5cb-4656-a5fe-4627812f8662",
    "_execution_state": "idle",
    "_uuid": "02d60ad2bdd5e14f10a71c6cbcfb13b69d2a0b78",
    "collapsed": false
   },
   "outputs": [
    {
     "name": "stdout",
     "output_type": "stream",
     "text": [
      "0    2762196\n",
      "1       8213\n",
      "Name: isFraud, dtype: int64\n"
     ]
    },
    {
     "data": {
      "image/png": "[encoded data removed]",
      "text/plain": [
       "<matplotlib.figure.Figure at 0x7f6883dae630>"
      ]
     },
     "metadata": {},
     "output_type": "display_data"
    }
   ],
   "source": [
    "# check the balance of the data_used\n",
    "print(data_used['isFraud'].value_counts())\n",
    "\n",
    "data_used.isFraud.value_counts().plot.pie(autopct='%.2f',figsize=(5, 5))\n",
    "plt.title('Ratio of class')\n",
    "plt.tight_layout()"
   ]
  },
  {
   "cell_type": "code",
   "execution_count": 11,
   "metadata": {
    "_cell_guid": "39c6ec7f-abca-454e-93bf-8d1c2045d57b",
    "_execution_state": "idle",
    "_uuid": "fa1c29068c633bcefbd89cecab104e1a493c3bd7",
    "collapsed": false
   },
   "outputs": [
    {
     "name": "stdout",
     "output_type": "stream",
     "text": [
      "      amount  oldbalanceOrg  newbalanceOrig  oldbalanceDest  newbalanceDest  \\\n",
      "0      181.0          181.0             0.0             0.0             0.0   \n",
      "1      181.0          181.0             0.0         21182.0             0.0   \n",
      "123   2806.0         2806.0             0.0             0.0             0.0   \n",
      "124   2806.0         2806.0             0.0         26202.0             0.0   \n",
      "192  20128.0        20128.0             0.0             0.0             0.0   \n",
      "\n",
      "     type_code  \n",
      "0            1  \n",
      "1            0  \n",
      "123          1  \n",
      "124          0  \n",
      "192          1  \n",
      "--------------------------------------------------------------------------\n",
      "Ratio of nomal:  0.5\n",
      "Ratio of fraud:  0.5\n",
      "Number of data for model:  16426\n"
     ]
    }
   ],
   "source": [
    "# under sample\n",
    "feature_names = ['amount', 'oldbalanceOrg', 'newbalanceOrig', \n",
    "                 'oldbalanceDest', 'newbalanceDest', 'type_code']\n",
    "number_records_fraud = len(data_used[data_used['isFraud'] == 1])\n",
    "\n",
    "#　indices of fraud_indices\n",
    "fraud_indices = data_used[data_used['isFraud'] == 1].index.values\n",
    "\n",
    "#indices of the normal records\n",
    "nonfraud_indices = data_used[data_used['isFraud'] == 0].index\n",
    "\n",
    "random_nonfraud_indices = np.random.choice(nonfraud_indices, number_records_fraud, replace=False)\n",
    "random_nonfraud_indices = np.array(random_nonfraud_indices)\n",
    "\n",
    "under_sample_indices = np.concatenate([fraud_indices, random_nonfraud_indices])\n",
    "under_sample_data = data_used.iloc[under_sample_indices, :]\n",
    "                          \n",
    "print(under_sample_data[feature_names].head())\n",
    "X_undersample = under_sample_data[feature_names].values\n",
    "y_undersample = under_sample_data['isFraud'].values\n",
    "print(\"--------------------------------------------------------------------------\")\n",
    "\n",
    "print(\"Ratio of nomal: \", len(under_sample_data[under_sample_data['isFraud'] == 0]) / len(under_sample_data))\n",
    "print(\"Ratio of fraud: \", len(under_sample_data[under_sample_data['isFraud'] == 1]) / len(under_sample_data))\n",
    "print(\"Number of data for model: \", len(under_sample_data))\n"
   ]
  },
  {
   "cell_type": "code",
   "execution_count": 12,
   "metadata": {
    "_execution_state": "idle",
    "_uuid": "93f52057de47431c23cf216569508850b0611c71",
    "collapsed": false
   },
   "outputs": [],
   "source": [
    "X_train, X_test, y_train, y_test = train_test_split(X_undersample, y_undersample, test_size=0.3, random_state=100)"
   ]
  },
  {
   "cell_type": "markdown",
   "execution_count": null,
   "metadata": {
    "_execution_state": "idle",
    "_uuid": "22eb224717f09de28fa91255e67b3f4abe02280c",
    "collapsed": false
   },
   "outputs": [],
   "source": [
    "Baseline model: losgistic(auc = 0.97576)"
   ]
  },
  {
   "cell_type": "code",
   "execution_count": 13,
   "metadata": {
    "_execution_state": "idle",
    "_uuid": "2b7469f170103335c12f0bf0fb86f0bc9e1b18c2",
    "collapsed": false
   },
   "outputs": [
    {
     "name": "stdout",
     "output_type": "stream",
     "text": [
      "auc: 0.978174222732\n"
     ]
    },
    {
     "data": {
      "image/png": "[encoded data removed]",
      "text/plain": [
       "<matplotlib.figure.Figure at 0x7f6883d2e278>"
      ]
     },
     "metadata": {},
     "output_type": "display_data"
    },
    {
     "name": "stdout",
     "output_type": "stream",
     "text": [
      "coef_: [[ -9.94911552e-07   2.28116790e-05  -2.22697571e-05   1.12485955e-05\n",
      "   -1.12944154e-05   1.04283399e+00]]\n"
     ]
    }
   ],
   "source": [
    "from sklearn.linear_model import LogisticRegressionCV\n",
    "alpha = np.logspace(-2, 2, 20)\n",
    "lr_model_cv = LogisticRegressionCV(Cs=alpha, penalty='l1', solver='liblinear', cv=5)\n",
    "lr_model_cv.fit(X_train, y_train)\n",
    "\n",
    "y_pred_score_cv = lr_model_cv.predict_proba(X_test)\n",
    "# print('y_pred_score_cv:')\n",
    "# print(y_pred_score_cv)\n",
    "\n",
    "fpr_cv, tpr_cv, thresholds_cv = roc_curve(y_test, y_pred_score_cv[:, 1])\n",
    "roc_auc_cv = auc(fpr_cv,tpr_cv)\n",
    "print('auc:', roc_auc_cv)\n",
    "# 绘制ROC曲线\n",
    "plt.title('Receiver Operating Characteristic')\n",
    "plt.plot(fpr_cv, tpr_cv, 'b',label='AUC = %0.4f'% roc_auc_cv)\n",
    "plt.legend(loc='lower right')\n",
    "plt.plot([0,1],[0,1],'r--')\n",
    "plt.xlim([-0.1,1.0])\n",
    "plt.ylim([-0.1,1.01])\n",
    "plt.ylabel('True Positive Rate')\n",
    "plt.xlabel('False Positive Rate')\n",
    "plt.show()\n",
    "\n",
    "print('coef_:', lr_model_cv.coef_)"
   ]
  },
  {
   "cell_type": "markdown",
   "execution_count": null,
   "metadata": {
    "_execution_state": "idle",
    "_uuid": "e5e953502d6fad622622b081aef324f16ea1b7c1",
    "collapsed": false
   },
   "outputs": [],
   "source": [
    "XGBoost: auc = 0.99831"
   ]
  },
  {
   "cell_type": "code",
   "execution_count": 14,
   "metadata": {
    "_execution_state": "idle",
    "_uuid": "d98ecd25822cb0ed6a2461da4f7de745dbd2fa6d",
    "collapsed": false
   },
   "outputs": [
    {
     "name": "stdout",
     "output_type": "stream",
     "text": [
      "auc_test: 0.998402634327\n",
      "auc_train: 0.999999878972\n",
      "best_params {'max_depth': 12, 'n_estimators': 200}\n",
      "\n",
      "\n",
      "test classification report: \n",
      "              precision    recall  f1-score   support\n",
      "\n",
      "          0       1.00      0.99      0.99      2490\n",
      "          1       0.98      1.00      0.99      2438\n",
      "\n",
      "avg / total       0.99      0.99      0.99      4928\n",
      "\n",
      "train classification report: \n",
      "              precision    recall  f1-score   support\n",
      "\n",
      "          0       1.00      1.00      1.00      5723\n",
      "          1       1.00      1.00      1.00      5775\n",
      "\n",
      "avg / total       1.00      1.00      1.00     11498\n",
      "\n"
     ]
    },
    {
     "data": {
      "image/png": "[encoded data removed]",
      "text/plain": [
       "<matplotlib.figure.Figure at 0x7f6882133c88>"
      ]
     },
     "metadata": {},
     "output_type": "display_data"
    },
    {
     "name": "stdout",
     "output_type": "stream",
     "text": [
      "GridSearchCV(cv=5, error_score='raise',\n",
      "       estimator=XGBClassifier(base_score=0.5, booster='gbtree', colsample_bylevel=1,\n",
      "       colsample_bytree=0.8, gamma=0, learning_rate=0.1, max_delta_step=0,\n",
      "       max_depth=6, min_child_weight=1, missing=None, n_estimators=100,\n",
      "       n_jobs=1, nthread=4, objective='binary:logistic', random_state=0,\n",
      "       reg_alpha=0, reg_lambda=1, scale_pos_weight=1, seed=27, silent=True,\n",
      "       subsample=0.8),\n",
      "       fit_params=None, iid=False, n_jobs=4,\n",
      "       param_grid={'n_estimators': [80, 100, 120, 160, 200], 'max_depth': range(2, 16, 2)},\n",
      "       pre_dispatch='2*n_jobs', refit=True, return_train_score=True,\n",
      "       scoring='roc_auc', verbose=0)\n"
     ]
    }
   ],
   "source": [
    "import xgboost as xgb\n",
    "from sklearn.model_selection import GridSearchCV\n",
    "\n",
    "param_test0b = {    \n",
    "    'n_estimators':[80, 100, 120,160,200],\n",
    "    'max_depth':range(2,16,2),\n",
    "#     'min_child_weight':range(1,8,2),\n",
    "#     'gamma':[0,0.1,0.2,0.3,0.4,0.5,0.6]，\n",
    "#     'subsample':[i/100.0 for i in range(75,90,5)],\n",
    "#     'colsample_bytree':[i/100.0 for i in range(75,90,5)],\n",
    "    \n",
    "#     'reg_alpha':[1e-5, 1e-2, 0.1, 1, 100]\n",
    "}\n",
    "\n",
    "xgb_cv0b = GridSearchCV(estimator=xgb.XGBClassifier(learning_rate =0.1,\n",
    "                                                   n_estimators=100, \n",
    "                                                   max_depth=6,\n",
    "                                                   min_child_weight=1,  \n",
    "                                                   gamma=0, \n",
    "                                                   subsample=0.8,\n",
    "                                                   colsample_bytree=0.8,\n",
    "                                                   objective= 'binary:logistic', \n",
    "                                                   nthread=4,\n",
    "                                                   scale_pos_weight=1, \n",
    "                                                   seed=27),\n",
    "                       param_grid = param_test0b,\n",
    "                       scoring='roc_auc',\n",
    "                       n_jobs=4,\n",
    "                       iid=False, \n",
    "                       cv=5\n",
    "                       )\n",
    "\n",
    "xgb_cv0b.fit(X_train, y_train)\n",
    "test_est_xgb_cv = xgb_cv0b.predict(X_test)\n",
    "test_est_p_xgb_cv = xgb_cv0b.predict_proba(X_test)[:,1]\n",
    "\n",
    "train_est_xgb_cv = xgb_cv0b.predict(X_train)\n",
    "train_est_p_xgb_cv = xgb_cv0b.predict_proba(X_train)[:,1]\n",
    "\n",
    "test_est_xgb_cv = xgb_cv0b.predict(X_test)\n",
    "test_est_p_xgb_cv = xgb_cv0b.predict_proba(X_test)[:,1]\n",
    "\n",
    "train_est_xgb_cv = xgb_cv0b.predict(X_train)\n",
    "train_est_p_xgb_cv = xgb_cv0b.predict_proba(X_train)[:,1]\n",
    "\n",
    "fpr_test_xgb_cv, tpr_test_xgb_cv, th_test_xgb_cv = metrics.roc_curve(y_test, test_est_p_xgb_cv)\n",
    "test_roc_auc_xgb_cv = auc(fpr_test_xgb_cv,tpr_test_xgb_cv)\n",
    "\n",
    "fpr_train_xgb_cv, tpr_train_xgb_cv, th_train_xgb_cv = metrics.roc_curve(y_train, train_est_p_xgb_cv)\n",
    "train_roc_auc_xgb_cv = auc(fpr_train_xgb_cv,tpr_train_xgb_cv)\n",
    "print('auc_test:', test_roc_auc_xgb_cv)\n",
    "print('auc_train:', train_roc_auc_xgb_cv)\n",
    "print('best_params',xgb_cv0b.best_params_)\n",
    "print('\\n')\n",
    "print('test classification report: \\n',metrics.classification_report(y_test, test_est_xgb_cv))\n",
    "print('train classification report: \\n',metrics.classification_report(y_train, train_est_xgb_cv))\n",
    "\n",
    "# 绘制ROC曲线\n",
    "plt.title('Receiver Operating Characteristic')\n",
    "plt.plot(fpr_test_xgb_cv, tpr_test_xgb_cv, color=\"k\",label='AUC_test = %0.5f'% test_roc_auc_xgb_cv)\n",
    "plt.plot(fpr_train_xgb_cv, tpr_train_xgb_cv, color=\"y\",label='AUC_test = %0.5f'% train_roc_auc_xgb_cv)\n",
    "plt.legend(loc='lower right')\n",
    "plt.plot([0,1],[0,1],'r--')\n",
    "plt.xlim([-0.1,1.0])\n",
    "plt.ylim([-0.1,1.01])\n",
    "plt.ylabel('True Positive Rate')\n",
    "plt.xlabel('False Positive Rate')\n",
    "plt.show()\n",
    "print(xgb_cv0b)"
   ]
  }
 ],
 "metadata": {
  "_change_revision": 0,
  "_is_fork": false,
  "kernelspec": {
   "display_name": "Python 3",
   "language": "python",
   "name": "python3"
  },
  "language_info": {
   "codemirror_mode": {
    "name": "ipython",
    "version": 3
   },
   "file_extension": ".py",
   "mimetype": "text/x-python",
   "name": "python",
   "nbconvert_exporter": "python",
   "pygments_lexer": "ipython3",
   "version": "3.6.1"
  }
 },
 "nbformat": 4,
 "nbformat_minor": 0
}

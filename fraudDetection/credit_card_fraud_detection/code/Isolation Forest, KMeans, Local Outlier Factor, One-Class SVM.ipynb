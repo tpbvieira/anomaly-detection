{
 "cells": [
  {
   "cell_type": "code",
   "execution_count": 1,
   "metadata": {
    "_cell_guid": "b1076dfc-b9ad-4769-8c92-a6c4dae69d19",
    "_uuid": "8f2839f25d086af736a60e9eeb907d3b93b6e0e5"
   },
   "outputs": [
    {
     "name": "stdout",
     "output_type": "stream",
     "text": [
      "['creditcard.csv']\n"
     ]
    }
   ],
   "source": [
    "##All General Import Statements\n",
    "import pandas as pd\n",
    "import numpy as np\n",
    "import math\n",
    "import random\n",
    "%matplotlib inline\n",
    "import random\n",
    "from matplotlib import pyplot\n",
    "import os\n",
    "print(os.listdir(\"../input\"))"
   ]
  },
  {
   "cell_type": "markdown",
   "metadata": {
    "_cell_guid": "79c7e3d0-c299-4dcb-8224-4455121ee9b0",
    "_uuid": "d629ff2d2480ee46fbb7e2d37f6b5fab8052498a",
    "collapsed": true
   },
   "source": [
    "# Anomaly Detection Algorithms: Isolation Forest vs the Rest"
   ]
  },
  {
   "cell_type": "markdown",
   "metadata": {
    "_cell_guid": "51597ace-db1c-4bb6-bfcc-ef80888318ae",
    "_uuid": "b5a26893df3e789db52f414c3bd9ad0a33192174"
   },
   "source": [
    "<p>This notebook shows a simplified implementation of the algorithm Isolation Forest and compares its Scikit-learn implementation with other popular anomaly detection algorithms. (KMeans, Local Outlier Factor, One-Class SVM)</p>"
   ]
  },
  {
   "cell_type": "markdown",
   "metadata": {
    "_cell_guid": "0a6767c4-59bf-424a-b528-5f23f7c77e05",
    "_uuid": "5eb32b0426d5808a32cae7715b93782bc56cbf3c"
   },
   "source": [
    "## Isolation Forests in Python"
   ]
  },
  {
   "cell_type": "markdown",
   "metadata": {
    "_cell_guid": "57188d78-4ec3-4252-845d-4da4753712ad",
    "_uuid": "b0d953c2647f835df03f2277b733505227a1419e"
   },
   "source": [
    "The Algorithm has 3 parts:\n",
    "    1. Forest\n",
    "    2. Isolation Tree\n",
    "    3. Evaluation (Path Length)"
   ]
  },
  {
   "cell_type": "markdown",
   "metadata": {
    "_cell_guid": "5401b624-f184-4c3e-92ee-03a575f860e3",
    "_uuid": "5e706fb54f2082cc2a06dc21fee0f10e75f4cc46"
   },
   "source": [
    "### Common Classes"
   ]
  },
  {
   "cell_type": "markdown",
   "metadata": {
    "_cell_guid": "fb6bebee-78d7-4fb8-8e23-6afddd9bcd18",
    "_uuid": "5cdf80e854ba266938d7c06c2fd46734806932e4"
   },
   "source": [
    "The below code defines classes for external and internal nodes"
   ]
  },
  {
   "cell_type": "code",
   "execution_count": 2,
   "metadata": {
    "_cell_guid": "c503afb8-44ce-4fd7-b982-05c96686bce8",
    "_uuid": "3b6b1a66a377870f9b23a12538a192d28a5044bc"
   },
   "outputs": [],
   "source": [
    "class ExNode:\n",
    "    def __init__(self,size):\n",
    "        self.size=size\n",
    "        \n",
    "class InNode:\n",
    "    def __init__(self,left,right,splitAtt,splitVal):\n",
    "        self.left=left\n",
    "        self.right=right\n",
    "        self.splitAtt=splitAtt\n",
    "        self.splitVal=splitVal"
   ]
  },
  {
   "cell_type": "markdown",
   "metadata": {
    "_cell_guid": "48ed0823-f2cc-4ff5-9d4b-43701552416c",
    "_uuid": "744502f951d596db83cf82ffec2cbc898ecc5885"
   },
   "source": [
    "### Forest"
   ]
  },
  {
   "cell_type": "code",
   "execution_count": 3,
   "metadata": {
    "_cell_guid": "6adf9ec9-a156-4aa9-a75d-bc441df999a5",
    "_uuid": "295b36c553de744afc226263850037290b49ab92"
   },
   "outputs": [],
   "source": [
    "def iForest(X,noOfTrees,sampleSize):\n",
    "    forest=[]\n",
    "    hlim=math.ceil(math.log(sampleSize,2))\n",
    "    for i in range(noOfTrees):\n",
    "        X_train=df_data.sample(sampleSize)\n",
    "        forest.append(iTree(X_train,0,hlim))\n",
    "    return forest"
   ]
  },
  {
   "cell_type": "markdown",
   "metadata": {
    "_cell_guid": "ea1015ac-1966-4f7d-8bd7-d6949e29d70c",
    "_uuid": "433bd340e2dbb1bca6d3f75695da9896f4fdb566"
   },
   "source": [
    "### Isolation Tree"
   ]
  },
  {
   "cell_type": "code",
   "execution_count": 4,
   "metadata": {
    "_cell_guid": "2f4386ae-2a4d-46e9-bb21-de82960af35e",
    "_uuid": "8fa24a94ee6e5cd622bcbb22ae107561007d9901"
   },
   "outputs": [],
   "source": [
    "def iTree(X,currHeight,hlim):\n",
    "    if currHeight>=hlim or len(X)<=1:\n",
    "        return ExNode(len(X))\n",
    "    else:\n",
    "        Q=X.columns\n",
    "        q=random.choice(Q)\n",
    "        p=random.choice(X[q].unique())\n",
    "        X_l=X[X[q]<p]\n",
    "        X_r=X[X[q]>=p]\n",
    "        return InNode(iTree(X_l,currHeight+1,hlim),iTree(X_r,currHeight+1,hlim),q,p)"
   ]
  },
  {
   "cell_type": "markdown",
   "metadata": {
    "_cell_guid": "779246a7-781a-4edd-a07f-4cd96f58cfa2",
    "_uuid": "f24f67fe0c9812c46fd06c00ed2c2c8e2c46f081"
   },
   "source": [
    "### Path Length"
   ]
  },
  {
   "cell_type": "code",
   "execution_count": 5,
   "metadata": {
    "_cell_guid": "d9bccec2-af04-4b0c-b0c1-43ea396ec8d5",
    "_uuid": "f6b4b6bdc56c1a9828ff98eb806c5e1fa1ba8761"
   },
   "outputs": [],
   "source": [
    "def pathLength(x,Tree,currHeight):\n",
    "    if isinstance(Tree,ExNode):\n",
    "        return currHeight\n",
    "    a=Tree.splitAtt\n",
    "    if x[a]<Tree.splitVal:\n",
    "        return pathLength(x,Tree.left,currHeight+1)\n",
    "    else:\n",
    "        return pathLength(x,Tree.right,currHeight+1)"
   ]
  },
  {
   "cell_type": "markdown",
   "metadata": {
    "_cell_guid": "f58277de-5872-48ed-8b1a-1b693f66e6d6",
    "_uuid": "d6712ff6e9a54257ef804264543c5eedbf19aba5"
   },
   "source": [
    "## Test Run"
   ]
  },
  {
   "cell_type": "markdown",
   "metadata": {
    "_cell_guid": "1885322a-6620-4694-89b1-861fc671c126",
    "_uuid": "56b9b449b538a6dd60f5f6d0b3688da65e832942"
   },
   "source": [
    "Let us now test the algorithm on a test dataset.\n",
    "Source: https://www.kaggle.com/dalpozz/creditcardfraud"
   ]
  },
  {
   "cell_type": "code",
   "execution_count": 6,
   "metadata": {
    "_cell_guid": "b4d647aa-fdd5-4e78-914d-715a8e2579c0",
    "_uuid": "5a295f6d45be752095da313c704a7b0b8734b6bc"
   },
   "outputs": [],
   "source": [
    "df=pd.read_csv(\"../input/creditcard.csv\")\n",
    "y_true=df['Class']\n",
    "df_data=df.drop('Class',1)"
   ]
  },
  {
   "cell_type": "markdown",
   "metadata": {
    "_cell_guid": "52ad61e8-e7d4-4149-84cc-b6d87278485e",
    "_uuid": "2183258a5cbcddd1963d6c4bfeb647315046bc1e"
   },
   "source": [
    "Next, we create the forest."
   ]
  },
  {
   "cell_type": "code",
   "execution_count": 7,
   "metadata": {
    "_cell_guid": "29be2a8e-6df4-46aa-82b8-8486e6141bdd",
    "_uuid": "5840afc723acd274db093f7d4d13a6a098326ea0"
   },
   "outputs": [],
   "source": [
    "sampleSize=10000\n",
    "ifor = iForest(df_data.sample(100000),10,sampleSize) ##Forest of 10 trees"
   ]
  },
  {
   "cell_type": "markdown",
   "metadata": {
    "_cell_guid": "7b1a7da5-a277-4781-b184-61fdb842f8c7",
    "_uuid": "46b8d7b1ed8b33cf787c4d250af91f83270e06fb"
   },
   "source": [
    "Next, we select 1000 random datapoints and get their path lengths. The purpose for this is to plot and see if anomalies actually have shorter path lengths."
   ]
  },
  {
   "cell_type": "code",
   "execution_count": 8,
   "metadata": {
    "_cell_guid": "898af762-2a51-4f1e-a8c6-4d7d01e67fc9",
    "_uuid": "51dc6a3b53c6f3fd55a8b5da01fa6d8a44f229cd"
   },
   "outputs": [],
   "source": [
    "posLenLst=[]\n",
    "negLenLst=[]\n",
    "\n",
    "for sim in range(1000):\n",
    "    ind=random.choice(df_data[y_true==1].index)\n",
    "    for tree in ifor:\n",
    "        posLenLst.append(pathLength(df_data.iloc[ind],tree,0))\n",
    "        \n",
    "    ind=random.choice(df_data[y_true==0].index)\n",
    "    for tree in ifor:\n",
    "        negLenLst.append(pathLength(df_data.iloc[ind],tree,0))"
   ]
  },
  {
   "cell_type": "markdown",
   "metadata": {
    "_cell_guid": "0c8a7daa-c64f-4310-9f6c-86e12820fa98",
    "_uuid": "16556fb64b274e15b98b42a300f9b50444bd4019"
   },
   "source": [
    "Finally, we plot the path lengths."
   ]
  },
  {
   "cell_type": "code",
   "execution_count": 9,
   "metadata": {
    "_cell_guid": "b13a17f9-9f11-4701-89a5-6323416d932a",
    "_uuid": "8b75a0f90c32773dc3a5e790f1faab54c5a75e66"
   },
   "outputs": [
    {
     "data": {
      "text/plain": [
       "<matplotlib.legend.Legend at 0x7f303cd0de10>"
      ]
     },
     "execution_count": 9,
     "metadata": {},
     "output_type": "execute_result"
    },
    {
     "data": {
      "image/png": "[encoded data removed]",
      "text/plain": [
       "<matplotlib.figure.Figure at 0x7f3001d50748>"
      ]
     },
     "metadata": {},
     "output_type": "display_data"
    }
   ],
   "source": [
    "bins = np.linspace(0,math.ceil(math.log(sampleSize,2)), math.ceil(math.log(sampleSize,2)))\n",
    "\n",
    "pyplot.figure(figsize=(12,8))\n",
    "pyplot.hist(posLenLst, bins, alpha=0.5, label='Anomaly')\n",
    "pyplot.hist(negLenLst, bins, alpha=0.5, label='Normal')\n",
    "pyplot.xlabel('Path Length')\n",
    "pyplot.ylabel('Frequency')\n",
    "pyplot.legend(loc='upper left')"
   ]
  },
  {
   "cell_type": "markdown",
   "metadata": {
    "_cell_guid": "44bc52cc-ee4e-457f-b2a2-9e3e9f9f288f",
    "_uuid": "2e9879d52665b6667c994860c25068d76b1f7866"
   },
   "source": [
    "Anomalies do seem to have a lower path length. Not bad for random division!"
   ]
  },
  {
   "cell_type": "markdown",
   "metadata": {
    "_cell_guid": "475a106d-ab55-4321-bdc9-6dd3dd9389bd",
    "_uuid": "e9620b249c239fa93f6a262b29663a332f9cf1d6"
   },
   "source": [
    "#### Notes:"
   ]
  },
  {
   "cell_type": "markdown",
   "metadata": {
    "_cell_guid": "38d5a51d-5462-474a-bd0f-3275c698a5b5",
    "_uuid": "d299377f28833af98507c7b4f2e3482f20bde462"
   },
   "source": [
    "The above implementation ignores three aspects of the actual algorithm fo the sake of simplicity.\n",
    "1. The average depth needs to be added to the depth once the current length hits the height limit\n",
    "2. The path lengths are not normalized between trees and hence the actual values are used for plotting\n",
    "3. The authors of the paper suggest using kurtosis to select features as a refinement over random selection"
   ]
  },
  {
   "cell_type": "markdown",
   "metadata": {
    "_cell_guid": "f9fa6258-9b16-4dd2-b1c7-0b98ed4086ea",
    "_uuid": "3b18dd45c14398a0afa398bf5150291ff54ae1e4"
   },
   "source": [
    "## Plotting the Data"
   ]
  },
  {
   "cell_type": "markdown",
   "metadata": {
    "_cell_guid": "c163e219-0be5-45db-bb42-3af9152f150c",
    "_uuid": "6f1a665571985cd3f59e47fbdeb1d93032b21700"
   },
   "source": [
    "Using a technique called T-SNE, we can reduce the dimensions of the data and create a 2D plot. The objective here is to show that distance based anomaly detection methods might not work as well as other techniques on this dataset. This is because the positive cases are not too far away from the normal cases."
   ]
  },
  {
   "cell_type": "code",
   "execution_count": 10,
   "metadata": {
    "_cell_guid": "49a5e240-c364-428e-8e97-8d5b3442c133",
    "_uuid": "bdab542bfaa77c188698abd80050f7e9ddf6f25c"
   },
   "outputs": [],
   "source": [
    "df_plt = df[df['Class']==0].sample(1000)\n",
    "df_plt_pos = df[df['Class']==1].sample(20)\n",
    "df_plt = pd.concat([df_plt,df_plt_pos])\n",
    "y_plt = df_plt['Class']\n",
    "X_plt = df_plt.drop('Class',1)"
   ]
  },
  {
   "cell_type": "code",
   "execution_count": 11,
   "metadata": {
    "_cell_guid": "99a3d29b-2a61-4a56-91c6-803757498543",
    "_uuid": "9639620a9989dcc39e7cf7e25d71cb24b70912bc"
   },
   "outputs": [],
   "source": [
    "from sklearn.manifold import TSNE\n",
    "X_embedded = TSNE(n_components=2).fit_transform(X_plt)"
   ]
  },
  {
   "cell_type": "code",
   "execution_count": 12,
   "metadata": {
    "_cell_guid": "09ef66ac-6bd9-4f14-b18c-c5d4294af071",
    "_uuid": "8e6823f7560b1a4e72d7271d350f2f5a47f4ac43"
   },
   "outputs": [
    {
     "data": {
      "text/plain": [
       "<matplotlib.colorbar.Colorbar at 0x7f2ff35850b8>"
      ]
     },
     "execution_count": 12,
     "metadata": {},
     "output_type": "execute_result"
    },
    {
     "data": {
      "image/png": "[encoded data removed]",
      "text/plain": [
       "<matplotlib.figure.Figure at 0x7f2ff4968be0>"
      ]
     },
     "metadata": {},
     "output_type": "display_data"
    }
   ],
   "source": [
    "pyplot.figure(figsize=(12,8))\n",
    "pyplot.scatter(X_embedded[:,0], X_embedded[:,1], c=y_plt, cmap=pyplot.cm.get_cmap(\"Paired\", 2))\n",
    "pyplot.colorbar(ticks=range(2))"
   ]
  },
  {
   "cell_type": "markdown",
   "metadata": {
    "_cell_guid": "6c66d785-5527-4f48-bfcb-76f644bbde9d",
    "_uuid": "a6450f3c3f844d5e8846e133e1b1591adb5dd831"
   },
   "source": [
    "## Time for the Real Fight!"
   ]
  },
  {
   "cell_type": "markdown",
   "metadata": {
    "_cell_guid": "ed41c041-92c2-4475-a613-d06f48b43d57",
    "_uuid": "eba4bbaa3dda1577c5797783d28ab24202d2fd62"
   },
   "source": [
    "To keep things even, all of the algorithms are run with their default parameters."
   ]
  },
  {
   "cell_type": "markdown",
   "metadata": {
    "_cell_guid": "38ccdecd-6cc5-4d9e-b61f-0cf6a9f4fae3",
    "_uuid": "f20b14f5b5426ad31ecacd61a794b426e2351ff0"
   },
   "source": [
    "Let's start by importing the scikit-learn implementations of all 4 algorithms."
   ]
  },
  {
   "cell_type": "markdown",
   "metadata": {
    "_cell_guid": "1dd4c391-2656-4746-8f92-1d713b44492a",
    "_uuid": "5605915d2edb758623cbf4e8f907d8170ee38889"
   },
   "source": [
    "Next, let's create a train and test dataset."
   ]
  },
  {
   "cell_type": "code",
   "execution_count": 13,
   "metadata": {
    "_cell_guid": "ec02afde-f1f4-4ea8-98e9-5dcc35c9b510",
    "_uuid": "9f5aa9ec82465700c9b9f2ca1305e7408d88a121"
   },
   "outputs": [],
   "source": [
    "from sklearn.ensemble import IsolationForest\n",
    "from sklearn.svm import OneClassSVM\n",
    "from sklearn.neighbors import LocalOutlierFactor ## Only available with scikit-learn 0.19 and later\n",
    "from sklearn.cluster import KMeans\n",
    "from sklearn.metrics import f1_score\n",
    "from sklearn.model_selection import train_test_split"
   ]
  },
  {
   "cell_type": "markdown",
   "metadata": {
    "_cell_guid": "7f34e71d-f39d-43f6-ae93-a20ea51d626b",
    "_uuid": "f770fc43467b3a666981c72bceeccbaedcf65356"
   },
   "source": [
    "Finally, let's create a few helper functions that help with training and testing the models. The preprocess function is not used in this notebook but it might help improve the scores on the KMeans and One Class SVM models."
   ]
  },
  {
   "cell_type": "code",
   "execution_count": 14,
   "metadata": {
    "_cell_guid": "c9d25b03-9223-40cc-a101-5f55b977dbde",
    "_uuid": "9b9c37df64fc0cddbfb3feca93bcb142da57f270"
   },
   "outputs": [],
   "source": [
    "## Not required for Isolation Forest\n",
    "def preprocess(df_data):\n",
    "    for col in df_data:\n",
    "        df_data[col] = (df_data[col] - np.min(df_data[col]))/(np.max(df_data[col]) - np.min(df_data[col]))\n",
    "    return"
   ]
  },
  {
   "cell_type": "markdown",
   "metadata": {
    "_cell_guid": "06776668-4513-4109-931c-160e4247c085",
    "_uuid": "5c9f1ce9f8809b7fa715468ef24d7e5753c5021b"
   },
   "source": [
    "<b>Note:</b> The below train and predict functions are designed to output ensemble models (bagged models), with the default size being 5 models. The Isolation Forest and One Class SVM use these functions."
   ]
  },
  {
   "cell_type": "code",
   "execution_count": 15,
   "metadata": {
    "_cell_guid": "c7b61f65-46ba-411a-942d-cfff8a1e290b",
    "_uuid": "4565902b66a86eba31a7b09bbd90db68e2923cca"
   },
   "outputs": [],
   "source": [
    "## Not valid for LOF\n",
    "def train(X,clf,ensembleSize=5,sampleSize=10000):\n",
    "    mdlLst=[]\n",
    "    for n in range(ensembleSize):\n",
    "        X= df_data.sample(sampleSize)\n",
    "        clf.fit(X)\n",
    "        mdlLst.append(clf)\n",
    "    return mdlLst\n",
    "\n",
    "## Not valif for LOF\n",
    "def predict(X,mdlLst):\n",
    "    y_pred=np.zeros(X.shape[0])\n",
    "    for clf in mdlLst:\n",
    "        y_pred=np.add(y_pred,clf.decision_function(X).reshape(X.shape[0],))\n",
    "    y_pred=(y_pred*1.0)/len(mdlLst)\n",
    "    return y_pred"
   ]
  },
  {
   "cell_type": "code",
   "execution_count": null,
   "metadata": {},
   "outputs": [],
   "source": [
    "X_train, X_test, y_train, y_test = train_test_split(df_data, y_true, test_size=0.3, random_state=42)"
   ]
  },
  {
   "cell_type": "markdown",
   "metadata": {
    "_cell_guid": "ea911ef4-f4cc-4388-bf8d-58f1fb075d38",
    "_uuid": "c92dbe4e580bd0526ed1d2d40dae699a389ebc55"
   },
   "source": [
    "#### Isolation Forest"
   ]
  },
  {
   "cell_type": "code",
   "execution_count": 16,
   "metadata": {
    "_cell_guid": "41633412-ca55-4daa-8087-059aac9e0d27",
    "_uuid": "d6edbea75777eea1556e652cb900ec8b081b217c"
   },
   "outputs": [],
   "source": [
    "ifModel = IsolationForest(n_estimators=100, max_samples='auto', contamination=0.01, \\\n",
    "                        max_features=1.0, bootstrap=False, n_jobs=-1, random_state=42, verbose=0)"
   ]
  },
  {
   "cell_type": "markdown",
   "metadata": {
    "_cell_guid": "e585ebd2-8b36-4bc4-88b4-d30194dd5c79",
    "_uuid": "df3a2bfff2f8299018330390616d5fd23551f6ce"
   },
   "source": [
    "<b>Note:</b> The magic function timeit does not let us use any variable that is created in the timeit cell. Hence, ecery cell with a timeit magic function will have a corresponding regular cell with the same code."
   ]
  },
  {
   "cell_type": "code",
   "execution_count": 17,
   "metadata": {
    "_cell_guid": "3ccb4341-a2d3-41dd-8073-a7d306cf0921",
    "_uuid": "3226bd047426cf5f2a915ea0e24eb35966929e62"
   },
   "outputs": [],
   "source": [
    "if_mdlLst = train(X_train, ifModel)"
   ]
  },
  {
   "cell_type": "code",
   "execution_count": 18,
   "metadata": {
    "_cell_guid": "7dcad90c-9f69-4e13-84ec-4ae4fa8ff0fc",
    "_uuid": "74a40a3f9d9a3320fa611c7f022d74d49ed02d6e"
   },
   "outputs": [],
   "source": [
    "if_y_pred = predict(X_test, if_mdlLst)\n",
    "if_y_pred = 1-if_y_pred\n",
    "\n",
    "#Creating class labels based on decision function\n",
    "if_y_pred_class=if_y_pred.copy()\n",
    "if_y_pred_class[if_y_pred>=np.percentile(if_y_pred,95)]=1\n",
    "if_y_pred_class[if_y_pred<np.percentile(if_y_pred,95)]=0"
   ]
  },
  {
   "cell_type": "code",
   "execution_count": 19,
   "metadata": {
    "_cell_guid": "57b4d34d-2e2f-4fa6-8807-6ff326271e68",
    "_uuid": "b09730e14c6bad13cf6742f809a7b9570f72c26b"
   },
   "outputs": [],
   "source": [
    "if_y_pred=predict(X_test,if_mdlLst)\n",
    "if_y_pred=1-if_y_pred\n",
    "\n",
    "#Creating class labels based on decision function\n",
    "if_y_pred_class=if_y_pred.copy()\n",
    "if_y_pred_class[if_y_pred>=np.percentile(if_y_pred,95)]=1\n",
    "if_y_pred_class[if_y_pred<np.percentile(if_y_pred,95)]=0"
   ]
  },
  {
   "cell_type": "code",
   "execution_count": 20,
   "metadata": {
    "_cell_guid": "66ee10bf-ecf8-4230-9465-54269a6e276a",
    "_uuid": "6baa55e5fa91614b6d6b6888c632389dda1b6f33"
   },
   "outputs": [],
   "source": [
    "from sklearn.metrics import classification_report, average_precision_score, f1_score, recall_score, precision_score\n",
    "def print_classification_report(y_test, y_predic):\n",
    "    print('Classification report:')\n",
    "    print(classification_report(y_test, y_predic))\n",
    "\n",
    "    print('Average Precision = ' + str(average_precision_score(y_test, y_predic)))\n",
    "\n",
    "    print('\\nBinary F1 Score, Recall and Precision:')\n",
    "    f = f1_score(y_test, y_predic, average = \"binary\")\n",
    "    Recall = recall_score(y_test, y_predic, average = \"binary\")\n",
    "    Precision = precision_score(y_test, y_predic, average = \"binary\")\n",
    "    print('F1 Score %f' %f)\n",
    "    print('Recall Score %f' %Recall)\n",
    "    print('Precision Score %f' %Precision)\n",
    "\n",
    "    print('\\nMicro F1 Score, Recall and Precision:')\n",
    "    f = f1_score(y_test, y_predic, average = \"micro\")\n",
    "    Recall = recall_score(y_test, y_predic, average = \"micro\")\n",
    "    Precision = precision_score(y_test, y_predic, average = \"micro\")\n",
    "    print('F1 Score %f' %f)\n",
    "    print('Recall Score %f' %Recall)\n",
    "    print('Precision Score %f' %Precision)\n",
    "\n",
    "    print('\\nMacro F1 Score, Recall and Precision:')\n",
    "    f = f1_score(y_test, y_predic, average = \"macro\")\n",
    "    Recall = recall_score(y_test, y_predic, average = \"macro\")\n",
    "    Precision = precision_score(y_test, y_predic, average = \"macro\")\n",
    "    print('F1 Score %f' %f)\n",
    "    print('Recall Score %f' %Recall)\n",
    "    print('Precision Score %f' %Precision)"
   ]
  },
  {
   "cell_type": "code",
   "execution_count": 21,
   "metadata": {
    "_cell_guid": "9c226f2f-b03d-4efd-a7d1-9ae2aaca260b",
    "_uuid": "45edb5aef17a1dcc0817805fc25bd4c08b8391f6"
   },
   "outputs": [
    {
     "name": "stdout",
     "output_type": "stream",
     "text": [
      "Classification report:\n",
      "             precision    recall  f1-score   support\n",
      "\n",
      "          0       1.00      0.95      0.97     85307\n",
      "          1       0.03      0.88      0.05       136\n",
      "\n",
      "avg / total       1.00      0.95      0.97     85443\n",
      "\n",
      "Average Precision = 0.024966653899278626\n",
      "\n",
      "Binary F1 Score, Recall and Precision:\n",
      "F1 Score 0.054434\n",
      "Recall Score 0.882353\n",
      "Precision Score 0.028083\n",
      "\n",
      "Micro F1 Score, Recall and Precision:\n",
      "F1 Score 0.951207\n",
      "Recall Score 0.951207\n",
      "Precision Score 0.951207\n",
      "\n",
      "Macro F1 Score, Recall and Precision:\n",
      "F1 Score 0.514696\n",
      "Recall Score 0.916835\n",
      "Precision Score 0.513943\n"
     ]
    }
   ],
   "source": [
    "print_classification_report(y_test, if_y_pred_class)"
   ]
  },
  {
   "cell_type": "markdown",
   "metadata": {
    "_cell_guid": "b20124a9-964a-40f9-8fc2-ab48810817fc",
    "_uuid": "bab606524762a2c45a58e8a8f8fbae7f116894a4"
   },
   "source": [
    "#### KMeans"
   ]
  },
  {
   "cell_type": "markdown",
   "metadata": {
    "_cell_guid": "e536b129-d19b-49d2-8107-1026c50d6784",
    "_uuid": "93169598c9b25e0e041f9a750eb0519f2fcaf335"
   },
   "source": [
    "The top 5% of the farthest point from cluster centers are itentified as fraud (outliers)"
   ]
  },
  {
   "cell_type": "code",
   "execution_count": 23,
   "metadata": {
    "_cell_guid": "256a02ae-f67e-42a2-984f-c3582c7427ab",
    "_uuid": "7cc3539b7a247a5104017b36e363b131330ea374"
   },
   "outputs": [],
   "source": [
    "kmeans = KMeans(n_clusters=8, random_state=42,n_jobs=-1).fit(X_train)"
   ]
  },
  {
   "cell_type": "code",
   "execution_count": 24,
   "metadata": {
    "_cell_guid": "dddc5aea-5676-4b46-a373-ccb3b3825496",
    "_uuid": "23c8d87ed6b3c84a1e31c9a4952f69910a985b95"
   },
   "outputs": [],
   "source": [
    "X_test_clusters=kmeans.predict(X_test)\n",
    "X_test_clusters_centers = kmeans.cluster_centers_\n",
    "dist = [np.linalg.norm(x-y) for x,y in zip(X_test.as_matrix(),X_test_clusters_centers[X_test_clusters])]\n",
    "\n",
    "km_y_pred=np.array(dist)\n",
    "km_y_pred[dist>=np.percentile(dist,95)]=1\n",
    "km_y_pred[dist<np.percentile(dist,95)]=0"
   ]
  },
  {
   "cell_type": "markdown",
   "metadata": {
    "_cell_guid": "d440bf60-90c9-453f-811d-08886a7ba655",
    "_uuid": "32972fdea5821d630e57eedcbe8966a99c906f6e"
   },
   "source": [
    "#### LOF"
   ]
  },
  {
   "cell_type": "markdown",
   "metadata": {
    "_cell_guid": "2d370adb-29fa-49af-8d1b-d603b6b5ae22",
    "_uuid": "d57fd4fde5dc04e7969faab0fd286d3e9d481ebe"
   },
   "source": [
    "Local Outlier Factor only looks at the local neighbourhood of a data point and hence cannot make predictions on out of sample data points. Hence we work directly with X_test here."
   ]
  },
  {
   "cell_type": "code",
   "execution_count": 28,
   "metadata": {
    "_cell_guid": "544ffd25-cda4-404c-a14d-802edaa86aba",
    "_uuid": "af7efe1d42c4f9964a18c0549a16b150b368f530"
   },
   "outputs": [],
   "source": [
    "clf=LocalOutlierFactor(n_neighbors=20, algorithm='auto', leaf_size=30, \\\n",
    "                   metric='minkowski', p=2, metric_params=None, contamination=0.1, n_jobs=-1)"
   ]
  },
  {
   "cell_type": "code",
   "execution_count": 29,
   "metadata": {
    "_cell_guid": "95af508c-cfc7-440a-8b5b-8db316178828",
    "_uuid": "d1630e479ebb4a19cf1fd06446933c72dd927a1b"
   },
   "outputs": [
    {
     "data": {
      "text/plain": [
       "LocalOutlierFactor(algorithm='auto', contamination=0.1, leaf_size=30,\n",
       "          metric='minkowski', metric_params=None, n_jobs=-1,\n",
       "          n_neighbors=20, p=2)"
      ]
     },
     "execution_count": 29,
     "metadata": {},
     "output_type": "execute_result"
    }
   ],
   "source": [
    "clf.fit(X_test)"
   ]
  },
  {
   "cell_type": "code",
   "execution_count": 30,
   "metadata": {
    "_cell_guid": "29633d28-76c9-4b61-bb25-ac43b606a5aa",
    "_uuid": "71aee18ce70f6e62566a025712f699a708fc3ac4"
   },
   "outputs": [],
   "source": [
    "lof_y_pred=clf.negative_outlier_factor_\n",
    "\n",
    "#Creating class labels based on decision function\n",
    "lof_y_pred_class=lof_y_pred.copy()\n",
    "lof_y_pred_class[lof_y_pred>=np.percentile(lof_y_pred,95)]=1\n",
    "lof_y_pred_class[lof_y_pred<np.percentile(lof_y_pred,95)]=0"
   ]
  },
  {
   "cell_type": "code",
   "execution_count": 31,
   "metadata": {
    "_cell_guid": "ee6179fd-29cc-4110-98cf-5273daf7eaba",
    "_uuid": "4cf611375cb843ad9d086e1b0de2716dc6ffdc39"
   },
   "outputs": [],
   "source": [
    "lof_y_pred=clf.negative_outlier_factor_\n",
    "\n",
    "#Creating class labels based on decision function\n",
    "lof_y_pred_class=lof_y_pred.copy()\n",
    "lof_y_pred_class[lof_y_pred>=np.percentile(lof_y_pred,95)]=1\n",
    "lof_y_pred_class[lof_y_pred<np.percentile(lof_y_pred,95)]=0"
   ]
  },
  {
   "cell_type": "markdown",
   "metadata": {
    "_cell_guid": "57b5bcfd-9141-425f-a591-ca5c2115806e",
    "_uuid": "1e9e944deeaffa41e7a5ac578fd0a706b8afc9d3"
   },
   "source": [
    "#### One-Class SVM*"
   ]
  },
  {
   "cell_type": "markdown",
   "metadata": {
    "_cell_guid": "35aac6f7-e4d3-4de7-9805-cd3b9540d30f",
    "_uuid": "51b4ff70e850624b3fe27983d4bb66f6df31fc1c"
   },
   "source": [
    "##### *Any kernel except linear will take a while. Feel free to grab a coffee, if you decide to change the kernel type"
   ]
  },
  {
   "cell_type": "code",
   "execution_count": 35,
   "metadata": {
    "_cell_guid": "3058fa30-566e-48fc-804e-777f586150b1",
    "_uuid": "3bf368b3f9b0239dc4ea2f64eead81e9a16a8efc"
   },
   "outputs": [],
   "source": [
    "alg=OneClassSVM(kernel='linear',gamma='auto', coef0=0.0, tol=0.001, nu=0.5, \\\n",
    "                shrinking=True, cache_size=200, verbose=False, max_iter=-1, random_state=42)"
   ]
  },
  {
   "cell_type": "code",
   "execution_count": 36,
   "metadata": {
    "_cell_guid": "542c3efc-a8d8-452d-839d-03b7ec6f6cbe",
    "_uuid": "dacd2c39d995b46717982256110aaa94590bd319"
   },
   "outputs": [],
   "source": [
    "osvm_mdlLst=train(X_train,alg)"
   ]
  },
  {
   "cell_type": "code",
   "execution_count": 37,
   "metadata": {
    "_cell_guid": "f60066be-58f3-451f-871c-39c501ec4d40",
    "_uuid": "0c0d938e412cf88affb87000dceceb7ac59801ec"
   },
   "outputs": [],
   "source": [
    "osvm_y_pred=predict(X_test,osvm_mdlLst)\n",
    "\n",
    "#Creating class labels based on decision function\n",
    "osvm_y_pred_class=osvm_y_pred.copy()\n",
    "osvm_y_pred_class[osvm_y_pred<0]=1\n",
    "osvm_y_pred_class[osvm_y_pred>=0]=0"
   ]
  },
  {
   "cell_type": "code",
   "execution_count": 38,
   "metadata": {
    "_cell_guid": "a04a8ef3-9011-45ce-a813-2d9ba9793d56",
    "_uuid": "e5eaacb22adc30f9fbdbbc8605f5b2c46a7f0904"
   },
   "outputs": [],
   "source": [
    "osvm_y_pred=predict(X_test,osvm_mdlLst)\n",
    "\n",
    "#Creating class labels based on decision function\n",
    "osvm_y_pred_class=osvm_y_pred.copy()\n",
    "osvm_y_pred_class[osvm_y_pred<0]=1\n",
    "osvm_y_pred_class[osvm_y_pred>=0]=0"
   ]
  },
  {
   "cell_type": "code",
   "execution_count": 39,
   "metadata": {
    "_cell_guid": "e7817298-64df-436a-8256-fdc363849afe",
    "_uuid": "8dd3305b86acae073f3abc94a400d7684c680bc5"
   },
   "outputs": [
    {
     "name": "stdout",
     "output_type": "stream",
     "text": [
      "Classification report:\n",
      "             precision    recall  f1-score   support\n",
      "\n",
      "          0       1.00      0.50      0.66     85307\n",
      "          1       0.00      0.54      0.00       136\n",
      "\n",
      "avg / total       1.00      0.50      0.66     85443\n",
      "\n",
      "Average Precision = 0.0016614961171177208\n",
      "\n",
      "Binary F1 Score, Recall and Precision:\n",
      "F1 Score 0.003429\n",
      "Recall Score 0.544118\n",
      "Precision Score 0.001720\n",
      "\n",
      "Micro F1 Score, Recall and Precision:\n",
      "F1 Score 0.496600\n",
      "Recall Score 0.496600\n",
      "Precision Score 0.496600\n",
      "\n",
      "Macro F1 Score, Recall and Precision:\n",
      "F1 Score 0.333338\n",
      "Recall Score 0.520321\n",
      "Precision Score 0.500129\n"
     ]
    }
   ],
   "source": [
    "print_classification_report(y_test, osvm_y_pred_class)"
   ]
  },
  {
   "cell_type": "markdown",
   "metadata": {
    "_cell_guid": "8592907e-159c-40f6-ae3a-5fab20197f1e",
    "_uuid": "92f451da96f40d2cdefa2dced4180a2b943419f3"
   },
   "source": [
    "## Conclusion"
   ]
  },
  {
   "cell_type": "markdown",
   "metadata": {
    "_cell_guid": "a2e4f221-ce16-4d2f-bd4d-8521303e73ae",
    "_uuid": "c758c3b641832da5e85b805d0fef6ebb6e736eda"
   },
   "source": [
    "Isolation forest has the 2nd fastest training time. This is very impressive considering that our model is actually an ensemble of 5 Isolation forest models."
   ]
  },
  {
   "cell_type": "markdown",
   "metadata": {
    "_cell_guid": "0594b209-5341-4ead-be61-9ba014aa84ce",
    "_uuid": "327641d627f10bb4ab6d240b0178746cf0f5ed9b"
   },
   "source": [
    "The algorithm doesn't fare so well but this might be due to the over head of the ensemble structure."
   ]
  },
  {
   "cell_type": "markdown",
   "metadata": {
    "_cell_guid": "0bd16ffd-6ef4-49c0-bc02-70e21f8828f3",
    "_uuid": "5a5c3cf6caf8dbc7dc0ce2e2942908123edb5de6"
   },
   "source": [
    "Coming to model performance, our isolation forest ensemble model is a clear winner!"
   ]
  }
 ],
 "metadata": {
  "kernelspec": {
   "display_name": "Python 3",
   "language": "python",
   "name": "python3"
  },
  "language_info": {
   "codemirror_mode": {
    "name": "ipython",
    "version": 3
   },
   "file_extension": ".py",
   "mimetype": "text/x-python",
   "name": "python",
   "nbconvert_exporter": "python",
   "pygments_lexer": "ipython3",
   "version": "3.4.3"
  }
 },
 "nbformat": 4,
 "nbformat_minor": 1
}

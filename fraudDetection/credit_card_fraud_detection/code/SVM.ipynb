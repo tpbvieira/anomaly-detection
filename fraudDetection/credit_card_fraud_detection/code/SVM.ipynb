{
 "cells": [
  {
   "cell_type": "code",
   "execution_count": 1,
   "metadata": {
    "_cell_guid": "b1076dfc-b9ad-4769-8c92-a6c4dae69d19",
    "_uuid": "8f2839f25d086af736a60e9eeb907d3b93b6e0e5"
   },
   "outputs": [],
   "source": [
    "import numpy as np # linear algebra\n",
    "import pandas as pd # data processing, CSV file I/O (e.g. pd.read_csv)\n",
    "import matplotlib.pyplot as plt\n",
    "from sklearn import svm\n",
    "from sklearn.svm import SVC\n",
    "from sklearn.metrics import classification_report\n",
    "from sklearn.metrics import confusion_matrix\n",
    "from sklearn.metrics import f1_score\n",
    "from sklearn.metrics import accuracy_score\n",
    "from sklearn.metrics import recall_score\n",
    "from sklearn.metrics import precision_score, precision_recall_curve\n",
    "from sklearn.metrics import roc_auc_score, roc_curve, auc, average_precision_score\n",
    "from sklearn.preprocessing import StandardScaler\n",
    "from sklearn.model_selection import train_test_split\n",
    "from mlxtend.plotting import plot_confusion_matrix\n",
    "import warnings\n",
    "warnings.filterwarnings('ignore')\n",
    "\n",
    "import os"
   ]
  },
  {
   "cell_type": "code",
   "execution_count": 2,
   "metadata": {},
   "outputs": [],
   "source": [
    "def print_classification_report(y_test, y_predic):\n",
    "    print('Classification report:')\n",
    "    print(classification_report(y_test, y_predic))\n",
    "\n",
    "    print('\\nBinary F1 Score, Recall and Precision:')\n",
    "    f = f1_score(y_test, y_predic, average = \"binary\")\n",
    "    Recall = recall_score(y_test, y_predic, average = \"binary\")\n",
    "    Precision = precision_score(y_test, y_predic, average = \"binary\")\n",
    "    print('\\tF1 Score %f' %f)\n",
    "    print('\\tRecall Score %f' %Recall)\n",
    "    print('\\tPrecision Score %f' %Precision)\n",
    "\n",
    "    print('\\nMicro F1 Score, Recall and Precision:')\n",
    "    f = f1_score(y_test, y_predic, average = \"micro\")\n",
    "    Recall = recall_score(y_test, y_predic, average = \"micro\")\n",
    "    Precision = precision_score(y_test, y_predic, average = \"micro\")\n",
    "    print('\\tF1 Score %f' %f)\n",
    "    print('\\tRecall Score %f' %Recall)\n",
    "    print('\\tPrecision Score %f' %Precision)"
   ]
  },
  {
   "cell_type": "code",
   "execution_count": 3,
   "metadata": {
    "_cell_guid": "79c7e3d0-c299-4dcb-8224-4455121ee9b0",
    "_uuid": "d629ff2d2480ee46fbb7e2d37f6b5fab8052498a"
   },
   "outputs": [
    {
     "name": "stdout",
     "output_type": "stream",
     "text": [
      "### Statistics:\n",
      "The number of normal transactions(Class 0) are:  284315\n",
      "The number of fraudulent transactions(Class 1) are:  492\n",
      "Class 0 percentage =  99.82725143693798\n",
      "Class 1 percentage =  0.1727485630620034\n",
      "X_train.shape:  (213605, 30)\n",
      "X_test.shape:  (71202, 30)\n",
      "y_train.shape:  (213605,)\n",
      "y_test.shape:  (71202,)\n",
      "\n",
      "-----------------------------------------------------------------------------------\n",
      "                                Support Vector Machine                             \n",
      "-----------------------------------------------------------------------------------\n",
      "Classification report:\n",
      "             precision    recall  f1-score   support\n",
      "\n",
      "          0       1.00      1.00      1.00     71078\n",
      "          1       1.00      1.00      1.00       124\n",
      "\n",
      "avg / total       1.00      1.00      1.00     71202\n",
      "\n",
      "\n",
      "Binary F1 Score, Recall and Precision:\n",
      "\tF1 Score 1.000000\n",
      "\tRecall Score 1.000000\n",
      "\tPrecision Score 1.000000\n",
      "\n",
      "Micro F1 Score, Recall and Precision:\n",
      "\tF1 Score 1.000000\n",
      "\tRecall Score 1.000000\n",
      "\tPrecision Score 1.000000\n"
     ]
    }
   ],
   "source": [
    "data = pd.read_csv(\"../input/creditcard.csv\")\n",
    "\n",
    "No_of_frauds = len(data[data[\"Class\"]==1])\n",
    "No_of_normals = len(data[data[\"Class\"]==0])\n",
    "total = No_of_frauds + No_of_normals\n",
    "Fraud_percent = (No_of_frauds / total)*100\n",
    "Normal_percent = (No_of_normals / total)*100\n",
    "\n",
    "# Print classes statistics\n",
    "print(\"### Statistics:\")\n",
    "print(\"The number of normal transactions(Class 0) are: \", No_of_normals)\n",
    "print(\"The number of fraudulent transactions(Class 1) are: \", No_of_frauds)\n",
    "print(\"Class 0 percentage = \", Normal_percent)\n",
    "print(\"Class 1 percentage = \", Fraud_percent)\n",
    "\n",
    "# Standardize 'Amount' by removing the mean and scaling to unit variance\n",
    "data['normAmount'] = StandardScaler().fit_transform(data['Amount'].values.reshape(-1,1))\n",
    "X = data.drop(['Time','Amount'],axis=1)\n",
    "y = data['Class']\n",
    "\n",
    "# Split the data into training and testing subsets\n",
    "X_train, X_test, y_train, y_test = train_test_split(X, y, test_size = 0.25, random_state = 12)\n",
    "\n",
    "# show the dimensions of the train/test data\n",
    "print(\"X_train.shape: \", X_train.shape)\n",
    "print(\"X_test.shape: \", X_test.shape)\n",
    "print(\"y_train.shape: \", y_train.shape)\n",
    "print(\"y_test.shape: \", y_test.shape)\n",
    "\n",
    "# Applying SVM Algorithm\n",
    "print(\"\")\n",
    "print(\"-----------------------------------------------------------------------------------\")\n",
    "print(\"                                Support Vector Machine                             \")              \n",
    "print(\"-----------------------------------------------------------------------------------\")\n",
    "\n",
    "# Fit into Model\n",
    "classifier = svm.SVC(C= 1, kernel= 'linear', random_state= 0)\n",
    "classifier.fit(X_train, y_train)\n",
    "\n",
    "# Predict the class using X_test\n",
    "y_pred = classifier.predict(X_test)\n",
    "\n",
    "# Print Report with Classification Results\n",
    "print_classification_report(y_test, y_pred)"
   ]
  }
 ],
 "metadata": {
  "kernelspec": {
   "display_name": "Python 3",
   "language": "python",
   "name": "python3"
  },
  "language_info": {
   "codemirror_mode": {
    "name": "ipython",
    "version": 3
   },
   "file_extension": ".py",
   "mimetype": "text/x-python",
   "name": "python",
   "nbconvert_exporter": "python",
   "pygments_lexer": "ipython3",
   "version": "3.4.3"
  }
 },
 "nbformat": 4,
 "nbformat_minor": 1
}

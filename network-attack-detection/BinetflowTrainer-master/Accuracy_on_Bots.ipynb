{
 "cells": [
  {
   "cell_type": "code",
   "execution_count": 1,
   "metadata": {},
   "outputs": [
    {
     "name": "stderr",
     "output_type": "stream",
     "text": [
      "/usr/lib/python3.4/importlib/_bootstrap.py:321: FutureWarning: Conversion of the second argument of issubdtype from `float` to `np.floating` is deprecated. In future, it will be treated as `np.float64 == np.dtype(float).type`.\n",
      "  return f(*args, **kwds)\n",
      "Using TensorFlow backend.\n"
     ]
    }
   ],
   "source": [
    "from main import train_and_test_with, train_with_tensorflow, Summarizer\n",
    "from utils import *\n",
    "\n",
    "binet_files = get_binetflow_files()\n",
    "\n",
    "def run_analysis_on_bot(bot, ml, interval):\n",
    "    \"\"\" Check how well we can detect bots \"\"\"\n",
    "    bot_files = get_files_with_bot(bot)\n",
    "    all_summaries = []\n",
    "\n",
    "    # Gather all files that has this bot into one single array\n",
    "    for index in bot_files:        \n",
    "        bot_file = binet_files[index]\n",
    "        time = get_start_time_for(bot_file)\n",
    "#         print(index)\n",
    "#         print(interval)\n",
    "#         print(time)\n",
    "#         print(bot_file)\n",
    "        all_summaries += get_saved_data(interval, bot_file)\n",
    "    features, labels = get_feature_labels(all_summaries)\n",
    "    \n",
    "    if ml == 'tf':\n",
    "        results = {'f1_score': train_with_tensorflow(features, labels)}\n",
    "    else:\n",
    "        results = train_and_test_with(features, labels, ml)\n",
    "    \n",
    "    for key, value in results.items():\n",
    "        print(\"%s \\t\\t= %s\" % (key, value))"
   ]
  },
  {
   "cell_type": "markdown",
   "metadata": {},
   "source": [
    "# Detecting Bots\n",
    "\n",
    "Code below shows analysis on detecting various bots. Change the interval and machine learning algorithm to see how well each algorithm does. \n",
    "\n",
    "I left them on what I've found to be best algorithm for each but feel free to double check.\n",
    "\n",
    "dt = Decision Tree\n",
    "\n",
    "rf = Random Forest\n",
    "\n",
    "tf = Tensorflow"
   ]
  },
  {
   "cell_type": "code",
   "execution_count": 2,
   "metadata": {},
   "outputs": [
    {
     "name": "stdout",
     "output_type": "stream",
     "text": [
      "saved_data/saved_1s_11.pk1\n",
      "saved_data/saved_1s_12.pk1\n",
      "saved_data/saved_1s_18.pk1\n",
      "recall \t\t= 0.7106441089446931\n",
      "precision \t\t= 0.7189346841660911\n",
      "training size \t\t= 135678\n",
      "normal count \t\t= 245012\n",
      "f1 score \t\t= 0.714765356734071\n",
      "0 \t\t= 122514, 122498\n",
      "attacks \t\t= 26345\n",
      "1 \t\t= 13164, 13181\n"
     ]
    }
   ],
   "source": [
    "run_analysis_on_bot('Neris', 'dt', 1)"
   ]
  },
  {
   "cell_type": "code",
   "execution_count": 3,
   "metadata": {},
   "outputs": [
    {
     "name": "stdout",
     "output_type": "stream",
     "text": [
      "saved_data/saved_1s_15.pk1\n",
      "saved_data/saved_1s_15-2.pk1\n",
      "saved_data/saved_1s_18-2.pk1\n",
      "saved_data/saved_1s_19.pk1\n",
      "recall \t\t= 0.0890829694323144\n",
      "precision \t\t= 0.7338129496402878\n",
      "training size \t\t= 11066\n",
      "normal count \t\t= 19829\n",
      "f1 score \t\t= 0.1588785046728972\n",
      "0 \t\t= 9908, 9921\n",
      "attacks \t\t= 2303\n",
      "1 \t\t= 1158, 1145\n"
     ]
    }
   ],
   "source": [
    "run_analysis_on_bot('Rbot', 'rf', 1)"
   ]
  },
  {
   "cell_type": "code",
   "execution_count": 4,
   "metadata": {},
   "outputs": [
    {
     "name": "stdout",
     "output_type": "stream",
     "text": [
      "saved_data/saved_1s_16.pk1\n",
      "saved_data/saved_1s_17.pk1\n",
      "recall \t\t= 0.8668252080856124\n",
      "precision \t\t= 0.9761214014728855\n",
      "training size \t\t= 13135\n",
      "normal count \t\t= 16137\n",
      "f1 score \t\t= 0.9182323921486302\n",
      "0 \t\t= 8048, 8089\n",
      "attacks \t\t= 10133\n",
      "1 \t\t= 5087, 5046\n"
     ]
    }
   ],
   "source": [
    "run_analysis_on_bot('Virut', 'rf', 1)"
   ]
  },
  {
   "cell_type": "code",
   "execution_count": 5,
   "metadata": {},
   "outputs": [
    {
     "name": "stdout",
     "output_type": "stream",
     "text": [
      "saved_data/saved_1s_16-2.pk1\n",
      "recall \t\t= 0.0\n",
      "precision \t\t= 0.0\n",
      "training size \t\t= 619\n",
      "normal count \t\t= 1216\n",
      "f1 score \t\t= 0.0\n",
      "0 \t\t= 608, 608\n",
      "attacks \t\t= 23\n",
      "1 \t\t= 11, 12\n"
     ]
    },
    {
     "name": "stderr",
     "output_type": "stream",
     "text": [
      "/usr/local/lib/python3.4/dist-packages/sklearn/metrics/classification.py:1135: UndefinedMetricWarning: Precision is ill-defined and being set to 0.0 due to no predicted samples.\n",
      "  'precision', 'predicted', average, warn_for)\n",
      "/usr/local/lib/python3.4/dist-packages/sklearn/metrics/classification.py:1135: UndefinedMetricWarning: F-score is ill-defined and being set to 0.0 due to no predicted samples.\n",
      "  'precision', 'predicted', average, warn_for)\n"
     ]
    }
   ],
   "source": [
    "run_analysis_on_bot('Menti', 'rf', 1)"
   ]
  },
  {
   "cell_type": "code",
   "execution_count": 6,
   "metadata": {},
   "outputs": [
    {
     "name": "stdout",
     "output_type": "stream",
     "text": [
      "saved_data/saved_1s_16-3.pk1\n",
      "WARNING:tensorflow:From /home/thiago/dev/projects/ctu-13/code/BinetflowTrainer-master/main.py:154: softmax_cross_entropy_with_logits (from tensorflow.python.ops.nn_ops) is deprecated and will be removed in a future version.\n",
      "Instructions for updating:\n",
      "\n",
      "Future major versions of TensorFlow will allow gradients to flow\n",
      "into the labels input on backprop by default.\n",
      "\n",
      "See @{tf.nn.softmax_cross_entropy_with_logits_v2}.\n",
      "\n",
      "f1_score \t\t= (0.0, 0.96465904)\n"
     ]
    },
    {
     "name": "stderr",
     "output_type": "stream",
     "text": [
      "/usr/local/lib/python3.4/dist-packages/sklearn/metrics/classification.py:1135: UndefinedMetricWarning: F-score is ill-defined and being set to 0.0 due to no predicted samples.\n",
      "  'precision', 'predicted', average, warn_for)\n"
     ]
    }
   ],
   "source": [
    "run_analysis_on_bot('Sogou', 'tf', 1)"
   ]
  },
  {
   "cell_type": "code",
   "execution_count": 7,
   "metadata": {},
   "outputs": [
    {
     "name": "stdout",
     "output_type": "stream",
     "text": [
      "saved_data/saved_1s_17.pk1\n",
      "recall \t\t= 0.902213625617881\n",
      "precision \t\t= 0.9661680092059839\n",
      "training size \t\t= 9328\n",
      "normal count \t\t= 9329\n",
      "f1 score \t\t= 0.933096243609691\n",
      "0 \t\t= 4653, 4676\n",
      "attacks \t\t= 9328\n",
      "1 \t\t= 4675, 4653\n"
     ]
    }
   ],
   "source": [
    "run_analysis_on_bot('Murlo', 'rf', 1)"
   ]
  },
  {
   "cell_type": "code",
   "execution_count": 8,
   "metadata": {},
   "outputs": [
    {
     "name": "stdout",
     "output_type": "stream",
     "text": [
      "saved_data/saved_1s_15-3.pk1\n",
      "recall \t\t= 0.8751922654361679\n",
      "precision \t\t= 0.8746797452602298\n",
      "training size \t\t= 29464\n",
      "normal count \t\t= 31811\n",
      "f1 score \t\t= 0.8749359302921578\n",
      "0 \t\t= 15999, 15812\n",
      "attacks \t\t= 27118\n",
      "1 \t\t= 13465, 13653\n"
     ]
    }
   ],
   "source": [
    "run_analysis_on_bot('NSIS.ay', 'dt', 1)"
   ]
  },
  {
   "cell_type": "code",
   "execution_count": null,
   "metadata": {},
   "outputs": [],
   "source": []
  }
 ],
 "metadata": {
  "kernelspec": {
   "display_name": "Python 3",
   "language": "python",
   "name": "python3"
  },
  "language_info": {
   "codemirror_mode": {
    "name": "ipython",
    "version": 3
   },
   "file_extension": ".py",
   "mimetype": "text/x-python",
   "name": "python",
   "nbconvert_exporter": "python",
   "pygments_lexer": "ipython3",
   "version": "3.4.3"
  }
 },
 "nbformat": 4,
 "nbformat_minor": 2
}

{
 "cells": [
  {
   "cell_type": "code",
   "execution_count": 1,
   "metadata": {},
   "outputs": [],
   "source": [
    "from sklearn.model_selection import GridSearchCV\n",
    "from sklearn.ensemble import RandomForestClassifier\n",
    "from sklearn.tree import DecisionTreeClassifier\n",
    "from utils import get_saved_data, get_feature_labels, get_binetflow_files"
   ]
  },
  {
   "cell_type": "code",
   "execution_count": 2,
   "metadata": {},
   "outputs": [
    {
     "name": "stdout",
     "output_type": "stream",
     "text": [
      "saved_data/saved_0.15s_16-3.pk1\n"
     ]
    },
    {
     "name": "stderr",
     "output_type": "stream",
     "text": [
      "/usr/local/lib/python3.6/dist-packages/sklearn/model_selection/_split.py:2053: FutureWarning: You should specify a value for 'cv' instead of relying on the default value. The default value will change from 3 to 5 in version 0.22.\n",
      "  warnings.warn(CV_WARNING, FutureWarning)\n"
     ]
    },
    {
     "name": "stdout",
     "output_type": "stream",
     "text": [
      "random forest: {'criterion': 'entropy', 'max_depth': None, 'max_features': None, 'n_estimators': 20, 'n_jobs': 2}\n"
     ]
    }
   ],
   "source": [
    "# For random forest\n",
    "tuned_parameters = [\n",
    "    {\n",
    "        'n_estimators': [12, 16, 20, 50],\n",
    "        'criterion': ['gini', 'entropy'],\n",
    "        'max_features': ['auto', 'sqrt', 'log2', None],\n",
    "        'max_depth': [5, None],\n",
    "        'n_jobs': [2]\n",
    "    }\n",
    "]\n",
    "\n",
    "clf = GridSearchCV(RandomForestClassifier(), tuned_parameters)\n",
    "binet_files = get_binetflow_files()\n",
    "data = get_saved_data(0.15, binet_files[7])\n",
    "feature, label = get_feature_labels(data)\n",
    "\n",
    "clf.fit(feature, label)\n",
    "print('random forest:', clf.best_params_)"
   ]
  },
  {
   "cell_type": "code",
   "execution_count": 3,
   "metadata": {},
   "outputs": [
    {
     "name": "stdout",
     "output_type": "stream",
     "text": [
      "saved_data/saved_0.15s_16-3.pk1\n"
     ]
    },
    {
     "name": "stderr",
     "output_type": "stream",
     "text": [
      "/usr/local/lib/python3.6/dist-packages/sklearn/model_selection/_split.py:2053: FutureWarning: You should specify a value for 'cv' instead of relying on the default value. The default value will change from 3 to 5 in version 0.22.\n",
      "  warnings.warn(CV_WARNING, FutureWarning)\n"
     ]
    },
    {
     "name": "stdout",
     "output_type": "stream",
     "text": [
      "decision trees: {'class_weight': 'balanced', 'criterion': 'entropy', 'splitter': 'best'}\n"
     ]
    }
   ],
   "source": [
    "# for decision trees\n",
    "tuned_parameters = [\n",
    "    {\n",
    "        'criterion': ['gini', 'entropy'],\n",
    "        'splitter': ['best', 'random'],\n",
    "        'class_weight': ['balanced', None],\n",
    "    }\n",
    "]\n",
    "\n",
    "clf = GridSearchCV(DecisionTreeClassifier(), tuned_parameters)\n",
    "binet_files = get_binetflow_files()\n",
    "data = get_saved_data(0.15, binet_files[7])\n",
    "feature, label = get_feature_labels(data)\n",
    "\n",
    "clf.fit(feature, label)\n",
    "print('decision trees:', clf.best_params_)"
   ]
  }
 ],
 "metadata": {
  "kernelspec": {
   "display_name": "Python 3",
   "language": "python",
   "name": "python3"
  },
  "language_info": {
   "codemirror_mode": {
    "name": "ipython",
    "version": 3
   },
   "file_extension": ".py",
   "mimetype": "text/x-python",
   "name": "python",
   "nbconvert_exporter": "python",
   "pygments_lexer": "ipython3",
   "version": "3.6.7"
  }
 },
 "nbformat": 4,
 "nbformat_minor": 2
}

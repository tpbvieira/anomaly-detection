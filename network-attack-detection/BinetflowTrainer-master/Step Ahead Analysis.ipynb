{
 "cells": [
  {
   "cell_type": "code",
   "execution_count": 1,
   "metadata": {
    "scrolled": true
   },
   "outputs": [
    {
     "ename": "ModuleNotFoundError",
     "evalue": "No module named 'tensorflow'",
     "output_type": "error",
     "traceback": [
      "\u001b[0;31m---------------------------------------------------------------------------\u001b[0m",
      "\u001b[0;31mModuleNotFoundError\u001b[0m                       Traceback (most recent call last)",
      "\u001b[0;32m<ipython-input-1-9b14baa664b7>\u001b[0m in \u001b[0;36m<module>\u001b[0;34m\u001b[0m\n\u001b[1;32m      1\u001b[0m \u001b[0;32mfrom\u001b[0m \u001b[0mutils\u001b[0m \u001b[0;32mimport\u001b[0m \u001b[0;34m*\u001b[0m\u001b[0;34m\u001b[0m\u001b[0;34m\u001b[0m\u001b[0m\n\u001b[0;32m----> 2\u001b[0;31m \u001b[0;32mfrom\u001b[0m \u001b[0mmain\u001b[0m \u001b[0;32mimport\u001b[0m \u001b[0mtrain_and_test_step\u001b[0m\u001b[0;34m,\u001b[0m \u001b[0mSummarizer\u001b[0m\u001b[0;34m\u001b[0m\u001b[0;34m\u001b[0m\u001b[0m\n\u001b[0m",
      "\u001b[0;32m~/dev/anomaly-detection/network-attack-detection/BinetflowTrainer-master/main.py\u001b[0m in \u001b[0;36m<module>\u001b[0;34m\u001b[0m\n\u001b[1;32m      1\u001b[0m \u001b[0;32mimport\u001b[0m \u001b[0mos\u001b[0m\u001b[0;34m,\u001b[0m \u001b[0mmath\u001b[0m\u001b[0;34m\u001b[0m\u001b[0;34m\u001b[0m\u001b[0m\n\u001b[1;32m      2\u001b[0m \u001b[0;32mimport\u001b[0m \u001b[0mnumpy\u001b[0m \u001b[0;32mas\u001b[0m \u001b[0mnp\u001b[0m\u001b[0;34m\u001b[0m\u001b[0;34m\u001b[0m\u001b[0m\n\u001b[0;32m----> 3\u001b[0;31m \u001b[0;32mimport\u001b[0m \u001b[0mtensorflow\u001b[0m \u001b[0;32mas\u001b[0m \u001b[0mtf\u001b[0m\u001b[0;34m\u001b[0m\u001b[0;34m\u001b[0m\u001b[0m\n\u001b[0m\u001b[1;32m      4\u001b[0m \u001b[0;32mfrom\u001b[0m \u001b[0msklearn\u001b[0m\u001b[0;34m.\u001b[0m\u001b[0mmodel_selection\u001b[0m \u001b[0;32mimport\u001b[0m \u001b[0mtrain_test_split\u001b[0m\u001b[0;34m\u001b[0m\u001b[0;34m\u001b[0m\u001b[0m\n\u001b[1;32m      5\u001b[0m \u001b[0;32mfrom\u001b[0m \u001b[0msklearn\u001b[0m\u001b[0;34m.\u001b[0m\u001b[0mmetrics\u001b[0m \u001b[0;32mimport\u001b[0m \u001b[0mf1_score\u001b[0m\u001b[0;34m,\u001b[0m \u001b[0mprecision_score\u001b[0m\u001b[0;34m,\u001b[0m \u001b[0mrecall_score\u001b[0m\u001b[0;34m\u001b[0m\u001b[0;34m\u001b[0m\u001b[0m\n",
      "\u001b[0;31mModuleNotFoundError\u001b[0m: No module named 'tensorflow'"
     ]
    }
   ],
   "source": [
    "from utils import *\n",
    "from main import train_and_test_step, Summarizer"
   ]
  },
  {
   "cell_type": "code",
   "execution_count": null,
   "metadata": {},
   "outputs": [],
   "source": [
    "# # Code for the step ahead analysis\n",
    "# def train_and_test_step(features, labels, classifier, step):\n",
    "#     correct = 0\n",
    "#     last = 0\n",
    "#     clf = get_classifier(classifier)\n",
    "#     for i in range(step, len(features) - step, step):\n",
    "#         clf.fit([features[last:i]], [labels[last:i]])\n",
    "#         if labels[i] == clf.predict([features[i]]):\n",
    "#             correct += 1\n",
    "#         last = step\n",
    "#     return correct / (len(features) - step)"
   ]
  },
  {
   "cell_type": "code",
   "execution_count": null,
   "metadata": {},
   "outputs": [],
   "source": [
    "binet_files = get_binetflow_files()\n",
    "mls = ['dt', 'rf']\n",
    "# change these to get the parameters you want to check.\n",
    "ml = mls[0]\n",
    "interval = 1\n",
    "step = 1"
   ]
  },
  {
   "cell_type": "code",
   "execution_count": null,
   "metadata": {},
   "outputs": [],
   "source": [
    "print('For %s' %  ml)\n",
    "for binet in binet_files:\n",
    "    summary = get_saved_data(interval, binet)\n",
    "    features, labels = get_feature_labels(summary)\n",
    "    result = {'f1_score': train_and_test_step(features, labels, ml, step)}\n",
    "    print(\"On file %s\" % binet)\n",
    "    for key, value in result.items():\n",
    "        print('%s \\t\\t= %s' % (key, value))\n",
    "    print('')"
   ]
  },
  {
   "cell_type": "markdown",
   "metadata": {},
   "source": [
    "# Testing the step ahead method\n",
    "\n",
    "Above you can change the parameters to see how different machine learing algorithms perform under this analysis. Careful, it does take a while to run.\n",
    "\n",
    "## Aproach\n",
    "\n",
    "It fits the data on each window and uses that to predict the next window that is 'step' ahead of it's current index. This is why it takes a while to run since it is fitting and predicting on each window, and there are many windows.\n",
    "\n",
    "```python\n",
    "# Code for the step ahead analysis\n",
    "def train_and_test_step(features, labels, classifier, step):\n",
    "    correct = 0\n",
    "    last = 0\n",
    "    clf = get_classifier(classifier)\n",
    "    for i in range(step, len(features) - step, step):\n",
    "            clf.fit([features[last:i]], [labels[last:i]])\n",
    "        if labels[i] == clf.predict([features[i]]):\n",
    "            correct += 1\n",
    "        last = step\n",
    "    return correct / (len(features) - step)\n",
    "```"
   ]
  }
 ],
 "metadata": {
  "kernelspec": {
   "display_name": "Python 3",
   "language": "python",
   "name": "python3"
  },
  "language_info": {
   "codemirror_mode": {
    "name": "ipython",
    "version": 3
   },
   "file_extension": ".py",
   "mimetype": "text/x-python",
   "name": "python",
   "nbconvert_exporter": "python",
   "pygments_lexer": "ipython3",
   "version": "3.6.7"
  }
 },
 "nbformat": 4,
 "nbformat_minor": 2
}

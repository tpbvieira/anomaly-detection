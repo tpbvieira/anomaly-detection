{
 "cells": [
  {
   "cell_type": "code",
   "execution_count": 1,
   "metadata": {
    "scrolled": true
   },
   "outputs": [
    {
     "name": "stderr",
     "output_type": "stream",
     "text": [
      "/usr/lib/python3.4/importlib/_bootstrap.py:321: FutureWarning: Conversion of the second argument of issubdtype from `float` to `np.floating` is deprecated. In future, it will be treated as `np.float64 == np.dtype(float).type`.\n",
      "  return f(*args, **kwds)\n",
      "Using TensorFlow backend.\n"
     ]
    }
   ],
   "source": [
    "from utils import *\n",
    "from main import train_and_test_step, Summarizer"
   ]
  },
  {
   "cell_type": "code",
   "execution_count": 2,
   "metadata": {},
   "outputs": [],
   "source": [
    "# # Code for the step ahead analysis\n",
    "# def train_and_test_step(features, labels, classifier, step):\n",
    "#     correct = 0\n",
    "#     last = 0\n",
    "#     clf = get_classifier(classifier)\n",
    "#     for i in range(step, len(features) - step, step):\n",
    "#         clf.fit([features[last:i]], [labels[last:i]])\n",
    "#         if labels[i] == clf.predict([features[i]]):\n",
    "#             correct += 1\n",
    "#         last = step\n",
    "#     return correct / (len(features) - step)"
   ]
  },
  {
   "cell_type": "code",
   "execution_count": 3,
   "metadata": {},
   "outputs": [],
   "source": [
    "binet_files = get_binetflow_files()\n",
    "mls = ['dt', 'rf']\n",
    "# change these to get the parameters you want to check.\n",
    "ml = mls[0]\n",
    "interval = 1\n",
    "step = 1"
   ]
  },
  {
   "cell_type": "code",
   "execution_count": 4,
   "metadata": {},
   "outputs": [
    {
     "name": "stdout",
     "output_type": "stream",
     "text": [
      "For dt\n",
      "saved_data/saved_1s_10.pk1\n"
     ]
    },
    {
     "name": "stderr",
     "output_type": "stream",
     "text": [
      "/usr/local/lib/python3.4/dist-packages/sklearn/metrics/classification.py:1135: UndefinedMetricWarning: F-score is ill-defined and being set to 0.0 due to no predicted samples.\n",
      "  'precision', 'predicted', average, warn_for)\n",
      "/usr/local/lib/python3.4/dist-packages/sklearn/metrics/classification.py:1137: UndefinedMetricWarning: F-score is ill-defined and being set to 0.0 due to no true samples.\n",
      "  'recall', 'true', average, warn_for)\n"
     ]
    },
    {
     "name": "stdout",
     "output_type": "stream",
     "text": [
      "On file /media/thiago/ubuntu/datasets/network/stratosphere_botnet_2011/ctu_13/raw/capture20110810.binetflow\n",
      "f1_score \t\t= 0.25695737049984113\n",
      "\n",
      "saved_data/saved_1s_11.pk1\n",
      "On file /media/thiago/ubuntu/datasets/network/stratosphere_botnet_2011/ctu_13/raw/capture20110811.binetflow\n",
      "f1_score \t\t= 0.19021007271747914\n",
      "\n",
      "saved_data/saved_1s_12.pk1\n",
      "On file /media/thiago/ubuntu/datasets/network/stratosphere_botnet_2011/ctu_13/raw/capture20110812.binetflow\n",
      "f1_score \t\t= 0.03713348523925182\n",
      "\n",
      "saved_data/saved_1s_15.pk1\n",
      "On file /media/thiago/ubuntu/datasets/network/stratosphere_botnet_2011/ctu_13/raw/capture20110815.binetflow\n",
      "f1_score \t\t= 0.03163000863844774\n",
      "\n",
      "saved_data/saved_1s_15-2.pk1\n",
      "On file /media/thiago/ubuntu/datasets/network/stratosphere_botnet_2011/ctu_13/raw/capture20110815-2.binetflow\n",
      "f1_score \t\t= 0.11284046692607004\n",
      "\n",
      "saved_data/saved_1s_16.pk1\n",
      "On file /media/thiago/ubuntu/datasets/network/stratosphere_botnet_2011/ctu_13/raw/capture20110816.binetflow\n",
      "f1_score \t\t= 0.008406672796532247\n",
      "\n",
      "saved_data/saved_1s_16-2.pk1\n",
      "On file /media/thiago/ubuntu/datasets/network/stratosphere_botnet_2011/ctu_13/raw/capture20110816-2.binetflow\n",
      "f1_score \t\t= 0.007263922518159807\n",
      "\n",
      "saved_data/saved_1s_16-3.pk1\n",
      "On file /media/thiago/ubuntu/datasets/network/stratosphere_botnet_2011/ctu_13/raw/capture20110816-3.binetflow\n",
      "f1_score \t\t= 0.00909299195234413\n",
      "\n",
      "saved_data/saved_1s_17.pk1\n",
      "On file /media/thiago/ubuntu/datasets/network/stratosphere_botnet_2011/ctu_13/raw/capture20110817.binetflow\n",
      "f1_score \t\t= 0.483786246449054\n",
      "\n",
      "saved_data/saved_1s_18.pk1\n",
      "On file /media/thiago/ubuntu/datasets/network/stratosphere_botnet_2011/ctu_13/raw/capture20110818.binetflow\n",
      "f1_score \t\t= 0.055144227921577915\n",
      "\n",
      "saved_data/saved_1s_18-2.pk1\n",
      "On file /media/thiago/ubuntu/datasets/network/stratosphere_botnet_2011/ctu_13/raw/capture20110818-2.binetflow\n",
      "f1_score \t\t= 0.11210762331838565\n",
      "\n",
      "saved_data/saved_1s_19.pk1\n",
      "On file /media/thiago/ubuntu/datasets/network/stratosphere_botnet_2011/ctu_13/raw/capture20110819.binetflow\n",
      "f1_score \t\t= 0.07012750455373407\n",
      "\n",
      "saved_data/saved_1s_15-3.pk1\n",
      "On file /media/thiago/ubuntu/datasets/network/stratosphere_botnet_2011/ctu_13/raw/capture20110815-3.binetflow\n",
      "f1_score \t\t= 0.1002392709871201\n",
      "\n"
     ]
    }
   ],
   "source": [
    "print('For %s' %  ml)\n",
    "for binet in binet_files:\n",
    "    summary = get_saved_data(interval, binet)\n",
    "    features, labels = get_feature_labels(summary)\n",
    "    result = {'f1_score': train_and_test_step(features, labels, ml, step)}\n",
    "    print(\"On file %s\" % binet)\n",
    "    for key, value in result.items():\n",
    "        print('%s \\t\\t= %s' % (key, value))\n",
    "    print('')"
   ]
  },
  {
   "cell_type": "markdown",
   "metadata": {},
   "source": [
    "# Testing the step ahead method\n",
    "\n",
    "Above you can change the parameters to see how different machine learing algorithms perform under this analysis. Careful, it does take a while to run.\n",
    "\n",
    "## Aproach\n",
    "\n",
    "It fits the data on each window and uses that to predict the next window that is 'step' ahead of it's current index. This is why it takes a while to run since it is fitting and predicting on each window, and there are many windows.\n",
    "\n",
    "```python\n",
    "# Code for the step ahead analysis\n",
    "def train_and_test_step(features, labels, classifier, step):\n",
    "    correct = 0\n",
    "    last = 0\n",
    "    clf = get_classifier(classifier)\n",
    "    for i in range(step, len(features) - step, step):\n",
    "            clf.fit([features[last:i]], [labels[last:i]])\n",
    "        if labels[i] == clf.predict([features[i]]):\n",
    "            correct += 1\n",
    "        last = step\n",
    "    return correct / (len(features) - step)\n",
    "```"
   ]
  }
 ],
 "metadata": {
  "kernelspec": {
   "display_name": "Python 3",
   "language": "python",
   "name": "python3"
  },
  "language_info": {
   "codemirror_mode": {
    "name": "ipython",
    "version": 3
   },
   "file_extension": ".py",
   "mimetype": "text/x-python",
   "name": "python",
   "nbconvert_exporter": "python",
   "pygments_lexer": "ipython3",
   "version": "3.4.3"
  }
 },
 "nbformat": 4,
 "nbformat_minor": 2
}

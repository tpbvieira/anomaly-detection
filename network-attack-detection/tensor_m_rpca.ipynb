{
 "cells": [
  {
   "cell_type": "code",
   "execution_count": 1,
   "metadata": {
    "colab": {
     "base_uri": "https://localhost:8080/",
     "height": 323
    },
    "colab_type": "code",
    "id": "tBYojbsQxGt0",
    "outputId": "2ba17264-edd8-4c85-ecf6-46d477af1152",
    "pycharm": {
     "is_executing": false
    }
   },
   "outputs": [
    {
     "name": "stdout",
     "output_type": "stream",
     "text": [
      "Requirement already satisfied: pyod in c:\\users\\tpbvieira\\appdata\\local\\programs\\python\\python37\\lib\\site-packages (0.7.5)\n",
      "Requirement already satisfied: joblib in c:\\users\\tpbvieira\\appdata\\local\\programs\\python\\python37\\lib\\site-packages (from pyod) (0.13.2)\n",
      "Requirement already satisfied: matplotlib in c:\\users\\tpbvieira\\appdata\\local\\programs\\python\\python37\\lib\\site-packages (from pyod) (3.1.1)\n",
      "Requirement already satisfied: numpy>=1.13 in c:\\users\\tpbvieira\\appdata\\local\\programs\\python\\python37\\lib\\site-packages (from pyod) (1.17.0)\n",
      "Requirement already satisfied: numba>=0.35 in c:\\users\\tpbvieira\\appdata\\local\\programs\\python\\python37\\lib\\site-packages (from pyod) (0.46.0)\n",
      "Requirement already satisfied: scipy>=0.19.1 in c:\\users\\tpbvieira\\appdata\\local\\programs\\python\\python37\\lib\\site-packages (from pyod) (1.3.1)\n",
      "Requirement already satisfied: scikit_learn>=0.19.1 in c:\\users\\tpbvieira\\appdata\\local\\programs\\python\\python37\\lib\\site-packages (from pyod) (0.21.3)\n",
      "Requirement already satisfied: six in c:\\users\\tpbvieira\\appdata\\local\\programs\\python\\python37\\lib\\site-packages (from pyod) (1.12.0)\n",
      "Requirement already satisfied: python-dateutil>=2.1 in c:\\users\\tpbvieira\\appdata\\local\\programs\\python\\python37\\lib\\site-packages (from matplotlib->pyod) (2.8.0)\n",
      "Requirement already satisfied: kiwisolver>=1.0.1 in c:\\users\\tpbvieira\\appdata\\local\\programs\\python\\python37\\lib\\site-packages (from matplotlib->pyod) (1.1.0)\n",
      "Requirement already satisfied: pyparsing!=2.0.4,!=2.1.2,!=2.1.6,>=2.0.1 in c:\\users\\tpbvieira\\appdata\\local\\programs\\python\\python37\\lib\\site-packages (from matplotlib->pyod) (2.4.2)\n",
      "Requirement already satisfied: cycler>=0.10 in c:\\users\\tpbvieira\\appdata\\local\\programs\\python\\python37\\lib\\site-packages (from matplotlib->pyod) (0.10.0)\n",
      "Requirement already satisfied: llvmlite>=0.30.0dev0 in c:\\users\\tpbvieira\\appdata\\local\\programs\\python\\python37\\lib\\site-packages (from numba>=0.35->pyod) (0.30.0)\n",
      "Requirement already satisfied: setuptools in c:\\users\\tpbvieira\\appdata\\local\\programs\\python\\python37\\lib\\site-packages (from kiwisolver>=1.0.1->matplotlib->pyod) (41.4.0)\n",
      "Requirement already satisfied: tensorly in c:\\users\\tpbvieira\\appdata\\local\\programs\\python\\python37\\lib\\site-packages (0.4.4)\n",
      "Requirement already satisfied: numpy in c:\\users\\tpbvieira\\appdata\\local\\programs\\python\\python37\\lib\\site-packages (from tensorly) (1.17.0)\n",
      "Requirement already satisfied: scipy in c:\\users\\tpbvieira\\appdata\\local\\programs\\python\\python37\\lib\\site-packages (from tensorly) (1.3.1)\n",
      "Requirement already satisfied: nose in c:\\users\\tpbvieira\\appdata\\local\\programs\\python\\python37\\lib\\site-packages (from tensorly) (1.3.7)\n"
     ]
    }
   ],
   "source": [
    "from __future__ import division\n",
    "from __future__ import print_function\n",
    "\n",
    "import os\n",
    "import sys\n",
    "import warnings\n",
    "warnings.filterwarnings(\"ignore\")\n",
    "import numpy as np\n",
    "import matplotlib.pyplot as plt\n",
    "from numpy import percentile\n",
    "!pip install pyod\n",
    "# Import all models\n",
    "from pyod.models.iforest import IForest\n",
    "from pyod.models.knn import KNN\n",
    "from pyod.models.lof import LOF\n",
    "from pyod.models.mcd import MCD\n",
    "from pyod.models.ocsvm import OCSVM\n",
    "from pyod.models.pca import PCA\n",
    "\n",
    "import pandas as pd\n",
    "from scipy import linalg\n",
    "from scipy.stats import skew, kurtosis\n",
    "from sklearn.metrics import pairwise_distances, f1_score\n",
    "!pip install tensorly\n",
    "from tensorly.decomposition.robust_decomposition import robust_pca\n",
    "\n",
    "from scipy.stats import skewnorm\n",
    "\n",
    "# temporary solution for relative imports in case pyod is not installed\n",
    "# if pyod is installed, no need to use the following line\n",
    "sys.path.append(\n",
    "    os.path.abspath(os.path.join(os.path.dirname(\"__file__\"), '..')))"
   ]
  },
  {
   "cell_type": "code",
   "execution_count": 2,
   "metadata": {
    "colab": {},
    "colab_type": "code",
    "id": "s1Cw3e0fhJPH",
    "pycharm": {
     "is_executing": false
    }
   },
   "outputs": [],
   "source": [
    "def fit_m_rpca(data, m_reg_J=1):\n",
    "    \"\"\"\n",
    "    Robust PCA based estimation of mean, covariance, skewness and kurtosis.\n",
    "    \n",
    "    :param data: MxN matrix with M observations and N features, where M>N \n",
    "    :param m_reg_J: regularization. Default value is 1\n",
    "    :return: \n",
    "        L: array-like, shape (m_obserations, n_features,)\n",
    "            Robust data\n",
    "        \n",
    "        rob_mean:\n",
    "        rob_cov:\n",
    "        rob_dist:\n",
    "        rob_precision:\n",
    "        rob_skew:\n",
    "        rob_skew_dist:\n",
    "        rob_kurt:\n",
    "        rob_kurt_dist:\n",
    "    \"\"\"\n",
    "\n",
    "    L, S = robust_pca(data, reg_J=m_reg_J)\n",
    "    rob_mean = L.mean(axis=0)\n",
    "    rob_cov = pd.DataFrame(L).cov()\n",
    "    rob_precision = linalg.pinvh(rob_cov)\n",
    "    rob_dist = (np.dot(L, rob_precision) * L).sum(axis=1)\n",
    "    rob_skew = skew(L, axis=0, bias=True)\n",
    "    rob_skew_dist = (np.dot(L - rob_skew, rob_precision) * (L - rob_skew)).sum(axis=1)\n",
    "    rob_kurt = kurtosis(L, axis=0, fisher=True, bias=True)\n",
    "    rob_kurt_dist = (np.dot(L - rob_kurt, rob_precision) * (L - rob_kurt)).sum(axis=1)\n",
    "\n",
    "    return L, rob_mean, rob_cov, rob_dist, rob_precision, rob_skew, rob_skew_dist, rob_kurt, rob_kurt_dist\n",
    "\n",
    "\n",
    "def cv_location_contamination(cv_df, cv_labels, location, precision):\n",
    "    \"\"\"\n",
    "\n",
    "    :param cv_df: cross-validation data frame\n",
    "    :param cv_labels: labels to evaluate prediction performance by contamination\n",
    "    :param location: mean vector\n",
    "    :param precision: inverse of covariance matrix\n",
    "    :return: For all tested contamination rates, returns the rate in which the best F1-score were achieved.\n",
    "    \"\"\"\n",
    "\n",
    "    contamination = round(0.00, 2)\n",
    "    contamination_prediction_list = []\n",
    "    labels = np.array(cv_labels)\n",
    "\n",
    "    for i in range(40):\n",
    "        contamination += 0.01\n",
    "        contamination = round(contamination, 2)\n",
    "        pred_label = predict_by_location_contamination(cv_df, location, precision, contamination)\n",
    "        contamination_prediction_list.append((contamination, f1_score(labels, pred_label, average=\"binary\")))\n",
    "\n",
    "    contamination_prediction_list.sort(key=lambda tup: tup[1], reverse=True)\n",
    "    contamination_best_f1 = contamination_prediction_list[0][0]\n",
    "\n",
    "    return contamination_best_f1\n",
    "\n",
    "\n",
    "def cv_location_threshold(cv_df, cv_labels, location, precision, dist):\n",
    "    \"\"\"\n",
    "\n",
    "    :param cv_df: cross-validation data frame\n",
    "    :param cv_labels: labels to evaluate prediction performance by contamination\n",
    "    :param location:\n",
    "    :param precision:\n",
    "    :return: For all tested contamination rates, returns the rate in which the best F1-score were achieved.\n",
    "    \"\"\"\n",
    "\n",
    "    threshold_prediction_list = []\n",
    "    labels = np.array(cv_labels)\n",
    "    min_dist = min(dist)\n",
    "    max_dist = max(dist)\n",
    "\n",
    "    for m_threshold in np.linspace(min_dist, max_dist, 40):\n",
    "        pred_label = predict_by_location_threshold(cv_df, location, precision, m_threshold)\n",
    "        threshold_prediction_list.append((m_threshold, f1_score(labels, pred_label, average=\"binary\")))\n",
    "\n",
    "    threshold_prediction_list.sort(key=lambda tup: tup[1], reverse=True)\n",
    "    best_threshold = threshold_prediction_list[0][0]\n",
    "\n",
    "    return best_threshold\n",
    "\n",
    "\n",
    "def cv_skewness_contamination(cv_df, cv_labels, skewness, precision):\n",
    "    \"\"\"\n",
    "\n",
    "    :param cv_df: cross-validation data frame\n",
    "    :param cv_labels: labels to evaluate prediction performance by contamination\n",
    "    :param skewness:\n",
    "    :param precision:\n",
    "    :return: For all tested contamination rates, returns the rate in which the best F1-score were achieved.\n",
    "    \"\"\"\n",
    "\n",
    "    contamination = round(0.00, 2)\n",
    "    contamination_prediction_list = []\n",
    "    actual_anomalies = np.array(cv_labels)\n",
    "    for i in range(40):\n",
    "        contamination += 0.01\n",
    "        contamination = round(contamination, 2)\n",
    "        pred_label = predict_by_skewness_contamination(cv_df, precision, skewness, contamination)\n",
    "        contamination_prediction_list.append((contamination, f1_score(actual_anomalies, pred_label, average=\"binary\")))\n",
    "\n",
    "    contamination_prediction_list.sort(key=lambda tup: tup[1], reverse=True)\n",
    "    best_contamination = contamination_prediction_list[0][0]\n",
    "\n",
    "    return best_contamination\n",
    "\n",
    "\n",
    "def cv_skewness_threshold(cv_df, cv_labels, skewness, precision, skew_dist):\n",
    "    \"\"\"\n",
    "\n",
    "    :param cv_df:\n",
    "    :param cv_labels: labels to evaluate prediction performance by contamination\n",
    "    :param skewness:\n",
    "    :param precision:\n",
    "    :param skew_dist:\n",
    "    :return:\n",
    "    \"\"\"\n",
    "\n",
    "    threshold_prediction_list = []\n",
    "    actual_anomalies = np.array(cv_labels)\n",
    "    min_dist = min(skew_dist)\n",
    "    max_dist = max(skew_dist)\n",
    "\n",
    "    for m_threshold in np.linspace(min_dist, max_dist, 40):\n",
    "        pred_label = predict_by_skewness_threshold(cv_df, precision, skewness, m_threshold)\n",
    "        threshold_prediction_list.append((m_threshold, f1_score(actual_anomalies, pred_label, average=\"binary\")))\n",
    "\n",
    "    threshold_prediction_list.sort(key=lambda tup: tup[1], reverse=True)\n",
    "    best_threshold = threshold_prediction_list[0][0]\n",
    "\n",
    "    return best_threshold\n",
    "\n",
    "\n",
    "def cv_kurtosis_contamination(cv_df, cv_labels, m_kurtosis, precision):\n",
    "    \"\"\"\n",
    "\n",
    "    :param df: cross-validation data frame\n",
    "    :param location:\n",
    "    :param precision:\n",
    "    :return: For all tested contamination rates, returns the rate in which the best F1-score were achieved.\n",
    "    \"\"\"\n",
    "\n",
    "    contamination = round(0.00, 2)\n",
    "    contamination_prediction_list = []\n",
    "    actual_anomalies = np.array(cv_labels)\n",
    "    for i in range(40):\n",
    "        contamination += 0.01\n",
    "        contamination = round(contamination, 2)\n",
    "        pred_label = predict_by_kurtosis_contamination(cv_df, precision, m_kurtosis, contamination)\n",
    "        contamination_prediction_list.append((contamination, f1_score(actual_anomalies, pred_label, average=\"binary\")))\n",
    "\n",
    "    contamination_prediction_list.sort(key=lambda tup: tup[1], reverse=True)\n",
    "    best_contamination = contamination_prediction_list[0][0]\n",
    "\n",
    "    return best_contamination\n",
    "\n",
    "\n",
    "def cv_kurtosis_threshold(cv_df, cv_labels, kurtosis, precision, kurt_dist):\n",
    "    \"\"\"\n",
    "\n",
    "    :param cv_df:\n",
    "    :param cv_labels: labels to evaluate prediction performance by contamination\n",
    "    :param kurtosis:\n",
    "    :param precision:\n",
    "    :param kurt_dist:\n",
    "    :return:\n",
    "    \"\"\"\n",
    "\n",
    "    threshold_prediction_list = []\n",
    "    actual_anomalies = np.array(cv_labels)\n",
    "    min_dist = min(kurt_dist)\n",
    "    max_dist = max(kurt_dist)\n",
    "\n",
    "    for m_threshold in np.linspace(min_dist, max_dist, 40):\n",
    "        pred_label = predict_by_kurtosis_threshold(cv_df, precision, kurtosis, m_threshold)\n",
    "        threshold_prediction_list.append((m_threshold, f1_score(actual_anomalies, pred_label, average=\"binary\")))\n",
    "\n",
    "    threshold_prediction_list.sort(key=lambda tup: tup[1], reverse=True)\n",
    "    best_threshold = threshold_prediction_list[0][0]\n",
    "\n",
    "    return best_threshold\n",
    "\n",
    "\n",
    "def md_rpca_prediction(test_df, location, precision, contamination):\n",
    "    \"\"\"\n",
    "\n",
    "    :param test_df:\n",
    "    :param location:\n",
    "    :param precision:\n",
    "    :param contamination:\n",
    "    :return:\n",
    "    \"\"\"\n",
    "\n",
    "    pred_label = np.full(test_df.shape[0], 0, dtype=int)\n",
    "    if contamination is not None:\n",
    "        # malhalanobis distance\n",
    "        mahal_dist = pairwise_distances(test_df, location[np.newaxis, :], metric='mahalanobis', VI=precision)\n",
    "        mahal_dist = np.reshape(mahal_dist, (len(test_df),)) ** 2  #MD squared\n",
    "        # detect outliers\n",
    "        contamination_threshold = np.percentile(mahal_dist,  100. * (1. - contamination))\n",
    "        pred_label[mahal_dist > contamination_threshold] = 1\n",
    "    else:\n",
    "        raise NotImplementedError(\"You must provide a contamination rate.\")\n",
    "\n",
    "    return pred_label, mahal_dist\n",
    "\n",
    "\n",
    "def predict_by_location_centered_contamination(X, location, precision, contamination):\n",
    "    \"\"\"\n",
    "\n",
    "    :param X:\n",
    "    :param location:\n",
    "    :param precision:\n",
    "    :param contamination:\n",
    "    :return:\n",
    "    \"\"\"\n",
    "\n",
    "    pred_label = np.full(X.shape[0], 0, dtype=int)\n",
    "    if contamination is not None:\n",
    "        # malhalanobis distance\n",
    "        X = X - location\n",
    "        mahal_dist = pairwise_distances(X, location[np.newaxis, :], metric='mahalanobis', VI=precision)\n",
    "        mahal_dist = np.reshape(mahal_dist, (len(X),)) ** 2  #MD squared\n",
    "        # detect outliers\n",
    "        contamination_threshold = np.percentile(mahal_dist,  100. * (1. - contamination))\n",
    "        pred_label[mahal_dist > contamination_threshold] = 1\n",
    "    else:\n",
    "        raise NotImplementedError(\"You must provide a contamination rate.\")\n",
    "\n",
    "    return pred_label\n",
    "\n",
    "\n",
    "def predict_by_location_threshold(X, location, precision, threshold):\n",
    "    \"\"\"\n",
    "\n",
    "    :param X:\n",
    "    :param location:\n",
    "    :param precision:\n",
    "    :param threshold:\n",
    "    :return:\n",
    "    \"\"\"\n",
    "\n",
    "    pred_label = np.full(X.shape[0], 0, dtype=int)\n",
    "\n",
    "    # malhalanobis distance\n",
    "    mahal_dist = pairwise_distances(X, location[np.newaxis, :], metric='mahalanobis', VI=precision)\n",
    "    mahal_dist = np.reshape(mahal_dist, (len(X),)) ** 2  #MD squared\n",
    "    # detect outliers\n",
    "    pred_label[mahal_dist > threshold] = 1\n",
    "\n",
    "    return pred_label\n",
    "\n",
    "\n",
    "def sd_rpca_prediction(X, skewness, precision, contamination):\n",
    "    \"\"\"\n",
    "\n",
    "    :param X:\n",
    "    :param precision:\n",
    "    :param skewness:\n",
    "    :param contamination:\n",
    "    :return:\n",
    "    \"\"\"\n",
    "\n",
    "    pred_label = np.full(X.shape[0], 0, dtype=int)\n",
    "\n",
    "    # malhalanobis distance\n",
    "    mahal_dist = pairwise_distances(X, skewness[np.newaxis, :], metric='mahalanobis', VI=precision)\n",
    "    mahal_dist = np.reshape(mahal_dist, (len(X),)) ** 2  # MD squared\n",
    "    pred_skew_dist = -mahal_dist\n",
    "\n",
    "    # detect outliers\n",
    "    contamination_threshold = np.percentile(pred_skew_dist, 100. * contamination)\n",
    "    pred_label[pred_skew_dist <= contamination_threshold] = 1\n",
    "\n",
    "    return pred_label, pred_skew_dist\n",
    "\n",
    "\n",
    "def predict_by_skewness_centered_contamination(X, precision, skewness, contamination):\n",
    "    \"\"\"\n",
    "\n",
    "    :param X:\n",
    "    :param precision:\n",
    "    :param skewness:\n",
    "    :param contamination:\n",
    "    :return:\n",
    "    \"\"\"\n",
    "\n",
    "    pred_label = np.full(X.shape[0], 0, dtype=int)\n",
    "\n",
    "    # skewness of the data\n",
    "    X_skew = X - skew(X, axis=0, bias=True)\n",
    "\n",
    "    # malhalanobis distance\n",
    "    mahal_dist = pairwise_distances(X_skew, skewness[np.newaxis, :], metric='mahalanobis', VI=precision)\n",
    "    mahal_dist = np.reshape(mahal_dist, (len(X_skew),)) ** 2 #MD squared\n",
    "    pred_skew_dist = -mahal_dist\n",
    "\n",
    "    # detect outliers\n",
    "    contamination_threshold = np.percentile(pred_skew_dist, 100. * contamination)\n",
    "    pred_label[pred_skew_dist <= contamination_threshold] = 1\n",
    "\n",
    "    return pred_label\n",
    "\n",
    "\n",
    "def predict_by_skewness_threshold(X, precision, skewness, threshold):\n",
    "    \"\"\"\n",
    "\n",
    "    :param X:\n",
    "    :param precision:\n",
    "    :param skewness:\n",
    "    :param threshold:\n",
    "    :return:\n",
    "    \"\"\"\n",
    "\n",
    "    pred_label = np.full(X.shape[0], 0, dtype=int)\n",
    "\n",
    "    # malhalanobis distance\n",
    "    mahal_dist = pairwise_distances(X, skewness[np.newaxis, :], metric='mahalanobis', VI=precision)\n",
    "    mahal_dist = np.reshape(mahal_dist, (len(X),)) ** 2  # MD squared\n",
    "    pred_skew_dist = -mahal_dist\n",
    "\n",
    "    # detect outliers\n",
    "    pred_label[pred_skew_dist <= threshold] = 1\n",
    "\n",
    "    return pred_label\n",
    "\n",
    "\n",
    "def predict_by_skewness_centered_threshold(X, precision, skewness, threshold):\n",
    "    \"\"\"\n",
    "\n",
    "    :param X:\n",
    "    :param precision:\n",
    "    :param skewness:\n",
    "    :param threshold:\n",
    "    :return:\n",
    "    \"\"\"\n",
    "\n",
    "    pred_label = np.full(X.shape[0], 0, dtype=int)\n",
    "\n",
    "    # skewness of the data\n",
    "    X_skew = X - skew(X, axis=0, bias=True)\n",
    "\n",
    "    # malhalanobis distance\n",
    "    mahal_dist = pairwise_distances(X_skew, skewness[np.newaxis, :], metric='mahalanobis', VI=precision)\n",
    "    mahal_dist = np.reshape(mahal_dist, (len(X_skew),)) ** 2  # MD squared\n",
    "    pred_skew_dist = -mahal_dist\n",
    "\n",
    "    # detect outliers\n",
    "    pred_label[pred_skew_dist <= threshold] = 1\n",
    "\n",
    "    return pred_label\n",
    "\n",
    "\n",
    "def kd_rpca_prediction(X, m_kurtosis, precision, contamination):\n",
    "    \"\"\"\n",
    "\n",
    "    :param X:\n",
    "    :param precision:\n",
    "    :param m_kurtosis\t:\n",
    "    :param contamination:\n",
    "    :return:\n",
    "    \"\"\"\n",
    "\n",
    "    pred_label = np.full(X.shape[0], 0, dtype=int)\n",
    "\n",
    "    # malhalanobis distance\n",
    "    mahal_dist = pairwise_distances(X, m_kurtosis[np.newaxis, :], metric='mahalanobis', VI=precision)\n",
    "    mahal_dist = np.reshape(mahal_dist, (len(X),)) ** 2  # MD squared\n",
    "    pred_kurt_dist = -mahal_dist\n",
    "\n",
    "    # detect outliers\n",
    "    contamination_threshold = np.percentile(pred_kurt_dist, 100. * contamination)\n",
    "    pred_label[pred_kurt_dist <= contamination_threshold] = 1\n",
    "\n",
    "    return pred_label, pred_kurt_dist\n",
    "\n",
    "\n",
    "def predict_by_kurtosis_centered_contamination(X, precision, m_kurtosis, contamination):\n",
    "    \"\"\"\n",
    "\n",
    "    :param X:\n",
    "    :param precision:\n",
    "    :param m_kurtosis\t:\n",
    "    :param contamination:\n",
    "    :return:\n",
    "    \"\"\"\n",
    "\n",
    "    pred_label = np.full(X.shape[0], 0, dtype=int)\n",
    "\n",
    "    # m_kurtosis\t of the data\n",
    "    X_kurt = X - kurtosis(X, axis=0, bias=True)\n",
    "\n",
    "    # malhalanobis distance\n",
    "    mahal_dist = pairwise_distances(X_kurt, m_kurtosis[np.newaxis, :], metric='mahalanobis', VI=precision)\n",
    "    mahal_dist = np.reshape(mahal_dist, (len(X_kurt),)) ** 2 #MD squared\n",
    "    pred_kurt_dist = -mahal_dist\n",
    "\n",
    "    # detect outliers\n",
    "    contamination_threshold = np.percentile(pred_kurt_dist, 100. * contamination)\n",
    "    pred_label[pred_kurt_dist <= contamination_threshold] = 1\n",
    "\n",
    "    return pred_label\n",
    "\n",
    "\n",
    "def predict_by_kurtosis_threshold(X, precision, m_kurtosis, threshold):\n",
    "    \"\"\"\n",
    "\n",
    "    :param X:\n",
    "    :param precision:\n",
    "    :param m_kurtosis\t:\n",
    "    :param threshold:\n",
    "    :return:\n",
    "    \"\"\"\n",
    "\n",
    "    pred_label = np.full(X.shape[0], 0, dtype=int)\n",
    "\n",
    "    # malhalanobis distance\n",
    "    mahal_dist = pairwise_distances(X, m_kurtosis[np.newaxis, :], metric='mahalanobis', VI=precision)\n",
    "    mahal_dist = np.reshape(mahal_dist, (len(X),)) ** 2  # MD squared\n",
    "    pred_kurt_dist = -mahal_dist\n",
    "\n",
    "    # detect outliers\n",
    "    pred_label[pred_kurt_dist <= threshold] = 1\n",
    "\n",
    "    return pred_label\n",
    "\n",
    "\n",
    "def predict_by_kurtosis_centered_threshold(X, precision, m_kurtosis, threshold):\n",
    "    \"\"\"\n",
    "\n",
    "    :param X:\n",
    "    :param precision:\n",
    "    :param m_kurtosis\t:\n",
    "    :param threshold:\n",
    "    :return:\n",
    "    \"\"\"\n",
    "\n",
    "    pred_label = np.full(X.shape[0], 0, dtype=int)\n",
    "\n",
    "    # m_kurtosis\t of the data\n",
    "    X_kurt = X - kurtosis(X, axis=0, bias=True)\n",
    "\n",
    "    # malhalanobis distance\n",
    "    mahal_dist = pairwise_distances(X_kurt, m_kurtosis[np.newaxis, :], metric='mahalanobis', VI=precision)\n",
    "    mahal_dist = np.reshape(mahal_dist, (len(X_kurt),)) ** 2  # MD squared\n",
    "    pred_kurt_dist = -mahal_dist\n",
    "\n",
    "    # detect outliers\n",
    "    pred_label[pred_kurt_dist <= threshold] = 1\n",
    "\n",
    "    return pred_label"
   ]
  },
  {
   "cell_type": "markdown",
   "metadata": {
    "colab_type": "text",
    "id": "aN9SRs3JUc0f"
   },
   "source": []
  },
  {
   "cell_type": "code",
   "execution_count": 3,
   "metadata": {
    "colab": {
     "base_uri": "https://localhost:8080/",
     "height": 85
    },
    "colab_type": "code",
    "id": "EAVHk4xbxcEW",
    "outputId": "2029993a-cb06-4bb6-f04d-bd87a947c061",
    "pycharm": {
     "is_executing": false
    }
   },
   "outputs": [
    {
     "name": "stdout",
     "output_type": "stream",
     "text": [
      "n_samples: 2400\n",
      "n_inliers: 2160\n",
      "n_outliers: 240\n",
      "ground_truth: (2400,)\n"
     ]
    }
   ],
   "source": [
    "# Define the number of inliers and outliers\n",
    "n_samples = 2400\n",
    "#outliers_fraction = 0.33\n",
    "#outliers_fraction = 0.25\n",
    "outliers_fraction = 0.10\n",
    "n_inliers = int((1. - outliers_fraction) * n_samples)\n",
    "n_outliers = int(n_samples - n_inliers)\n",
    "\n",
    "# result path\n",
    "result_path = 'output/synthetic/'\n",
    "\n",
    "# Initialize the data\n",
    "ground_truth = np.zeros(n_samples, dtype=int)\n",
    "ground_truth[-n_outliers:] = 1 #put outliers into the end\n",
    "\n",
    "# print the data shapes\n",
    "print('n_samples:', n_samples)\n",
    "print('n_inliers:', n_inliers)\n",
    "print('n_outliers:', n_outliers)\n",
    "print('ground_truth:', ground_truth.shape)"
   ]
  },
  {
   "cell_type": "code",
   "execution_count": 4,
   "metadata": {
    "colab": {
     "base_uri": "https://localhost:8080/",
     "height": 51
    },
    "colab_type": "code",
    "id": "E5bzTpumxf4k",
    "outputId": "aa421227-50a7-4d14-a439-5a38977b5613",
    "pycharm": {
     "is_executing": false
    }
   },
   "outputs": [
    {
     "name": "stdout",
     "output_type": "stream",
     "text": [
      "Xgaussian_t: (2160, 2)\n",
      "Xgaussian: (2160, 2)\n"
     ]
    }
   ],
   "source": [
    "# Gaussian\n",
    "np.random.seed(11)\n",
    "X1 = 0.3 * np.random.randn(n_inliers, 2)\n",
    "X2 = 0.3 * np.random.randn(n_inliers, 2) \n",
    "Xgaussian = np.r_[X1, X2]\n",
    "Xgaussian_t = Xgaussian[:n_inliers]\n",
    "print('Xgaussian_t:', Xgaussian_t.shape)\n",
    "Xgaussian = Xgaussian[n_inliers:]\n",
    "print('Xgaussian:', Xgaussian.shape)"
   ]
  },
  {
   "cell_type": "code",
   "execution_count": 5,
   "metadata": {
    "colab": {
     "base_uri": "https://localhost:8080/",
     "height": 34
    },
    "colab_type": "code",
    "id": "gXIaS5sXlCBQ",
    "outputId": "423b6844-dba2-4641-8b45-358329b7db73",
    "pycharm": {
     "is_executing": false
    }
   },
   "outputs": [
    {
     "name": "stdout",
     "output_type": "stream",
     "text": [
      "Xgu: (2400, 2)\n"
     ]
    }
   ],
   "source": [
    "# Append uniform outliers\n",
    "Cuniform = np.random.uniform(low=-6, high=6, size=(n_outliers, 2))\n",
    "Xgu = np.r_[Xgaussian,Cuniform]\n",
    "print('Xgu:', Xgu.shape)"
   ]
  },
  {
   "cell_type": "code",
   "execution_count": 6,
   "metadata": {
    "colab": {
     "base_uri": "https://localhost:8080/",
     "height": 34
    },
    "colab_type": "code",
    "id": "IJd7PChDlGCz",
    "outputId": "63a4a167-4352-4fee-be80-0ecb0ceaf3e0",
    "pycharm": {
     "is_executing": false
    }
   },
   "outputs": [
    {
     "name": "stdout",
     "output_type": "stream",
     "text": [
      "Xgaussian_tc: (2400, 2)\n"
     ]
    }
   ],
   "source": [
    "# Contaminated Gaussian\n",
    "Ctuniform = np.random.uniform(low=-6, high=6, size=(n_outliers, 2))\n",
    "Xgaussian_tc = np.r_[Xgaussian_t, Ctuniform]\n",
    "print('Xgaussian_tc:', Xgaussian_tc.shape)"
   ]
  },
  {
   "cell_type": "code",
   "execution_count": 7,
   "metadata": {
    "colab": {},
    "colab_type": "code",
    "id": "N6ohR17Z6YF8",
    "pycharm": {
     "is_executing": false
    }
   },
   "outputs": [],
   "source": [
    "# # Pareto distribution\n",
    "# np.random.seed(42)\n",
    "# a = 3.  # shape\n",
    "# m = 1.  # mode\n",
    "\n",
    "# p1 = (np.random.pareto(a, n_inliers) + 1) * m\n",
    "# p2 = (np.random.pareto(a, n_inliers) + 1) * m\n",
    "# Xpareto = np.vstack((p1,p2)).transpose()\n",
    "# print('Xpareto:', Xpareto.shape)\n",
    "\n",
    "# p1 = (np.random.pareto(a, n_inliers) + 1) * m\n",
    "# p2 = (np.random.pareto(a, n_inliers) + 1) * m\n",
    "# Xpareto_t = np.vstack((p1,p2)).transpose()\n",
    "# print('Xpareto_t:', Xpareto_t.shape)\n",
    "\n",
    "# # Add outliers\n",
    "# Cgaussian = 0.1 * np.random.randn(n_outliers, 2)\n",
    "# print('Cgaussian:', Cgaussian.shape)\n",
    "# Xpg = np.r_[Xpareto, Cgaussian]\n",
    "# print('Xpg:', Xpg.shape)\n",
    "\n",
    "# np.random.seed(42)\n",
    "# Ct = 0.1 * np.random.randn(n_outliers, 2)\n",
    "# Xpareto_tc = np.r_[Xpareto_t, Ct]\n",
    "\n",
    "# Xgaussian_t = Xpareto_t\n",
    "# Xgaussian_tc = Xpareto_tc\n",
    "# Xgu = Xpg"
   ]
  },
  {
   "cell_type": "code",
   "execution_count": 8,
   "metadata": {
    "colab": {
     "base_uri": "https://localhost:8080/",
     "height": 119
    },
    "colab_type": "code",
    "id": "i5CAlFnHE2WT",
    "outputId": "02d17109-ef84-4932-9f59-cc7f46f3d591",
    "pycharm": {
     "is_executing": false
    }
   },
   "outputs": [
    {
     "name": "stdout",
     "output_type": "stream",
     "text": [
      "1 fitting Isolation Forest 0.9708333333333333\n",
      "2 fitting K Nearest Neighbors (KNN) 0.9727463312368972\n",
      "3 fitting Local Outlier Factor (LOF) 0.2923728813559322\n",
      "4 fitting Minimum Covariance Determinant (MCD) 0.975\n",
      "5 fitting One-class SVM (OCSVM) 0.975\n",
      "6 fitting Principal Component Analysis (PCA) 0.9291666666666667\n"
     ]
    }
   ],
   "source": [
    "random_state = np.random.RandomState(42)\n",
    "\n",
    "# Define nine outlier detection tools to be compared\n",
    "classifiers = {\n",
    "    'Isolation Forest': IForest(contamination=outliers_fraction, random_state=random_state),\n",
    "    'K Nearest Neighbors (KNN)': KNN(contamination=outliers_fraction),\n",
    "    'Local Outlier Factor (LOF)': LOF(n_neighbors=35, contamination=outliers_fraction),\n",
    "    'Minimum Covariance Determinant (MCD)': MCD(contamination=outliers_fraction, random_state=random_state),\n",
    "    'One-class SVM (OCSVM)': OCSVM(contamination=outliers_fraction),\n",
    "    'Principal Component Analysis (PCA)': PCA(contamination=outliers_fraction, random_state=random_state),\n",
    "}\n",
    "\n",
    "for i, (clf_name, clf) in enumerate(classifiers.items()):    \n",
    "    # fit the data and tag outliers\n",
    "    clf.fit(Xgu)\n",
    "    scores_pred = clf.decision_function(Xgu) * -1\n",
    "    y_pred = clf.predict(Xgu)\n",
    "    threshold = percentile(scores_pred, 100 * outliers_fraction)    \n",
    "    f1 = f1_score(ground_truth, y_pred, average=\"binary\")\n",
    "    print(i + 1, 'fitting', clf_name, f1)"
   ]
  },
  {
   "cell_type": "code",
   "execution_count": 9,
   "metadata": {
    "colab": {
     "base_uri": "https://localhost:8080/",
     "height": 170
    },
    "colab_type": "code",
    "id": "lh0s9zTql8BV",
    "outputId": "846613bf-b10c-4788-f870-99d142037be2",
    "pycharm": {
     "is_executing": false
    }
   },
   "outputs": [
    {
     "name": "stdout",
     "output_type": "stream",
     "text": [
      "ss_md_rpca - F1: 0.975000\n",
      "ss_sd_rpca - F1: 0.975000\n",
      "ss_kd_rpca - F1: 0.970833\n",
      "css_md_rpca - F1: 0.975000\n",
      "css_sd_rpca - F1: 0.962500\n",
      "css_kd_rpca - F1: 0.487500\n",
      "u_md_rpca - F1: 0.975000\n",
      "u_sd_rpca - F1: 0.970833\n",
      "u_kd_rpca - F1: 0.504167\n"
     ]
    }
   ],
   "source": [
    "# Train\n",
    "r_L, r_mu, r_cov, r_dist, r_precision, r_skew, _, r_kurt, _ = fit_m_rpca(Xgaussian_t)\n",
    "# Testing md-rpca\n",
    "md_pred_label, md_pred_dist = md_rpca_prediction(Xgu, r_mu, r_precision, outliers_fraction)\n",
    "md_f1 = f1_score(ground_truth, md_pred_label, average=\"binary\")\n",
    "print('ss_md_rpca - F1: %f' % (md_f1))\n",
    "# Testing sd-rpca\n",
    "sd_pred_label, sd_pred_dist = sd_rpca_prediction(Xgu, r_skew, r_precision, outliers_fraction)\n",
    "sd_f1 = f1_score(ground_truth, sd_pred_label, average=\"binary\")\n",
    "print('ss_sd_rpca - F1: %f' % (sd_f1))\n",
    "# Testing kd-rpca\n",
    "kd_pred_label, kd_pred_dist = kd_rpca_prediction(Xgu, r_kurt, r_precision, outliers_fraction)\n",
    "kd_f1 = f1_score(ground_truth, kd_pred_label, average=\"binary\")\n",
    "print('ss_kd_rpca - F1: %f' % (kd_f1))\n",
    "\n",
    "# Train\n",
    "r_L, r_mu, r_cov, r_dist, r_precision, r_skew, _, r_kurt, _ = fit_m_rpca(Xgaussian_tc)\n",
    "# Testing md-rpca\n",
    "md_pred_label, md_pred_dist = md_rpca_prediction(Xgu, r_mu, r_precision, outliers_fraction)\n",
    "md_f1 = f1_score(ground_truth, md_pred_label, average=\"binary\")\n",
    "print('css_md_rpca - F1: %f' % (md_f1))\n",
    "# Testing sd-rpca\n",
    "sd_pred_label, sd_pred_dist = sd_rpca_prediction(Xgu, r_skew, r_precision, outliers_fraction)\n",
    "sd_f1 = f1_score(ground_truth, sd_pred_label, average=\"binary\")\n",
    "print('css_sd_rpca - F1: %f' % (sd_f1))\n",
    "# Testing kd-rpca\n",
    "kd_pred_label, kd_pred_dist = kd_rpca_prediction(Xgu, r_kurt, r_precision, outliers_fraction)\n",
    "kd_f1 = f1_score(ground_truth, kd_pred_label, average=\"binary\")\n",
    "print('css_kd_rpca - F1: %f' % (kd_f1))\n",
    "\n",
    "# Train\n",
    "r_L, r_mu, r_cov, r_dist, r_precision, r_skew, _, r_kurt, _ = fit_m_rpca(Xgu)\n",
    "# Testing md-rpca\n",
    "md_pred_label, md_pred_dist = md_rpca_prediction(Xgu, r_mu, r_precision, outliers_fraction)\n",
    "md_f1 = f1_score(ground_truth, md_pred_label, average=\"binary\")\n",
    "print('u_md_rpca - F1: %f' % (md_f1))\n",
    "# Testing sd-rpca\n",
    "sd_pred_label, sd_pred_dist = sd_rpca_prediction(Xgu, r_skew, r_precision, outliers_fraction)\n",
    "sd_f1 = f1_score(ground_truth, sd_pred_label, average=\"binary\")\n",
    "print('u_sd_rpca - F1: %f' % (sd_f1))\n",
    "# Testing kd-rpca\n",
    "kd_pred_label, kd_pred_dist = kd_rpca_prediction(Xgu, r_kurt, r_precision, outliers_fraction)\n",
    "kd_f1 = f1_score(ground_truth, kd_pred_label, average=\"binary\")\n",
    "print('u_kd_rpca - F1: %f' % (kd_f1))"
   ]
  },
  {
   "cell_type": "code",
   "execution_count": 10,
   "metadata": {
    "colab": {},
    "colab_type": "code",
    "id": "IDepKtRJy3oj",
    "pycharm": {
     "is_executing": false
    }
   },
   "outputs": [],
   "source": [
    "from tensorly import fold, unfold\n",
    "\n",
    "def fit_t_m_rpca(tensor, m_reg_J=1):\n",
    "\n",
    "    L, S = robust_pca(tensor, reg_J=m_reg_J)\n",
    "    L = unfold(L.T, 1)\n",
    "    L = L.T\n",
    "\n",
    "    rob_mean = L.mean(axis=0)\n",
    "    rob_cov = pd.DataFrame(L).cov()\n",
    "    rob_precision = linalg.pinvh(rob_cov)\n",
    "    rob_dist = (np.dot(L, rob_precision) * L).sum(axis=1)\n",
    "\n",
    "    rob_skew = skew(L, axis=0, bias=True)\n",
    "    rob_skew_dist = (np.dot(L - rob_skew, rob_precision) * (L - rob_skew)).sum(axis=1)\n",
    "\n",
    "    rob_kurt = kurtosis(L, axis=0, fisher=True, bias=True)\n",
    "    rob_kurt_dist = (np.dot(L - rob_kurt, rob_precision) * (L - rob_kurt)).sum(axis=1)\n",
    "\n",
    "    return L, rob_mean, rob_cov, rob_dist, rob_precision, rob_skew, rob_skew_dist, rob_kurt, rob_kurt_dist\n",
    "\n",
    "import warnings\n",
    "import types\n",
    "import sys\n",
    "import numpy.core.numeric as _nx\n",
    "from numpy.core import linspace\n",
    "from numpy.core.numeric import ones, zeros, arange, concatenate, array, \\\n",
    "        asarray, asanyarray, empty, empty_like, ndarray, around\n",
    "from numpy.core.numeric import ScalarType, dot, where, newaxis, intp, \\\n",
    "        integer, isscalar\n",
    "from numpy.core.umath import pi, multiply, add, arctan2,  \\\n",
    "        frompyfunc, isnan, cos, less_equal, sqrt, sin, mod, exp, log10\n",
    "from numpy.core.fromnumeric import ravel, nonzero, choose, sort, partition, mean\n",
    "from numpy.core.numerictypes import typecodes, number\n",
    "from numpy.core import atleast_1d, atleast_2d\n",
    "from numpy.lib.twodim_base import diag\n",
    "import numpy as np\n",
    "import collections\n",
    "from numpy.compat import long\n",
    "\n",
    "def npcov(m, y=None, rowvar=1, bias=0, ddof=None):\n",
    "    \"\"\"\n",
    "    Estimate a covariance matrix, given data.\n",
    "    Covariance indicates the level to which two variables vary together.\n",
    "    If we examine N-dimensional samples, :math:`X = [x_1, x_2, ... x_N]^T`,\n",
    "    then the covariance matrix element :math:`C_{ij}` is the covariance of\n",
    "    :math:`x_i` and :math:`x_j`. The element :math:`C_{ii}` is the variance\n",
    "    of :math:`x_i`.\n",
    "    Parameters\n",
    "    ----------\n",
    "    m : array_like\n",
    "        A 1-D or 2-D array containing multiple variables and observations.\n",
    "        Each row of `m` represents a variable, and each column a single\n",
    "        observation of all those variables. Also see `rowvar` below.\n",
    "    y : array_like, optional\n",
    "        An additional set of variables and observations. `y` has the same\n",
    "        form as that of `m`.\n",
    "    rowvar : int, optional\n",
    "        If `rowvar` is non-zero (default), then each row represents a\n",
    "        variable, with observations in the columns. Otherwise, the relationship\n",
    "        is transposed: each column represents a variable, while the rows\n",
    "        contain observations.\n",
    "    bias : int, optional\n",
    "        Default normalization is by ``(N - 1)``, where ``N`` is the number of\n",
    "        observations given (unbiased estimate). If `bias` is 1, then\n",
    "        normalization is by ``N``. These values can be overridden by using\n",
    "        the keyword ``ddof`` in numpy versions >= 1.5.\n",
    "    ddof : int, optional\n",
    "        .. versionadded:: 1.5\n",
    "        If not ``None`` normalization is by ``(N - ddof)``, where ``N`` is\n",
    "        the number of observations; this overrides the value implied by\n",
    "        ``bias``. The default value is ``None``.\n",
    "    Returns\n",
    "    -------\n",
    "    out : ndarray\n",
    "        The covariance matrix of the variables.\n",
    "    See Also\n",
    "    --------\n",
    "    corrcoef : Normalized covariance matrix\n",
    "    Examples\n",
    "    --------\n",
    "    Consider two variables, :math:`x_0` and :math:`x_1`, which\n",
    "    correlate perfectly, but in opposite directions:\n",
    "    >>> x = np.array([[0, 2], [1, 1], [2, 0]]).T\n",
    "    >>> x\n",
    "    array([[0, 1, 2],\n",
    "           [2, 1, 0]])\n",
    "    Note how :math:`x_0` increases while :math:`x_1` decreases. The covariance\n",
    "    matrix shows this clearly:\n",
    "    >>> np.cov(x)\n",
    "    array([[ 1., -1.],\n",
    "           [-1.,  1.]])\n",
    "    Note that element :math:`C_{0,1}`, which shows the correlation between\n",
    "    :math:`x_0` and :math:`x_1`, is negative.\n",
    "    Further, note how `x` and `y` are combined:\n",
    "    >>> x = [-2.1, -1,  4.3]\n",
    "    >>> y = [3,  1.1,  0.12]\n",
    "    >>> X = np.vstack((x,y))\n",
    "    >>> print np.cov(X)\n",
    "    [[ 11.71        -4.286     ]\n",
    "     [ -4.286        2.14413333]]\n",
    "    >>> print np.cov(x, y)\n",
    "    [[ 11.71        -4.286     ]\n",
    "     [ -4.286        2.14413333]]\n",
    "    >>> print np.cov(x)\n",
    "    11.71\n",
    "    \"\"\"\n",
    "    # Check inputs\n",
    "    if ddof is not None and ddof != int(ddof):\n",
    "        raise ValueError(\"ddof must be integer\")\n",
    "\n",
    "    X = np.array(m, ndmin=2, dtype=float)\n",
    "\n",
    "    if X.size == 0:\n",
    "        # handle empty arrays\n",
    "        return np.array(m)\n",
    "\n",
    "    if X.shape[0] == 1:\n",
    "        rowvar = 1\n",
    "\n",
    "    if rowvar:\n",
    "        axis = 0\n",
    "        tup = (slice(None), newaxis)\n",
    "    else:\n",
    "        axis = 1\n",
    "        tup = (newaxis, slice(None))\n",
    "\n",
    "    if y is not None:\n",
    "        y = array(y, copy=False, ndmin=2, dtype=float)\n",
    "        X = concatenate((X, y), axis)\n",
    "\n",
    "    X -= X.mean(axis=1-axis)[tup]\n",
    "\n",
    "    if rowvar:\n",
    "        N = X.shape[1]\n",
    "    else:\n",
    "        N = X.shape[0]\n",
    "\n",
    "    if ddof is None:\n",
    "        if bias == 0:\n",
    "            ddof = 1\n",
    "        else:\n",
    "            ddof = 0\n",
    "\n",
    "    fact = float(N - ddof)\n",
    "\n",
    "    if not rowvar:\n",
    "        return (dot(X.T, X.conj()) / fact).squeeze()\n",
    "    else:\n",
    "        return (dot(X, X.T.conj()) / fact).squeeze()"
   ]
  },
  {
   "cell_type": "code",
   "execution_count": 11,
   "metadata": {
    "colab": {
     "base_uri": "https://localhost:8080/",
     "height": 68
    },
    "colab_type": "code",
    "id": "S6Z0v58f_gFa",
    "outputId": "7d715a1f-5961-45e2-fd22-88b69d4df305",
    "pycharm": {
     "is_executing": false
    }
   },
   "outputs": [
    {
     "name": "stdout",
     "output_type": "stream",
     "text": [
      "Xgaussian_t: (2160, 2) (54, 2, 40)\n",
      "t_Xgaussian_tc: (2400, 2) (60, 2, 40)\n",
      "t_Xgu: (2400, 2) (60, 2, 40)\n"
     ]
    }
   ],
   "source": [
    "from tensorly import fold\n",
    "\n",
    "t_Xgaussian_t = fold(Xgaussian_t, 2, (54,2,40))\n",
    "print('Xgaussian_t:', Xgaussian_t.shape, t_Xgaussian_t.shape)\n",
    "\n",
    "t_Xgaussian_tc = fold(Xgaussian_tc, 2, (60,2,40))\n",
    "print('t_Xgaussian_tc:', Xgaussian_tc.shape, t_Xgaussian_tc.shape)\n",
    "\n",
    "t_Xgu = fold(Xgu, 2, (60,2,40))\n",
    "print('t_Xgu:', Xgu.shape, t_Xgu.shape)"
   ]
  },
  {
   "cell_type": "code",
   "execution_count": 12,
   "metadata": {
    "colab": {
     "base_uri": "https://localhost:8080/",
     "height": 170
    },
    "colab_type": "code",
    "id": "UPk4GJx7pqEj",
    "outputId": "97b1689c-4950-47c9-e7c8-f54be4e1d491",
    "pycharm": {
     "is_executing": false
    }
   },
   "outputs": [
    {
     "name": "stdout",
     "output_type": "stream",
     "text": [
      "ss_md_rpca - F1: 0.975000\n",
      "ss_sd_rpca - F1: 0.975000\n",
      "ss_kd_rpca - F1: 0.970833\n",
      "css_md_rpca - F1: 0.975000\n",
      "css_sd_rpca - F1: 0.962500\n",
      "css_kd_rpca - F1: 0.487500\n",
      "u_md_rpca - F1: 0.975000\n",
      "u_sd_rpca - F1: 0.970833\n",
      "u_kd_rpca - F1: 0.504167\n"
     ]
    }
   ],
   "source": [
    "# Train\n",
    "r_L, r_mu, r_cov, r_dist, r_precision, r_skew, _, r_kurt, _ = fit_t_m_rpca(t_Xgaussian_t, m_reg_J=0.1)\n",
    "# Testing md-rpca\n",
    "md_pred_label, md_pred_dist = md_rpca_prediction(Xgu, r_mu, r_precision, outliers_fraction)\n",
    "md_f1 = f1_score(ground_truth, md_pred_label, average=\"binary\")\n",
    "print('ss_md_rpca - F1: %f' % (md_f1))\n",
    "# Testing sd-rpca\n",
    "sd_pred_label, sd_pred_dist = sd_rpca_prediction(Xgu, r_skew, r_precision, outliers_fraction)\n",
    "sd_f1 = f1_score(ground_truth, sd_pred_label, average=\"binary\")\n",
    "print('ss_sd_rpca - F1: %f' % (sd_f1))\n",
    "# Testing kd-rpca\n",
    "kd_pred_label, kd_pred_dist = kd_rpca_prediction(Xgu, r_kurt, r_precision, outliers_fraction)\n",
    "kd_f1 = f1_score(ground_truth, kd_pred_label, average=\"binary\")\n",
    "print('ss_kd_rpca - F1: %f' % (kd_f1))\n",
    "\n",
    "# Train\n",
    "r_L, r_mu, r_cov, r_dist, r_precision, r_skew, _, r_kurt, _ = fit_t_m_rpca(t_Xgaussian_tc, m_reg_J=0.01)\n",
    "# Testing md-rpca\n",
    "md_pred_label, md_pred_dist = md_rpca_prediction(Xgu, r_mu, r_precision, outliers_fraction)\n",
    "md_f1 = f1_score(ground_truth, md_pred_label, average=\"binary\")\n",
    "print('css_md_rpca - F1: %f' % (md_f1))\n",
    "# Testing sd-rpca\n",
    "sd_pred_label, sd_pred_dist = sd_rpca_prediction(Xgu, r_skew, r_precision, outliers_fraction)\n",
    "sd_f1 = f1_score(ground_truth, sd_pred_label, average=\"binary\")\n",
    "print('css_sd_rpca - F1: %f' % (sd_f1))\n",
    "# Testing kd-rpca\n",
    "kd_pred_label, kd_pred_dist = kd_rpca_prediction(Xgu, r_kurt, r_precision, outliers_fraction)\n",
    "kd_f1 = f1_score(ground_truth, kd_pred_label, average=\"binary\")\n",
    "print('css_kd_rpca - F1: %f' % (kd_f1))\n",
    "\n",
    "# Train\n",
    "r_L, r_mu, r_cov, r_dist, r_precision, r_skew, _, r_kurt, _ = fit_t_m_rpca(t_Xgu, m_reg_J=0.5)\n",
    "# Testing md-rpca\n",
    "md_pred_label, md_pred_dist = md_rpca_prediction(Xgu, r_mu, r_precision, outliers_fraction)\n",
    "md_f1 = f1_score(ground_truth, md_pred_label, average=\"binary\")\n",
    "print('u_md_rpca - F1: %f' % (md_f1))\n",
    "# Testing sd-rpca\n",
    "sd_pred_label, sd_pred_dist = sd_rpca_prediction(Xgu, r_skew, r_precision, outliers_fraction)\n",
    "sd_f1 = f1_score(ground_truth, sd_pred_label, average=\"binary\")\n",
    "print('u_sd_rpca - F1: %f' % (sd_f1))\n",
    "# Testing kd-rpca\n",
    "kd_pred_label, kd_pred_dist = kd_rpca_prediction(Xgu, r_kurt, r_precision, outliers_fraction)\n",
    "kd_f1 = f1_score(ground_truth, kd_pred_label, average=\"binary\")\n",
    "print('u_kd_rpca - F1: %f' % (kd_f1))"
   ]
  },
  {
   "cell_type": "code",
   "execution_count": 13,
   "metadata": {
    "colab": {
     "base_uri": "https://localhost:8080/",
     "height": 500
    },
    "colab_type": "code",
    "id": "ndm8TXNVgcxu",
    "outputId": "9a98f036-4974-4e25-c5b7-6989a002818a",
    "pycharm": {
     "is_executing": false
    }
   },
   "outputs": [
    {
     "data": {
      "image/png": "[encoded data removed]",
      "text/plain": [
       "<Figure size 864x576 with 1 Axes>"
      ]
     },
     "metadata": {},
     "output_type": "display_data"
    }
   ],
   "source": [
    "X = Xgu\n",
    "# X = Xgaussian_t\n",
    "# X = Xgaussian_tc\n",
    "%matplotlib inline\n",
    "plt.style.use('ggplot')\n",
    "plt.rcParams['figure.figsize'] = (12, 8)\n",
    "plt.scatter(X[:, 0], X[:, 1])\n",
    "plt.title('Generated Data')\n",
    "plt.axis('equal');"
   ]
  },
  {
   "cell_type": "code",
   "execution_count": 14,
   "metadata": {
    "colab": {},
    "colab_type": "code",
    "id": "B0Lt6GpLgNtt",
    "pycharm": {
     "is_executing": false
    }
   },
   "outputs": [],
   "source": [
    "# Covariance\n",
    "def cov(x, y):\n",
    "    xbar, ybar = x.mean(), y.mean()\n",
    "    return np.sum((x - xbar)*(y - ybar))/(len(x) - 1)\n",
    "\n",
    "# Covariance matrix\n",
    "def cov_mat(X):\n",
    "    return np.array([[cov(X[0], X[0]), cov(X[0], X[1])], \\\n",
    "                     [cov(X[1], X[0]), cov(X[1], X[1])]])"
   ]
  },
  {
   "cell_type": "code",
   "execution_count": 15,
   "metadata": {
    "colab": {},
    "colab_type": "code",
    "id": "U9acFlSAJMYN",
    "pycharm": {
     "is_executing": false
    }
   },
   "outputs": [
    {
     "name": "stdout",
     "output_type": "stream",
     "text": [
      "Xgu: (2400, 2)\n",
      "t_Xgu: (60, 2, 40)\n",
      "1-t_Xgu: (60, 80)\n",
      "2-t_Xgu: (2, 2400)\n",
      "3-t_Xgu: (40, 120)\n"
     ]
    }
   ],
   "source": [
    "print('Xgu:', Xgu.shape)\n",
    "print('t_Xgu:', t_Xgu.shape)\n",
    "print('1-t_Xgu:', unfold(t_Xgu, 0).shape)\n",
    "print('2-t_Xgu:', unfold(t_Xgu, 1).shape)\n",
    "print('3-t_Xgu:', unfold(t_Xgu, 2).shape)"
   ]
  },
  {
   "cell_type": "code",
   "execution_count": 16,
   "metadata": {
    "colab": {
     "base_uri": "https://localhost:8080/",
     "height": 51
    },
    "colab_type": "code",
    "id": "vOBNmOvzFNXk",
    "outputId": "55de4919-dfad-4aee-97d0-4711514dd26e",
    "pycharm": {
     "is_executing": false
    }
   },
   "outputs": [
    {
     "data": {
      "text/plain": [
       "array([[ 1.29461387, -0.07977427],\n",
       "       [-0.07977427,  1.28388689]])"
      ]
     },
     "execution_count": 16,
     "metadata": {},
     "output_type": "execute_result"
    }
   ],
   "source": [
    "cov_mat(Xgu.T)"
   ]
  },
  {
   "cell_type": "code",
   "execution_count": 17,
   "metadata": {
    "colab": {
     "base_uri": "https://localhost:8080/",
     "height": 51
    },
    "colab_type": "code",
    "id": "wLZhmm14FRyi",
    "outputId": "5d54c236-203a-4986-b4ce-b61ddd3c658e",
    "pycharm": {
     "is_executing": false
    }
   },
   "outputs": [
    {
     "data": {
      "text/plain": [
       "array([[ 1.29461387, -0.07977427],\n",
       "       [-0.07977427,  1.28388689]])"
      ]
     },
     "execution_count": 17,
     "metadata": {},
     "output_type": "execute_result"
    }
   ],
   "source": [
    "npcov(Xgu.T)"
   ]
  },
  {
   "cell_type": "code",
   "execution_count": 18,
   "metadata": {
    "colab": {
     "base_uri": "https://localhost:8080/",
     "height": 51
    },
    "colab_type": "code",
    "id": "CZ4B7LtciFpm",
    "outputId": "e47f7a82-11cc-4480-ce1c-eeec159d1d2d",
    "pycharm": {
     "is_executing": false
    }
   },
   "outputs": [
    {
     "data": {
      "text/plain": [
       "array([[ 1.29461387, -0.07977427],\n",
       "       [-0.07977427,  1.28388689]])"
      ]
     },
     "execution_count": 18,
     "metadata": {},
     "output_type": "execute_result"
    }
   ],
   "source": [
    "np.cov(Xgu.T)"
   ]
  },
  {
   "cell_type": "code",
   "execution_count": 19,
   "metadata": {
    "colab": {
     "base_uri": "https://localhost:8080/",
     "height": 111
    },
    "colab_type": "code",
    "id": "VdczVDqOOXF9",
    "outputId": "277d4359-0265-4e74-e124-17534072f360",
    "pycharm": {
     "is_executing": false
    }
   },
   "outputs": [
    {
     "data": {
      "text/html": [
       "<div>\n",
       "<style scoped>\n",
       "    .dataframe tbody tr th:only-of-type {\n",
       "        vertical-align: middle;\n",
       "    }\n",
       "\n",
       "    .dataframe tbody tr th {\n",
       "        vertical-align: top;\n",
       "    }\n",
       "\n",
       "    .dataframe thead th {\n",
       "        text-align: right;\n",
       "    }\n",
       "</style>\n",
       "<table border=\"1\" class=\"dataframe\">\n",
       "  <thead>\n",
       "    <tr style=\"text-align: right;\">\n",
       "      <th></th>\n",
       "      <th>0</th>\n",
       "      <th>1</th>\n",
       "    </tr>\n",
       "  </thead>\n",
       "  <tbody>\n",
       "    <tr>\n",
       "      <th>0</th>\n",
       "      <td>1.294614</td>\n",
       "      <td>-0.079774</td>\n",
       "    </tr>\n",
       "    <tr>\n",
       "      <th>1</th>\n",
       "      <td>-0.079774</td>\n",
       "      <td>1.283887</td>\n",
       "    </tr>\n",
       "  </tbody>\n",
       "</table>\n",
       "</div>"
      ],
      "text/plain": [
       "          0         1\n",
       "0  1.294614 -0.079774\n",
       "1 -0.079774  1.283887"
      ]
     },
     "execution_count": 19,
     "metadata": {},
     "output_type": "execute_result"
    }
   ],
   "source": [
    "pd.DataFrame(Xgu).cov()"
   ]
  },
  {
   "cell_type": "code",
   "execution_count": 20,
   "metadata": {
    "colab": {
     "base_uri": "https://localhost:8080/",
     "height": 51
    },
    "colab_type": "code",
    "id": "mitshIblkTEo",
    "outputId": "47f0e093-71fc-4610-b8fd-e90a1e474abc",
    "pycharm": {
     "is_executing": false
    }
   },
   "outputs": [
    {
     "data": {
      "text/plain": [
       "array([[3105.77868085, -191.37846378],\n",
       "       [-191.37846378, 3080.04464097]])"
      ]
     },
     "execution_count": 20,
     "metadata": {},
     "output_type": "execute_result"
    }
   ],
   "source": [
    "Xgu_mu = np.mean(Xgu, axis=0)\n",
    "Xbar = Xgu - Xgu_mu\n",
    "# print('Xgu:', Xgu)\n",
    "# print('Xgu_mu:', Xgu_mu)\n",
    "# print('Xbar:', Xbar)\n",
    "Xhat = (np.dot(Xbar.T, Xbar))/(2-1)\n",
    "Xhat.squeeze()"
   ]
  },
  {
   "cell_type": "code",
   "execution_count": 21,
   "metadata": {
    "colab": {
     "base_uri": "https://localhost:8080/",
     "height": 34
    },
    "colab_type": "code",
    "id": "7MaDiswAl4wF",
    "outputId": "49599ba9-7fe6-4c9b-987d-56e274d1e050",
    "pycharm": {
     "is_executing": false
    }
   },
   "outputs": [
    {
     "data": {
      "text/plain": [
       "array([ 0.2480918 , -0.30349916])"
      ]
     },
     "execution_count": 21,
     "metadata": {},
     "output_type": "execute_result"
    }
   ],
   "source": [
    "skew(Xgu, axis=0, bias=True)"
   ]
  },
  {
   "cell_type": "code",
   "execution_count": 22,
   "metadata": {
    "colab": {
     "base_uri": "https://localhost:8080/",
     "height": 34
    },
    "colab_type": "code",
    "id": "aa9pAxYmDenZ",
    "outputId": "71708cf7-6356-45b4-d070-f64b29d585d4",
    "pycharm": {
     "is_executing": false
    }
   },
   "outputs": [
    {
     "data": {
      "text/plain": [
       "array([12.55094211, 13.0871958 ])"
      ]
     },
     "execution_count": 22,
     "metadata": {},
     "output_type": "execute_result"
    }
   ],
   "source": [
    "kurtosis(Xgu, axis=0, bias=True)"
   ]
  },
  {
   "cell_type": "code",
   "execution_count": 26,
   "metadata": {},
   "outputs": [],
   "source": [
    "import warnings\n",
    "import numpy as np\n",
    "import tensorflow as tf\n",
    "from tensorflow.python.ops import math_ops\n",
    "\n",
    "from google.protobuf import text_format\n",
    "\n",
    "from tensorflow.python.platform import gfile\n",
    "from tensorflow.python.training import checkpoint_state_pb2\n",
    "\n",
    "\n",
    "def ParseCheckpoint(checkpoint):\n",
    "  \"\"\"Parse a checkpoint file.\n",
    "  Args:\n",
    "    checkpoint: Path to checkpoint. The checkpoint is either a serialized\n",
    "      CheckpointState proto or an actual checkpoint file.\n",
    "  Returns:\n",
    "    The path to an actual checkpoint file.\n",
    "  \"\"\"\n",
    "  warnings.warn(\n",
    "      \"ParseCheckpoint is deprecated. \"\n",
    "      \"Will be removed in DeepChem 1.4.\", DeprecationWarning)\n",
    "  with open(checkpoint) as f:\n",
    "    try:\n",
    "      cp = checkpoint_state_pb2.CheckpointState()\n",
    "      text_format.Merge(f.read(), cp)\n",
    "      return cp.model_checkpoint_path\n",
    "    except text_format.ParseError:\n",
    "      return checkpoint\n",
    "\n",
    "\n",
    "def Mask(t, mask):\n",
    "  \"\"\"Apply a mask to a tensor.\n",
    "  If not None, mask should be a t.shape[:-1] tensor of 0,1 values.\n",
    "  Args:\n",
    "    t: Input tensor.\n",
    "    mask: Boolean mask with shape == t.shape[:-1]. If None, nothing happens.\n",
    "  Returns:\n",
    "    A tensor with the same shape as the input tensor.\n",
    "  Raises:\n",
    "    ValueError: If shapes do not match.\n",
    "  \"\"\"\n",
    "  warnings.warn(\"Mask is deprecated. \"\n",
    "                \"Will be removed in DeepChem 1.4.\", DeprecationWarning)\n",
    "  if mask is None:\n",
    "    return t\n",
    "  if not t.get_shape()[:-1].is_compatible_with(mask.get_shape()):\n",
    "    raise ValueError(\n",
    "        'Shapes do not match: %s vs. %s' % (t.get_shape(), mask.get_shape()))\n",
    "  return tf.multiply(t, tf.expand_dims(mask, -1))\n",
    "\n",
    "\n",
    "def Mean(tensor, reduction_indices=None, mask=None):\n",
    "  \"\"\"Compute mean using Sum and Mul for better GPU performance.\n",
    "  See tf.nn.moments for additional notes on this approach.\n",
    "  Args:\n",
    "    tensor: Input tensor.\n",
    "    reduction_indices: Axes to reduce across. If None, reduce to a scalar.\n",
    "    mask: Mask to apply to tensor.\n",
    "  Returns:\n",
    "    A tensor with the same type as the input tensor.\n",
    "  \"\"\"\n",
    "  warnings.warn(\"Mean is deprecated. \"\n",
    "                \"Will be removed in DeepChem 1.4.\", DeprecationWarning)\n",
    "  return Moment(\n",
    "      1,\n",
    "      tensor,\n",
    "      standardize=False,\n",
    "      reduction_indices=reduction_indices,\n",
    "      mask=mask)[0]\n",
    "\n",
    "\n",
    "def Variance(tensor, reduction_indices=None, mask=None):\n",
    "  \"\"\"Compute variance.\n",
    "  Args:\n",
    "    tensor: Input tensor.\n",
    "    reduction_indices: Axes to reduce across. If None, reduce to a scalar.\n",
    "    mask: Mask to apply to tensor.\n",
    "  Returns:\n",
    "    A tensor with the same type as the input tensor.\n",
    "  \"\"\"\n",
    "  warnings.warn(\"Variance is deprecated. \"\n",
    "                \"Will be removed in DeepChem 1.4.\", DeprecationWarning)\n",
    "  return Moment(\n",
    "      2,\n",
    "      tensor,\n",
    "      standardize=False,\n",
    "      reduction_indices=reduction_indices,\n",
    "      mask=mask)[1]\n",
    "\n",
    "\n",
    "def Skewness(tensor, reduction_indices=None):\n",
    "  \"\"\"Compute skewness, the third standardized moment.\n",
    "  Args:\n",
    "    tensor: Input tensor.\n",
    "    reduction_indices: Axes to reduce across. If None, reduce to a scalar.\n",
    "  Returns:\n",
    "    A tensor with the same type as the input tensor.\n",
    "  \"\"\"\n",
    "  warnings.warn(\"Skewness is deprecated. \"\n",
    "                \"Will be removed in DeepChem 1.4.\", DeprecationWarning)\n",
    "  return Moment(\n",
    "      3, tensor, standardize=True, reduction_indices=reduction_indices)[1]\n",
    "\n",
    "\n",
    "def Kurtosis(tensor, reduction_indices=None):\n",
    "  \"\"\"Compute kurtosis, the fourth standardized moment minus three.\n",
    "  Args:\n",
    "    tensor: Input tensor.\n",
    "    reduction_indices: Axes to reduce across. If None, reduce to a scalar.\n",
    "  Returns:\n",
    "    A tensor with the same type as the input tensor.\n",
    "  \"\"\"\n",
    "  warnings.warn(\"Kurtosis is deprecated. \"\n",
    "                \"Will be removed in DeepChem 1.4.\", DeprecationWarning)\n",
    "  return Moment(\n",
    "      4, tensor, standardize=True, reduction_indices=reduction_indices)[1] - 3\n",
    "\n",
    "\n",
    "def Moment(k, tensor, standardize=False, reduction_indices=None, mask=None):\n",
    "  \"\"\"Compute the k-th central moment of a tensor, possibly standardized.\n",
    "  Args:\n",
    "    k: Which moment to compute. 1 = mean, 2 = variance, etc.\n",
    "    tensor: Input tensor.\n",
    "    standardize: If True, returns the standardized moment, i.e. the central\n",
    "      moment divided by the n-th power of the standard deviation.\n",
    "    reduction_indices: Axes to reduce across. If None, reduce to a scalar.\n",
    "    mask: Mask to apply to tensor.\n",
    "  Returns:\n",
    "    The mean and the requested moment.\n",
    "  \"\"\"\n",
    "  warnings.warn(\"Moment is deprecated. \"\n",
    "                \"Will be removed in DeepChem 1.4.\", DeprecationWarning)\n",
    "  if reduction_indices is not None:\n",
    "    reduction_indices = np.atleast_1d(reduction_indices).tolist()\n",
    "\n",
    "  # get the divisor\n",
    "  if mask is not None:\n",
    "    tensor = Mask(tensor, mask)\n",
    "    ones = tf.constant(1, dtype=tf.float32, shape=tensor.get_shape())\n",
    "    divisor = tf.reduce_sum(\n",
    "        Mask(ones, mask), axis=reduction_indices, keep_dims=True)\n",
    "  elif reduction_indices is None:\n",
    "    divisor = tf.constant(np.prod(tensor.get_shape().as_list()), tensor.dtype)\n",
    "  else:\n",
    "    divisor = 1.0\n",
    "    for i in range(len(tensor.get_shape())):\n",
    "      if i in reduction_indices:\n",
    "        divisor *= tensor.get_shape()[i].value\n",
    "    divisor = tf.constant(divisor, tensor.dtype)\n",
    "\n",
    "  # compute the requested central moment\n",
    "  # note that mean is a raw moment, not a central moment\n",
    "  mean = tf.math.divide(\n",
    "      tf.reduce_sum(tensor, axis=reduction_indices, keep_dims=True), divisor)\n",
    "  delta = tensor - mean\n",
    "  if mask is not None:\n",
    "    delta = Mask(delta, mask)\n",
    "  moment = tf.math.divide(\n",
    "      tf.reduce_sum(\n",
    "          math_ops.pow(delta, k), axis=reduction_indices, keep_dims=True),\n",
    "      divisor)\n",
    "  moment = tf.squeeze(moment, reduction_indices)\n",
    "  if standardize:\n",
    "    moment = tf.multiply(\n",
    "        moment,\n",
    "        math_ops.pow(\n",
    "            tf.rsqrt(Moment(2, tensor, reduction_indices=reduction_indices)[1]),\n",
    "            k))\n",
    "\n",
    "  return tf.squeeze(mean, reduction_indices), moment\n",
    "\n",
    "\n",
    "def StringToOp(string):\n",
    "  \"\"\"Get a TensorFlow op from a string.\n",
    "  Args:\n",
    "    string: String description of an op, such as 'sum' or 'mean'.\n",
    "  Returns:\n",
    "    A TensorFlow op.\n",
    "  Raises:\n",
    "    NotImplementedError: If string does not match a supported operation.\n",
    "  \"\"\"\n",
    "  warnings.warn(\"StringToOp is deprecated. \"\n",
    "                \"Will be removed in DeepChem 1.4.\", DeprecationWarning)\n",
    "  # TODO(user): median is not implemented yet in TensorFlow\n",
    "  op_map = {\n",
    "      'max': tf.reduce_max,\n",
    "      'mean': Mean,\n",
    "      'min': tf.reduce_min,\n",
    "      'sum': tf.reduce_sum,\n",
    "      'variance': Variance,\n",
    "      'skewness': Skewness,\n",
    "      'kurtosis': Kurtosis,\n",
    "  }\n",
    "  try:\n",
    "    return op_map[string]\n",
    "  except KeyError:\n",
    "    raise NotImplementedError('Unrecognized op: %s' % string)"
   ]
  },
  {
   "cell_type": "code",
   "execution_count": 36,
   "metadata": {},
   "outputs": [],
   "source": [
    "import tempfile\n",
    "\n",
    "import numpy as np\n",
    "import scipy.stats\n",
    "import tensorflow as tf\n",
    "\n",
    "from google.protobuf import text_format\n",
    "\n",
    "from tensorflow.python.framework import test_util\n",
    "from tensorflow.python.platform import googletest\n",
    "from tensorflow.python.training import checkpoint_state_pb2"
   ]
  },
  {
   "cell_type": "code",
   "execution_count": 57,
   "metadata": {},
   "outputs": [
    {
     "name": "stdout",
     "output_type": "stream",
     "text": [
      "(54, 2, 40)\n",
      "0.0\n",
      "0.09135963802278252\n",
      "-0.000586025478472175\n",
      "[[0.01258098 0.02329544 0.01818342 0.02394057 0.01864182 0.0324634\n",
      "  0.0271824  0.02991315 0.03147701 0.02366516 0.01329018 0.03519372\n",
      "  0.03088518 0.01830254 0.01185336 0.02769158 0.02895468 0.02659556\n",
      "  0.01583675 0.01618503 0.02975211 0.02709161 0.01656324 0.01570077\n",
      "  0.01970648 0.01401674 0.01826241 0.02204513 0.0273344  0.01651649\n",
      "  0.01759002 0.01725824 0.02177784 0.02952307 0.02413743 0.02309095\n",
      "  0.01773508 0.01804054 0.02555481 0.02072338]\n",
      " [0.02064236 0.01522033 0.01962141 0.03108814 0.01867776 0.01294586\n",
      "  0.02783153 0.04295613 0.01650664 0.01498684 0.02129578 0.02896977\n",
      "  0.02819611 0.02158732 0.01987935 0.03789366 0.02754258 0.02104718\n",
      "  0.01569641 0.02799497 0.01434108 0.02103675 0.024226   0.052814\n",
      "  0.03024213 0.01455646 0.02126452 0.01399648 0.02313867 0.02726393\n",
      "  0.02211213 0.02584499 0.0236512  0.02004953 0.02594897 0.01304204\n",
      "  0.0180737  0.02905501 0.03484171 0.01798207]]\n"
     ]
    }
   ],
   "source": [
    "print(t_Xgaussian_t.shape)\n",
    "print(scipy.stats.moment(t_Xgaussian_t, 1, axis=None))\n",
    "print(scipy.stats.moment(t_Xgaussian_t, 2, axis=None))\n",
    "print(scipy.stats.moment(t_Xgaussian_t, 3, axis=None))\n",
    "print(scipy.stats.moment(t_Xgaussian_t, 4, axis=0))"
   ]
  },
  {
   "cell_type": "code",
   "execution_count": null,
   "metadata": {},
   "outputs": [],
   "source": [
    "kurtosis(L, axis=0, bias=True)"
   ]
  }
 ],
 "metadata": {
  "colab": {
   "collapsed_sections": [],
   "name": "tensor_m-rpca",
   "provenance": []
  },
  "kernelspec": {
   "display_name": "Python 3",
   "language": "python",
   "name": "python3"
  },
  "language_info": {
   "codemirror_mode": {
    "name": "ipython",
    "version": 3
   },
   "file_extension": ".py",
   "mimetype": "text/x-python",
   "name": "python",
   "nbconvert_exporter": "python",
   "pygments_lexer": "ipython3",
   "version": "3.7.4"
  },
  "pycharm": {
   "stem_cell": {
    "cell_type": "raw",
    "metadata": {
     "collapsed": false
    },
    "source": []
   }
  }
 },
 "nbformat": 4,
 "nbformat_minor": 1
}

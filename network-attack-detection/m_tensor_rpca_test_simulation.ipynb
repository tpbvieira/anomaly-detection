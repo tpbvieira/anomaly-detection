{
 "cells": [
  {
   "cell_type": "code",
   "execution_count": 1,
   "metadata": {
    "pycharm": {
     "is_executing": false
    }
   },
   "outputs": [],
   "source": [
    "from __future__ import division\n",
    "from __future__ import print_function\n",
    "\n",
    "import os\n",
    "import sys\n",
    "import warnings\n",
    "warnings.filterwarnings(\"ignore\")\n",
    "\n",
    "import numpy as np\n",
    "import seaborn as sns\n",
    "import matplotlib.pyplot as plt\n",
    "import matplotlib.font_manager\n",
    "from scipy.stats import weibull_min\n",
    "from numpy import percentile\n",
    "# Import all models\n",
    "from pyod.models.abod import ABOD\n",
    "from pyod.models.cblof import CBLOF\n",
    "from pyod.models.feature_bagging import FeatureBagging\n",
    "from pyod.models.hbos import HBOS\n",
    "from pyod.models.iforest import IForest\n",
    "from pyod.models.knn import KNN\n",
    "from pyod.models.lof import LOF\n",
    "from pyod.models.loci import LOCI\n",
    "from pyod.models.mcd import MCD\n",
    "from pyod.models.ocsvm import OCSVM\n",
    "from pyod.models.pca import PCA\n",
    "from pyod.models.sos import SOS\n",
    "from pyod.models.lscp import LSCP\n",
    "\n",
    "import pandas as pd\n",
    "from scipy import linalg\n",
    "from scipy.stats import skew, kurtosis\n",
    "from sklearn.metrics import pairwise_distances, f1_score\n",
    "from tensorly.decomposition.robust_decomposition import robust_pca\n",
    "\n",
    "from scipy.stats import skewnorm\n",
    "\n",
    "# temporary solution for relative imports in case pyod is not installed\n",
    "# if pyod is installed, no need to use the following line\n",
    "sys.path.append(\n",
    "    os.path.abspath(os.path.join(os.path.dirname(\"__file__\"), '..')))"
   ]
  },
  {
   "cell_type": "code",
   "execution_count": 2,
   "metadata": {},
   "outputs": [],
   "source": [
    "def fit_m_rpca(data, m_reg_J=1):\n",
    "    \"\"\"\n",
    "    Robust PCA based estimation of mean, covariance, skewness and kurtosis.\n",
    "\n",
    "    :param data: MxN matrix with M observations and N features, where M>N\n",
    "    :param m_reg_J: regularization. Default value is 1\n",
    "    :return:\n",
    "        L: array-like, shape (m_obserations, n_features,)\n",
    "            Robust data\n",
    "\n",
    "        rob_mean:\n",
    "        rob_cov:\n",
    "        rob_dist:\n",
    "        rob_precision:\n",
    "        rob_skew:\n",
    "        rob_skew_dist:\n",
    "        rob_kurt:\n",
    "        rob_kurt_dist:\n",
    "    \"\"\"\n",
    "\n",
    "    L, S = robust_pca(data, reg_J=m_reg_J)\n",
    "\n",
    "    rob_mean = L.mean(axis=0)\n",
    "    rob_cov = pd.DataFrame(L).cov()\n",
    "    rob_precision = linalg.pinvh(rob_cov)\n",
    "    rob_dist = (np.dot(L, rob_precision) * L).sum(axis=1)\n",
    "\n",
    "    rob_skew = skew(L, axis=0, bias=True)\n",
    "    rob_skew_dist = (np.dot(L - rob_skew, rob_precision) * (L - rob_skew)).sum(axis=1)\n",
    "\n",
    "    rob_kurt = kurtosis(L, axis=0, fisher=True, bias=True)\n",
    "    rob_kurt_dist = (np.dot(L - rob_kurt, rob_precision) * (L - rob_kurt)).sum(axis=1)\n",
    "\n",
    "    return L, rob_mean, rob_cov, rob_dist, rob_precision, rob_skew, rob_skew_dist, rob_kurt, rob_kurt_dist\n",
    "\n",
    "\n",
    "def cv_location_contamination(cv_df, cv_labels, location, precision):\n",
    "    \"\"\"\n",
    "\n",
    "    :param cv_df: cross-validation data frame\n",
    "    :param cv_labels: labels to evaluate prediction performance by contamination\n",
    "    :param location: mean vector\n",
    "    :param precision: inverse of covariance matrix\n",
    "    :return: For all tested contamination rates, returns the rate in which the best F1-score were achieved.\n",
    "    \"\"\"\n",
    "\n",
    "    contamination = round(0.00, 2)\n",
    "    contamination_prediction_list = []\n",
    "    labels = np.array(cv_labels)\n",
    "\n",
    "    for i in range(40):\n",
    "        contamination += 0.01\n",
    "        contamination = round(contamination, 2)\n",
    "        pred_label = predict_by_location_contamination(cv_df, location, precision, contamination)\n",
    "        contamination_prediction_list.append((contamination, f1_score(labels, pred_label, average=\"binary\")))\n",
    "\n",
    "    contamination_prediction_list.sort(key=lambda tup: tup[1], reverse=True)\n",
    "    contamination_best_f1 = contamination_prediction_list[0][0]\n",
    "\n",
    "    return contamination_best_f1\n",
    "\n",
    "\n",
    "def cv_location_threshold(cv_df, cv_labels, location, precision, dist):\n",
    "    \"\"\"\n",
    "\n",
    "    :param cv_df: cross-validation data frame\n",
    "    :param cv_labels: labels to evaluate prediction performance by contamination\n",
    "    :param location:\n",
    "    :param precision:\n",
    "    :return: For all tested contamination rates, returns the rate in which the best F1-score were achieved.\n",
    "    \"\"\"\n",
    "\n",
    "    threshold_prediction_list = []\n",
    "    labels = np.array(cv_labels)\n",
    "    min_dist = min(dist)\n",
    "    max_dist = max(dist)\n",
    "\n",
    "    for m_threshold in np.linspace(min_dist, max_dist, 40):\n",
    "        pred_label = predict_by_location_threshold(cv_df, location, precision, m_threshold)\n",
    "        threshold_prediction_list.append((m_threshold, f1_score(labels, pred_label, average=\"binary\")))\n",
    "\n",
    "    threshold_prediction_list.sort(key=lambda tup: tup[1], reverse=True)\n",
    "    best_threshold = threshold_prediction_list[0][0]\n",
    "\n",
    "    return best_threshold\n",
    "\n",
    "\n",
    "def cv_skewness_contamination(cv_df, cv_labels, skewness, precision):\n",
    "    \"\"\"\n",
    "\n",
    "    :param cv_df: cross-validation data frame\n",
    "    :param cv_labels: labels to evaluate prediction performance by contamination\n",
    "    :param skewness:\n",
    "    :param precision:\n",
    "    :return: For all tested contamination rates, returns the rate in which the best F1-score were achieved.\n",
    "    \"\"\"\n",
    "\n",
    "    contamination = round(0.00, 2)\n",
    "    contamination_prediction_list = []\n",
    "    actual_anomalies = np.array(cv_labels)\n",
    "    for i in range(40):\n",
    "        contamination += 0.01\n",
    "        contamination = round(contamination, 2)\n",
    "        pred_label = predict_by_skewness_contamination(cv_df, precision, skewness, contamination)\n",
    "        contamination_prediction_list.append((contamination, f1_score(actual_anomalies, pred_label, average=\"binary\")))\n",
    "\n",
    "    contamination_prediction_list.sort(key=lambda tup: tup[1], reverse=True)\n",
    "    best_contamination = contamination_prediction_list[0][0]\n",
    "\n",
    "    return best_contamination\n",
    "\n",
    "\n",
    "def cv_skewness_threshold(cv_df, cv_labels, skewness, precision, skew_dist):\n",
    "    \"\"\"\n",
    "\n",
    "    :param cv_df:\n",
    "    :param cv_labels: labels to evaluate prediction performance by contamination\n",
    "    :param skewness:\n",
    "    :param precision:\n",
    "    :param skew_dist:\n",
    "    :return:\n",
    "    \"\"\"\n",
    "\n",
    "    threshold_prediction_list = []\n",
    "    actual_anomalies = np.array(cv_labels)\n",
    "    min_dist = min(skew_dist)\n",
    "    max_dist = max(skew_dist)\n",
    "\n",
    "    for m_threshold in np.linspace(min_dist, max_dist, 40):\n",
    "        pred_label = predict_by_skewness_threshold(cv_df, precision, skewness, m_threshold)\n",
    "        threshold_prediction_list.append((m_threshold, f1_score(actual_anomalies, pred_label, average=\"binary\")))\n",
    "\n",
    "    threshold_prediction_list.sort(key=lambda tup: tup[1], reverse=True)\n",
    "    best_threshold = threshold_prediction_list[0][0]\n",
    "\n",
    "    return best_threshold\n",
    "\n",
    "\n",
    "def cv_kurtosis_contamination(cv_df, cv_labels, m_kurtosis, precision):\n",
    "    \"\"\"\n",
    "\n",
    "    :param df: cross-validation data frame\n",
    "    :param location:\n",
    "    :param precision:\n",
    "    :return: For all tested contamination rates, returns the rate in which the best F1-score were achieved.\n",
    "    \"\"\"\n",
    "\n",
    "    contamination = round(0.00, 2)\n",
    "    contamination_prediction_list = []\n",
    "    actual_anomalies = np.array(cv_labels)\n",
    "    for i in range(40):\n",
    "        contamination += 0.01\n",
    "        contamination = round(contamination, 2)\n",
    "        pred_label = predict_by_kurtosis_contamination(cv_df, precision, m_kurtosis, contamination)\n",
    "        contamination_prediction_list.append((contamination, f1_score(actual_anomalies, pred_label, average=\"binary\")))\n",
    "\n",
    "    contamination_prediction_list.sort(key=lambda tup: tup[1], reverse=True)\n",
    "    best_contamination = contamination_prediction_list[0][0]\n",
    "\n",
    "    return best_contamination\n",
    "\n",
    "\n",
    "def cv_kurtosis_threshold(cv_df, cv_labels, kurtosis, precision, kurt_dist):\n",
    "    \"\"\"\n",
    "\n",
    "    :param cv_df:\n",
    "    :param cv_labels: labels to evaluate prediction performance by contamination\n",
    "    :param kurtosis:\n",
    "    :param precision:\n",
    "    :param kurt_dist:\n",
    "    :return:\n",
    "    \"\"\"\n",
    "\n",
    "    threshold_prediction_list = []\n",
    "    actual_anomalies = np.array(cv_labels)\n",
    "    min_dist = min(kurt_dist)\n",
    "    max_dist = max(kurt_dist)\n",
    "\n",
    "    for m_threshold in np.linspace(min_dist, max_dist, 40):\n",
    "        pred_label = predict_by_kurtosis_threshold(cv_df, precision, kurtosis, m_threshold)\n",
    "        threshold_prediction_list.append((m_threshold, f1_score(actual_anomalies, pred_label, average=\"binary\")))\n",
    "\n",
    "    threshold_prediction_list.sort(key=lambda tup: tup[1], reverse=True)\n",
    "    best_threshold = threshold_prediction_list[0][0]\n",
    "\n",
    "    return best_threshold\n",
    "\n",
    "\n",
    "def md_rpca_prediction(test_df, location, precision, contamination):\n",
    "    \"\"\"\n",
    "\n",
    "    :param test_df:\n",
    "    :param location:\n",
    "    :param precision:\n",
    "    :param contamination:\n",
    "    :return:\n",
    "    \"\"\"\n",
    "\n",
    "    pred_label = np.full(test_df.shape[0], 0, dtype=int)\n",
    "    if contamination is not None:\n",
    "        # malhalanobis distance\n",
    "        mahal_dist = pairwise_distances(test_df, location[np.newaxis, :], metric='mahalanobis', VI=precision)\n",
    "        mahal_dist = np.reshape(mahal_dist, (len(test_df),)) ** 2  # MD squared\n",
    "        # detect outliers\n",
    "        contamination_threshold = np.percentile(mahal_dist, 100. * (1. - contamination))\n",
    "        pred_label[mahal_dist > contamination_threshold] = 1\n",
    "    else:\n",
    "        raise NotImplementedError(\"You must provide a contamination rate.\")\n",
    "\n",
    "    return pred_label\n",
    "\n",
    "\n",
    "def predict_by_location_centered_contamination(X, location, precision, contamination):\n",
    "    \"\"\"\n",
    "\n",
    "    :param X:\n",
    "    :param location:\n",
    "    :param precision:\n",
    "    :param contamination:\n",
    "    :return:\n",
    "    \"\"\"\n",
    "\n",
    "    pred_label = np.full(X.shape[0], 0, dtype=int)\n",
    "    if contamination is not None:\n",
    "        # malhalanobis distance\n",
    "        X = X - location\n",
    "        mahal_dist = pairwise_distances(X, location[np.newaxis, :], metric='mahalanobis', VI=precision)\n",
    "        mahal_dist = np.reshape(mahal_dist, (len(X),)) ** 2  # MD squared\n",
    "        # detect outliers\n",
    "        contamination_threshold = np.percentile(mahal_dist, 100. * (1. - contamination))\n",
    "        pred_label[mahal_dist > contamination_threshold] = 1\n",
    "    else:\n",
    "        raise NotImplementedError(\"You must provide a contamination rate.\")\n",
    "\n",
    "    return pred_label\n",
    "\n",
    "\n",
    "def predict_by_location_threshold(X, location, precision, threshold):\n",
    "    \"\"\"\n",
    "\n",
    "    :param X:\n",
    "    :param location:\n",
    "    :param precision:\n",
    "    :param threshold:\n",
    "    :return:\n",
    "    \"\"\"\n",
    "\n",
    "    pred_label = np.full(X.shape[0], 0, dtype=int)\n",
    "\n",
    "    # malhalanobis distance\n",
    "    mahal_dist = pairwise_distances(X, location[np.newaxis, :], metric='mahalanobis', VI=precision)\n",
    "    mahal_dist = np.reshape(mahal_dist, (len(X),)) ** 2  # MD squared\n",
    "    # detect outliers\n",
    "    pred_label[mahal_dist > threshold] = 1\n",
    "\n",
    "    return pred_label\n",
    "\n",
    "\n",
    "def sd_rpca_prediction(X, skewness, precision, contamination):\n",
    "    \"\"\"\n",
    "\n",
    "    :param X:\n",
    "    :param precision:\n",
    "    :param skewness:\n",
    "    :param contamination:\n",
    "    :return:\n",
    "    \"\"\"\n",
    "\n",
    "    pred_label = np.full(X.shape[0], 0, dtype=int)\n",
    "\n",
    "    # malhalanobis distance\n",
    "    mahal_dist = pairwise_distances(X, skewness[np.newaxis, :], metric='mahalanobis', VI=precision)\n",
    "    mahal_dist = np.reshape(mahal_dist, (len(X),)) ** 2  # MD squared\n",
    "    pred_skew_dist = -mahal_dist\n",
    "\n",
    "    # detect outliers\n",
    "    contamination_threshold = np.percentile(pred_skew_dist, 100. * contamination)\n",
    "    pred_label[pred_skew_dist <= contamination_threshold] = 1\n",
    "\n",
    "    return pred_label\n",
    "\n",
    "\n",
    "def predict_by_skewness_centered_contamination(X, precision, skewness, contamination):\n",
    "    \"\"\"\n",
    "\n",
    "    :param X:\n",
    "    :param precision:\n",
    "    :param skewness:\n",
    "    :param contamination:\n",
    "    :return:\n",
    "    \"\"\"\n",
    "\n",
    "    pred_label = np.full(X.shape[0], 0, dtype=int)\n",
    "\n",
    "    # skewness of the data\n",
    "    X_skew = X - skew(X, axis=0, bias=True)\n",
    "\n",
    "    # malhalanobis distance\n",
    "    mahal_dist = pairwise_distances(X_skew, skewness[np.newaxis, :], metric='mahalanobis', VI=precision)\n",
    "    mahal_dist = np.reshape(mahal_dist, (len(X_skew),)) ** 2  # MD squared\n",
    "    pred_skew_dist = -mahal_dist\n",
    "\n",
    "    # detect outliers\n",
    "    contamination_threshold = np.percentile(pred_skew_dist, 100. * contamination)\n",
    "    pred_label[pred_skew_dist <= contamination_threshold] = 1\n",
    "\n",
    "    return pred_label\n",
    "\n",
    "\n",
    "def predict_by_skewness_threshold(X, precision, skewness, threshold):\n",
    "    \"\"\"\n",
    "\n",
    "    :param X:\n",
    "    :param precision:\n",
    "    :param skewness:\n",
    "    :param threshold:\n",
    "    :return:\n",
    "    \"\"\"\n",
    "\n",
    "    pred_label = np.full(X.shape[0], 0, dtype=int)\n",
    "\n",
    "    # malhalanobis distance\n",
    "    mahal_dist = pairwise_distances(X, skewness[np.newaxis, :], metric='mahalanobis', VI=precision)\n",
    "    mahal_dist = np.reshape(mahal_dist, (len(X),)) ** 2  # MD squared\n",
    "    pred_skew_dist = -mahal_dist\n",
    "\n",
    "    # detect outliers\n",
    "    pred_label[pred_skew_dist <= threshold] = 1\n",
    "\n",
    "    return pred_label\n",
    "\n",
    "\n",
    "def predict_by_skewness_centered_threshold(X, precision, skewness, threshold):\n",
    "    \"\"\"\n",
    "\n",
    "    :param X:\n",
    "    :param precision:\n",
    "    :param skewness:\n",
    "    :param threshold:\n",
    "    :return:\n",
    "    \"\"\"\n",
    "\n",
    "    pred_label = np.full(X.shape[0], 0, dtype=int)\n",
    "\n",
    "    # skewness of the data\n",
    "    X_skew = X - skew(X, axis=0, bias=True)\n",
    "\n",
    "    # malhalanobis distance\n",
    "    mahal_dist = pairwise_distances(X_skew, skewness[np.newaxis, :], metric='mahalanobis', VI=precision)\n",
    "    mahal_dist = np.reshape(mahal_dist, (len(X_skew),)) ** 2  # MD squared\n",
    "    pred_skew_dist = -mahal_dist\n",
    "\n",
    "    # detect outliers\n",
    "    pred_label[pred_skew_dist <= threshold] = 1\n",
    "\n",
    "    return pred_label\n",
    "\n",
    "\n",
    "def kd_rpca_prediction(X, m_kurtosis, precision, contamination):\n",
    "    \"\"\"\n",
    "\n",
    "    :param X:\n",
    "    :param precision:\n",
    "    :param m_kurtosis\t:\n",
    "    :param contamination:\n",
    "    :return:\n",
    "    \"\"\"\n",
    "\n",
    "    pred_label = np.full(X.shape[0], 0, dtype=int)\n",
    "\n",
    "    # malhalanobis distance\n",
    "    mahal_dist = pairwise_distances(X, m_kurtosis[np.newaxis, :], metric='mahalanobis', VI=precision)\n",
    "    mahal_dist = np.reshape(mahal_dist, (len(X),)) ** 2  # MD squared\n",
    "    pred_kurt_dist = -mahal_dist\n",
    "\n",
    "    # detect outliers\n",
    "    contamination_threshold = np.percentile(pred_kurt_dist, 100. * contamination)\n",
    "    pred_label[pred_kurt_dist <= contamination_threshold] = 1\n",
    "\n",
    "    return pred_label\n",
    "\n",
    "\n",
    "def predict_by_kurtosis_centered_contamination(X, precision, m_kurtosis, contamination):\n",
    "    \"\"\"\n",
    "\n",
    "    :param X:\n",
    "    :param precision:\n",
    "    :param m_kurtosis\t:\n",
    "    :param contamination:\n",
    "    :return:\n",
    "    \"\"\"\n",
    "\n",
    "    pred_label = np.full(X.shape[0], 0, dtype=int)\n",
    "\n",
    "    # m_kurtosis\t of the data\n",
    "    X_kurt = X - kurtosis(X, axis=0, bias=True)\n",
    "\n",
    "    # malhalanobis distance\n",
    "    mahal_dist = pairwise_distances(X_kurt, m_kurtosis[np.newaxis, :], metric='mahalanobis', VI=precision)\n",
    "    mahal_dist = np.reshape(mahal_dist, (len(X_kurt),)) ** 2  # MD squared\n",
    "    pred_kurt_dist = -mahal_dist\n",
    "\n",
    "    # detect outliers\n",
    "    contamination_threshold = np.percentile(pred_kurt_dist, 100. * contamination)\n",
    "    pred_label[pred_kurt_dist <= contamination_threshold] = 1\n",
    "\n",
    "    return pred_label\n",
    "\n",
    "\n",
    "def predict_by_kurtosis_threshold(X, precision, m_kurtosis, threshold):\n",
    "    \"\"\"\n",
    "\n",
    "    :param X:\n",
    "    :param precision:\n",
    "    :param m_kurtosis\t:\n",
    "    :param threshold:\n",
    "    :return:\n",
    "    \"\"\"\n",
    "\n",
    "    pred_label = np.full(X.shape[0], 0, dtype=int)\n",
    "\n",
    "    # malhalanobis distance\n",
    "    mahal_dist = pairwise_distances(X, m_kurtosis[np.newaxis, :], metric='mahalanobis', VI=precision)\n",
    "    mahal_dist = np.reshape(mahal_dist, (len(X),)) ** 2  # MD squared\n",
    "    pred_kurt_dist = -mahal_dist\n",
    "\n",
    "    # detect outliers\n",
    "    pred_label[pred_kurt_dist <= threshold] = 1\n",
    "\n",
    "    return pred_label\n",
    "\n",
    "\n",
    "def predict_by_kurtosis_centered_threshold(X, precision, m_kurtosis, threshold):\n",
    "    \"\"\"\n",
    "\n",
    "    :param X:\n",
    "    :param precision:\n",
    "    :param m_kurtosis\t:\n",
    "    :param threshold:\n",
    "    :return:\n",
    "    \"\"\"\n",
    "\n",
    "    pred_label = np.full(X.shape[0], 0, dtype=int)\n",
    "\n",
    "    # m_kurtosis\t of the data\n",
    "    X_kurt = X - kurtosis(X, axis=0, bias=True)\n",
    "\n",
    "    # malhalanobis distance\n",
    "    mahal_dist = pairwise_distances(X_kurt, m_kurtosis[np.newaxis, :], metric='mahalanobis', VI=precision)\n",
    "    mahal_dist = np.reshape(mahal_dist, (len(X_kurt),)) ** 2  # MD squared\n",
    "    pred_kurt_dist = -mahal_dist\n",
    "\n",
    "    # detect outliers\n",
    "    pred_label[pred_kurt_dist <= threshold] = 1\n",
    "\n",
    "    return pred_label"
   ]
  },
  {
   "cell_type": "markdown",
   "metadata": {},
   "source": [
    "**Initialize values**"
   ]
  },
  {
   "cell_type": "code",
   "execution_count": 3,
   "metadata": {},
   "outputs": [
    {
     "name": "stdout",
     "output_type": "stream",
     "text": [
      "n_samples: 2400\n",
      "n_inliers: 2160\n",
      "n_outliers: 240\n",
      "ground_truth: (2400,)\n"
     ]
    }
   ],
   "source": [
    "n_samples = 2400\n",
    "# outliers_fraction = 0.33\n",
    "# outliers_fraction = 0.25\n",
    "outliers_fraction = 0.10\n",
    "\n",
    "result_path = 'output/simulation/'\n",
    "data_path = 'data/simulation/'\n",
    "\n",
    "# Initialize the data\n",
    "n_inliers = int((1. - outliers_fraction) * n_samples)\n",
    "n_outliers = int(n_samples - n_inliers)\n",
    "ground_truth = np.zeros(n_samples, dtype=int)\n",
    "ground_truth[-n_outliers:] = 1  # put outliers into the end\n",
    "\n",
    "print('n_samples:', n_samples)\n",
    "print('n_inliers:', n_inliers)\n",
    "print('n_outliers:', n_outliers)\n",
    "print('ground_truth:', ground_truth.shape)"
   ]
  },
  {
   "cell_type": "markdown",
   "metadata": {},
   "source": [
    "**Simulate Gaussian data for cases with and without outliers, for contaminated and normal training**"
   ]
  },
  {
   "cell_type": "code",
   "execution_count": 4,
   "metadata": {},
   "outputs": [],
   "source": [
    "np.random.seed(11)\n",
    "X1 = 0.3 * np.random.randn(n_inliers, 2)\n",
    "X2 = 0.3 * np.random.randn(n_inliers, 2)\n",
    "Xgaussian = np.r_[X1, X2]\n",
    "\n",
    "Xgaussian_t = Xgaussian[:n_inliers]\n",
    "Xgaussian = Xgaussian[n_inliers:]"
   ]
  },
  {
   "cell_type": "markdown",
   "metadata": {},
   "source": [
    "**Simulate uniform outliers into Gaussian data**"
   ]
  },
  {
   "cell_type": "code",
   "execution_count": 5,
   "metadata": {},
   "outputs": [],
   "source": [
    "# Append uniform outliers\n",
    "Cuniform = np.random.uniform(low=-6, high=6, size=(n_outliers, 2))\n",
    "Xgu = np.r_[Xgaussian, Cuniform]\n",
    "\n",
    "Ctuniform = np.random.uniform(low=-6, high=6, size=(n_outliers, 2))\n",
    "Xgaussian_tc = np.r_[Xgaussian_t, Ctuniform]"
   ]
  },
  {
   "cell_type": "markdown",
   "metadata": {},
   "source": [
    "**Distribution plot of simulated Gaussian data**"
   ]
  },
  {
   "cell_type": "code",
   "execution_count": 6,
   "metadata": {},
   "outputs": [
    {
     "data": {
      "image/png": "[encoded data removed]",
      "text/plain": [
       "<Figure size 432x288 with 1 Axes>"
      ]
     },
     "metadata": {
      "needs_background": "light"
     },
     "output_type": "display_data"
    }
   ],
   "source": [
    "sns.distplot(Xgaussian[:, 0], color=\"blue\", label=\"Gaussian\")\n",
    "sns.distplot(Xgaussian[:, 1], color=\"red\", label=\"Gaussian\")\n",
    "plt.legend()\n",
    "# plt.savefig(\"%sXgaussian.png\" % result_path)\n",
    "plt.show()\n",
    "plt.close()"
   ]
  },
  {
   "cell_type": "markdown",
   "metadata": {},
   "source": [
    "**Distribution plot of simulated Gaussian data**"
   ]
  },
  {
   "cell_type": "code",
   "execution_count": 7,
   "metadata": {},
   "outputs": [
    {
     "name": "stdout",
     "output_type": "stream",
     "text": [
      "Xgaussian_t: (2160, 2)\n"
     ]
    },
    {
     "data": {
      "image/png": "[encoded data removed]",
      "text/plain": [
       "<Figure size 432x288 with 1 Axes>"
      ]
     },
     "metadata": {
      "needs_background": "light"
     },
     "output_type": "display_data"
    }
   ],
   "source": [
    "print('Xgaussian_t:', Xgaussian_t.shape)\n",
    "sns.distplot(Xgaussian_t[:, 0], color=\"blue\", label=\"Gaussian\")\n",
    "sns.distplot(Xgaussian_t[:, 1], color=\"red\", label=\"Gaussian\")\n",
    "plt.legend()\n",
    "# plt.savefig(\"%sXgaussian_t.png\" % result_path)\n",
    "plt.show()\n",
    "plt.close()"
   ]
  },
  {
   "cell_type": "markdown",
   "metadata": {},
   "source": [
    "**Distribution plot of simulated uniform data**"
   ]
  },
  {
   "cell_type": "code",
   "execution_count": 8,
   "metadata": {},
   "outputs": [
    {
     "name": "stdout",
     "output_type": "stream",
     "text": [
      "Cuniform: (240, 2)\n"
     ]
    },
    {
     "data": {
      "image/png": "[encoded data removed]",
      "text/plain": [
       "<Figure size 432x288 with 1 Axes>"
      ]
     },
     "metadata": {
      "needs_background": "light"
     },
     "output_type": "display_data"
    }
   ],
   "source": [
    "# Append outliers\n",
    "print('Cuniform:', Cuniform.shape)\n",
    "sns.distplot(Cuniform[:, 0], color=\"blue\", label=\"Uniform\")\n",
    "plt.legend()\n",
    "# plt.savefig(\"%sCuniform.png\" % result_path)\n",
    "plt.show()\n",
    "plt.close()"
   ]
  },
  {
   "cell_type": "markdown",
   "metadata": {},
   "source": [
    "**Distribution plot of simulated contaminated Gaussian data**"
   ]
  },
  {
   "cell_type": "code",
   "execution_count": 9,
   "metadata": {},
   "outputs": [
    {
     "name": "stdout",
     "output_type": "stream",
     "text": [
      "Xgu: (2400, 2)\n"
     ]
    },
    {
     "data": {
      "image/png": "[encoded data removed]",
      "text/plain": [
       "<Figure size 432x288 with 1 Axes>"
      ]
     },
     "metadata": {
      "needs_background": "light"
     },
     "output_type": "display_data"
    },
    {
     "name": "stderr",
     "output_type": "stream",
     "text": [
      "No handles with labels found to put in legend.\n"
     ]
    }
   ],
   "source": [
    "print('Xgu:', Xgu.shape)\n",
    "sns.distplot(Xgu[:, 0], color=\"blue\", label=\"Gaussian + Uniform\")\n",
    "plt.legend()\n",
    "# plt.savefig(\"%sXgu.png\" % result_path)\n",
    "plt.show()\n",
    "plt.legend()\n",
    "plt.close()"
   ]
  },
  {
   "cell_type": "markdown",
   "metadata": {},
   "source": [
    "**Distribution plot of simulated contaminated Gaussian data**"
   ]
  },
  {
   "cell_type": "code",
   "execution_count": 10,
   "metadata": {},
   "outputs": [
    {
     "data": {
      "image/png": "[encoded data removed]",
      "text/plain": [
       "<Figure size 432x288 with 1 Axes>"
      ]
     },
     "metadata": {
      "needs_background": "light"
     },
     "output_type": "display_data"
    }
   ],
   "source": [
    "sns.distplot(Xgaussian[:, 0], color=\"blue\", label=\"Gaussian\")\n",
    "sns.distplot(Cuniform[:, 0], color=\"red\", label=\"Uniform\")\n",
    "plt.legend()\n",
    "# plt.savefig(\"%sXgu2.png\" % result_path)\n",
    "plt.show()\n",
    "plt.close()"
   ]
  },
  {
   "cell_type": "markdown",
   "metadata": {},
   "source": [
    "**Define the selected classifiers for comparison**"
   ]
  },
  {
   "cell_type": "code",
   "execution_count": 11,
   "metadata": {},
   "outputs": [],
   "source": [
    "random_state = np.random.RandomState(42)\n",
    "classifiers = {    \n",
    "    'Cluster-based Local Outlier Factor (CBLOF)': CBLOF(contamination=outliers_fraction, check_estimator=False,\n",
    "                                                        random_state=random_state),\n",
    "    'Histogram-base Outlier Detection (HBOS)': HBOS(contamination=outliers_fraction),\n",
    "    'Isolation Forest': IForest(contamination=outliers_fraction, random_state=random_state),\n",
    "    'K Nearest Neighbors (KNN)': KNN(contamination=outliers_fraction),\n",
    "    'Local Outlier Factor (LOF)': LOF(n_neighbors=35, contamination=outliers_fraction),\n",
    "    'Minimum Covariance Determinant (MCD)': MCD(contamination=outliers_fraction, random_state=random_state),\n",
    "    'One-class SVM (OCSVM)': OCSVM(contamination=outliers_fraction),\n",
    "    'Principal Component Analysis (PCA)': PCA(contamination=outliers_fraction, random_state=random_state)\n",
    "}"
   ]
  },
  {
   "cell_type": "markdown",
   "metadata": {},
   "source": [
    "**Evaluate the selected classifiers**"
   ]
  },
  {
   "cell_type": "code",
   "execution_count": 12,
   "metadata": {},
   "outputs": [
    {
     "name": "stdout",
     "output_type": "stream",
     "text": [
      "1 fitting Cluster-based Local Outlier Factor (CBLOF) 0.975\n",
      "2 fitting Histogram-base Outlier Detection (HBOS) 0.983050847457627\n",
      "3 fitting Isolation Forest 0.9708333333333333\n",
      "4 fitting K Nearest Neighbors (KNN) 0.9727463312368972\n",
      "5 fitting Local Outlier Factor (LOF) 0.2923728813559322\n",
      "6 fitting Minimum Covariance Determinant (MCD) 0.975\n",
      "7 fitting One-class SVM (OCSVM) 0.975\n",
      "8 fitting Principal Component Analysis (PCA) 0.9291666666666667\n"
     ]
    }
   ],
   "source": [
    "for i, (clf_name, clf) in enumerate(classifiers.items()):\n",
    "    # fit the data and tag outliers\n",
    "    clf.fit(Xgu)\n",
    "    scores_pred = clf.decision_function(Xgu) * -1\n",
    "    y_pred = clf.predict(Xgu)\n",
    "    threshold = percentile(scores_pred, 100 * outliers_fraction)\n",
    "    f1 = f1_score(ground_truth, y_pred, average=\"binary\")\n",
    "    print(i + 1, 'fitting', clf_name, f1)\n"
   ]
  },
  {
   "cell_type": "markdown",
   "metadata": {},
   "source": [
    "**Train m-RPCA from legitimate Gaussian, for semi-supervised anomaly detection**"
   ]
  },
  {
   "cell_type": "code",
   "execution_count": 13,
   "metadata": {},
   "outputs": [],
   "source": [
    "r_L, r_mu, r_cov, r_dist, r_precision, r_skew, _, r_kurt, _ = fit_m_rpca(Xgaussian_t)"
   ]
  },
  {
   "cell_type": "markdown",
   "metadata": {},
   "source": [
    "**Test md-RPCA for contaminated Gaussian**"
   ]
  },
  {
   "cell_type": "code",
   "execution_count": 14,
   "metadata": {},
   "outputs": [
    {
     "name": "stdout",
     "output_type": "stream",
     "text": [
      "ss_md_rpca - F1:   0.97\n"
     ]
    }
   ],
   "source": [
    "# Testing md-rpca\n",
    "md_pred_label = md_rpca_prediction(Xgu, r_mu, r_precision, outliers_fraction)\n",
    "md_f1 = f1_score(ground_truth, md_pred_label, average=\"binary\")\n",
    "print('ss_md_rpca - F1: %6.2f' % (md_f1))"
   ]
  },
  {
   "cell_type": "markdown",
   "metadata": {},
   "source": [
    "**Test sd-RPCA for contaminated Gaussian**"
   ]
  },
  {
   "cell_type": "code",
   "execution_count": 15,
   "metadata": {},
   "outputs": [
    {
     "name": "stdout",
     "output_type": "stream",
     "text": [
      "ss_sd_rpca - F1:   0.97\n"
     ]
    }
   ],
   "source": [
    "# Testing sd-rpca\n",
    "sd_pred_label = sd_rpca_prediction(Xgu, r_skew, r_precision, outliers_fraction)\n",
    "sd_f1 = f1_score(ground_truth, sd_pred_label, average=\"binary\")\n",
    "print('ss_sd_rpca - F1: %6.2f' % (sd_f1))"
   ]
  },
  {
   "cell_type": "markdown",
   "metadata": {},
   "source": [
    "**Test kd-RPCA for contaminated Gaussian**"
   ]
  },
  {
   "cell_type": "code",
   "execution_count": 16,
   "metadata": {},
   "outputs": [
    {
     "name": "stdout",
     "output_type": "stream",
     "text": [
      "ss_kd_rpca - F1:   0.97\n"
     ]
    }
   ],
   "source": [
    "# Testing kd-rpca\n",
    "kd_pred_label = kd_rpca_prediction(Xgu, r_kurt, r_precision, outliers_fraction)\n",
    "kd_f1 = f1_score(ground_truth, kd_pred_label, average=\"binary\")\n",
    "print('ss_kd_rpca - F1: %6.2f' % (kd_f1))"
   ]
  },
  {
   "cell_type": "code",
   "execution_count": 17,
   "metadata": {},
   "outputs": [
    {
     "data": {
      "image/png": "[encoded data removed]",
      "text/plain": [
       "<Figure size 864x576 with 1 Axes>"
      ]
     },
     "metadata": {},
     "output_type": "display_data"
    }
   ],
   "source": [
    "import numpy as np\n",
    "\n",
    "# Normal distributed x and y vector with mean 0 and standard deviation 1\n",
    "x = np.random.normal(0, 1, 500)\n",
    "y = np.random.normal(0, 1, 500)\n",
    "X = np.vstack((x, y)).T\n",
    "\n",
    "import matplotlib.pyplot as plt\n",
    "%matplotlib inline\n",
    "plt.style.use('ggplot')\n",
    "plt.rcParams['figure.figsize'] = (12, 8)\n",
    "plt.scatter(X[:, 0], X[:, 1])\n",
    "plt.title('Generated Data')\n",
    "plt.axis('equal');"
   ]
  },
  {
   "cell_type": "code",
   "execution_count": 18,
   "metadata": {},
   "outputs": [],
   "source": [
    "# Covariance\n",
    "def cov(x, y):\n",
    "    xbar, ybar = x.mean(), y.mean()\n",
    "    return np.sum((x - xbar)*(y - ybar))/(len(x) - 1)\n",
    "\n",
    "# Covariance matrix\n",
    "def cov_mat(X):\n",
    "    return np.array([[cov(X[0], X[0]), cov(X[0], X[1])], \\\n",
    "                     [cov(X[1], X[0]), cov(X[1], X[1])]])\n"
   ]
  },
  {
   "cell_type": "code",
   "execution_count": 19,
   "metadata": {},
   "outputs": [
    {
     "data": {
      "text/plain": [
       "array([[1.05506456, 0.09343542],\n",
       "       [0.09343542, 1.06931085]])"
      ]
     },
     "execution_count": 19,
     "metadata": {},
     "output_type": "execute_result"
    }
   ],
   "source": [
    "cov_mat(X.T)"
   ]
  },
  {
   "cell_type": "code",
   "execution_count": 20,
   "metadata": {},
   "outputs": [
    {
     "data": {
      "text/plain": [
       "array([[1.05506456, 0.09343542],\n",
       "       [0.09343542, 1.06931085]])"
      ]
     },
     "execution_count": 20,
     "metadata": {},
     "output_type": "execute_result"
    }
   ],
   "source": [
    "np.cov(X.T)"
   ]
  },
  {
   "cell_type": "code",
   "execution_count": 21,
   "metadata": {},
   "outputs": [
    {
     "name": "stdout",
     "output_type": "stream",
     "text": [
      "[0. 1. 2. 3. 4. 5. 6. 7. 8. 9.]\n"
     ]
    }
   ],
   "source": [
    "m = np.arange(10, dtype=np.float64)\n",
    "print(m)"
   ]
  },
  {
   "cell_type": "code",
   "execution_count": 22,
   "metadata": {},
   "outputs": [
    {
     "name": "stdout",
     "output_type": "stream",
     "text": [
      "[ 0  2  4  6  8 10 12 14 16 18]\n"
     ]
    }
   ],
   "source": [
    "f = np.arange(10) * 2\n",
    "print(f)"
   ]
  },
  {
   "cell_type": "code",
   "execution_count": 23,
   "metadata": {},
   "outputs": [
    {
     "name": "stdout",
     "output_type": "stream",
     "text": [
      "[ 0.  1.  4.  9. 16. 25. 36. 49. 64. 81.]\n"
     ]
    }
   ],
   "source": [
    "a = np.arange(10) ** 2.\n",
    "print(a)"
   ]
  },
  {
   "cell_type": "code",
   "execution_count": 24,
   "metadata": {},
   "outputs": [
    {
     "name": "stdout",
     "output_type": "stream",
     "text": [
      "[   0.    2.   16.   54.  128.  250.  432.  686. 1024. 1458.]\n"
     ]
    }
   ],
   "source": [
    "ddof = 9 # N - 1\n",
    "w = f * a\n",
    "print(w)"
   ]
  },
  {
   "cell_type": "code",
   "execution_count": 25,
   "metadata": {},
   "outputs": [
    {
     "name": "stdout",
     "output_type": "stream",
     "text": [
      "4050.0\n"
     ]
    }
   ],
   "source": [
    "v1 = np.sum(w)\n",
    "print(v1)"
   ]
  },
  {
   "cell_type": "code",
   "execution_count": 26,
   "metadata": {},
   "outputs": [
    {
     "name": "stdout",
     "output_type": "stream",
     "text": [
      "241650.0\n"
     ]
    }
   ],
   "source": [
    "v2 = np.sum(w * a)\n",
    "print(v2)"
   ]
  },
  {
   "cell_type": "code",
   "execution_count": 27,
   "metadata": {},
   "outputs": [
    {
     "name": "stdout",
     "output_type": "stream",
     "text": [
      "[-7.57185185 -6.57185185 -5.57185185 -4.57185185 -3.57185185 -2.57185185\n",
      " -1.57185185 -0.57185185  0.42814815  1.42814815]\n"
     ]
    }
   ],
   "source": [
    "m -= np.sum(m * w, axis=None, keepdims=True) / v1\n",
    "print(m)"
   ]
  },
  {
   "cell_type": "code",
   "execution_count": 28,
   "metadata": {},
   "outputs": [
    {
     "name": "stdout",
     "output_type": "stream",
     "text": [
      "2.6904614606066364\n"
     ]
    }
   ],
   "source": [
    "cov = np.dot(m * w, m.T) * v1 / (v1**2 - ddof * v2)\n",
    "print(cov)"
   ]
  },
  {
   "cell_type": "code",
   "execution_count": 29,
   "metadata": {},
   "outputs": [],
   "source": [
    "def tensor_cov(m, y=None, rowvar=True, bias=False, ddof=None, fweights=None,\n",
    "        aweights=None):\n",
    "    \"\"\"\n",
    "    Estimate a covariance matrix, given data and weights.\n",
    "    Covariance indicates the level to which two variables vary together.\n",
    "    If we examine N-dimensional samples, :math:`X = [x_1, x_2, ... x_N]^T`,\n",
    "    then the covariance matrix element :math:`C_{ij}` is the covariance of\n",
    "    :math:`x_i` and :math:`x_j`. The element :math:`C_{ii}` is the variance\n",
    "    of :math:`x_i`.\n",
    "    See the notes for an outline of the algorithm.\n",
    "    Parameters\n",
    "    ----------\n",
    "    m : array_like\n",
    "        A 1-D or 2-D array containing multiple variables and observations.\n",
    "        Each row of `m` represents a variable, and each column a single\n",
    "        observation of all those variables. Also see `rowvar` below.\n",
    "    y : array_like, optional\n",
    "        An additional set of variables and observations. `y` has the same form\n",
    "        as that of `m`.\n",
    "    rowvar : bool, optional\n",
    "        If `rowvar` is True (default), then each row represents a\n",
    "        variable, with observations in the columns. Otherwise, the relationship\n",
    "        is transposed: each column represents a variable, while the rows\n",
    "        contain observations.\n",
    "    bias : bool, optional\n",
    "        Default normalization (False) is by ``(N - 1)``, where ``N`` is the\n",
    "        number of observations given (unbiased estimate). If `bias` is True,\n",
    "        then normalization is by ``N``. These values can be overridden by using\n",
    "        the keyword ``ddof`` in numpy versions >= 1.5.\n",
    "    ddof : int, optional\n",
    "        If not ``None`` the default value implied by `bias` is overridden.\n",
    "        Note that ``ddof=1`` will return the unbiased estimate, even if both\n",
    "        `fweights` and `aweights` are specified, and ``ddof=0`` will return\n",
    "        the simple average. See the notes for the details. The default value\n",
    "        is ``None``.\n",
    "        .. versionadded:: 1.5\n",
    "    fweights : array_like, int, optional\n",
    "        1-D array of integer frequency weights; the number of times each\n",
    "        observation vector should be repeated.\n",
    "        .. versionadded:: 1.10\n",
    "    aweights : array_like, optional\n",
    "        1-D array of observation vector weights. These relative weights are\n",
    "        typically large for observations considered \"important\" and smaller for\n",
    "        observations considered less \"important\". If ``ddof=0`` the array of\n",
    "        weights can be used to assign probabilities to observation vectors.\n",
    "        .. versionadded:: 1.10\n",
    "    Returns\n",
    "    -------\n",
    "    out : ndarray\n",
    "        The covariance matrix of the variables.\n",
    "    See Also\n",
    "    --------\n",
    "    corrcoef : Normalized covariance matrix\n",
    "    Notes\n",
    "    -----\n",
    "    Assume that the observations are in the columns of the observation\n",
    "    array `m` and let ``f = fweights`` and ``a = aweights`` for brevity. The\n",
    "    steps to compute the weighted covariance are as follows::\n",
    "        >>> m = np.arange(10, dtype=np.float64)\n",
    "        >>> f = np.arange(10) * 2\n",
    "        >>> a = np.arange(10) ** 2.\n",
    "        >>> ddof = 9 # N - 1\n",
    "        >>> w = f * a\n",
    "        >>> v1 = np.sum(w)\n",
    "        >>> v2 = np.sum(w * a)\n",
    "        >>> m -= np.sum(m * w, axis=None, keepdims=True) / v1\n",
    "        >>> cov = np.dot(m * w, m.T) * v1 / (v1**2 - ddof * v2)\n",
    "    Note that when ``a == 1``, the normalization factor\n",
    "    ``v1 / (v1**2 - ddof * v2)`` goes over to ``1 / (np.sum(f) - ddof)``\n",
    "    as it should.\n",
    "    Examples\n",
    "    --------\n",
    "    Consider two variables, :math:`x_0` and :math:`x_1`, which\n",
    "    correlate perfectly, but in opposite directions:\n",
    "    >>> x = np.array([[0, 2], [1, 1], [2, 0]]).T\n",
    "    >>> x\n",
    "    array([[0, 1, 2],\n",
    "           [2, 1, 0]])\n",
    "    Note how :math:`x_0` increases while :math:`x_1` decreases. The covariance\n",
    "    matrix shows this clearly:\n",
    "    >>> np.cov(x)\n",
    "    array([[ 1., -1.],\n",
    "           [-1.,  1.]])\n",
    "    Note that element :math:`C_{0,1}`, which shows the correlation between\n",
    "    :math:`x_0` and :math:`x_1`, is negative.\n",
    "    Further, note how `x` and `y` are combined:\n",
    "    >>> x = [-2.1, -1,  4.3]\n",
    "    >>> y = [3,  1.1,  0.12]\n",
    "    >>> X = np.stack((x, y), axis=0)\n",
    "    >>> np.cov(X)\n",
    "    array([[11.71      , -4.286     ], # may vary\n",
    "           [-4.286     ,  2.144133]])\n",
    "    >>> np.cov(x, y)\n",
    "    array([[11.71      , -4.286     ], # may vary\n",
    "           [-4.286     ,  2.144133]])\n",
    "    >>> np.cov(x)\n",
    "    array(11.71)\n",
    "    \"\"\"\n",
    "    # Check inputs\n",
    "    if ddof is not None and ddof != int(ddof):\n",
    "        raise ValueError(\n",
    "            \"ddof must be integer\")\n",
    "\n",
    "    # Handles complex arrays too\n",
    "    m = np.asarray(m)\n",
    "    if m.ndim > 2:\n",
    "        raise ValueError(\"m has more than 2 dimensions\")\n",
    "\n",
    "    if y is None:\n",
    "        dtype = np.result_type(m, np.float64)\n",
    "    else:\n",
    "        y = np.asarray(y)\n",
    "        if y.ndim > 2:\n",
    "            raise ValueError(\"y has more than 2 dimensions\")\n",
    "        dtype = np.result_type(m, y, np.float64)\n",
    "\n",
    "    X = array(m, ndmin=2, dtype=dtype)\n",
    "    if not rowvar and X.shape[0] != 1:\n",
    "        X = X.T\n",
    "    if X.shape[0] == 0:\n",
    "        return np.array([]).reshape(0, 0)\n",
    "    if y is not None:\n",
    "        y = array(y, copy=False, ndmin=2, dtype=dtype)\n",
    "        if not rowvar and y.shape[0] != 1:\n",
    "            y = y.T\n",
    "        X = np.concatenate((X, y), axis=0)\n",
    "\n",
    "    if ddof is None:\n",
    "        if bias == 0:\n",
    "            ddof = 1\n",
    "        else:\n",
    "            ddof = 0\n",
    "\n",
    "    # Get the product of frequencies and weights\n",
    "    w = None\n",
    "    if fweights is not None:\n",
    "        fweights = np.asarray(fweights, dtype=float)\n",
    "        if not np.all(fweights == np.around(fweights)):\n",
    "            raise TypeError(\n",
    "                \"fweights must be integer\")\n",
    "        if fweights.ndim > 1:\n",
    "            raise RuntimeError(\n",
    "                \"cannot handle multidimensional fweights\")\n",
    "        if fweights.shape[0] != X.shape[1]:\n",
    "            raise RuntimeError(\n",
    "                \"incompatible numbers of samples and fweights\")\n",
    "        if any(fweights < 0):\n",
    "            raise ValueError(\n",
    "                \"fweights cannot be negative\")\n",
    "        w = fweights\n",
    "    if aweights is not None:\n",
    "        aweights = np.asarray(aweights, dtype=float)\n",
    "        if aweights.ndim > 1:\n",
    "            raise RuntimeError(\n",
    "                \"cannot handle multidimensional aweights\")\n",
    "        if aweights.shape[0] != X.shape[1]:\n",
    "            raise RuntimeError(\n",
    "                \"incompatible numbers of samples and aweights\")\n",
    "        if any(aweights < 0):\n",
    "            raise ValueError(\n",
    "                \"aweights cannot be negative\")\n",
    "        if w is None:\n",
    "            w = aweights\n",
    "        else:\n",
    "            w *= aweights\n",
    "\n",
    "    avg, w_sum = average(X, axis=1, weights=w, returned=True)\n",
    "    w_sum = w_sum[0]\n",
    "\n",
    "    # Determine the normalization\n",
    "    if w is None:\n",
    "        fact = X.shape[1] - ddof\n",
    "    elif ddof == 0:\n",
    "        fact = w_sum\n",
    "    elif aweights is None:\n",
    "        fact = w_sum - ddof\n",
    "    else:\n",
    "        fact = w_sum - ddof*sum(w*aweights)/w_sum\n",
    "\n",
    "    if fact <= 0:\n",
    "        warnings.warn(\"Degrees of freedom <= 0 for slice\",\n",
    "                      RuntimeWarning, stacklevel=3)\n",
    "        fact = 0.0\n",
    "\n",
    "    X -= avg[:, None]\n",
    "    if w is None:\n",
    "        X_T = X.T\n",
    "    else:\n",
    "        X_T = (X*w).T\n",
    "    c = dot(X, X_T.conj())\n",
    "    c *= np.true_divide(1, fact)\n",
    "    return c.squeeze()"
   ]
  },
  {
   "cell_type": "markdown",
   "metadata": {},
   "source": [
    "**Train size**"
   ]
  },
  {
   "cell_type": "code",
   "execution_count": 30,
   "metadata": {},
   "outputs": [
    {
     "data": {
      "text/plain": [
       "(2160, 2)"
      ]
     },
     "execution_count": 30,
     "metadata": {},
     "output_type": "execute_result"
    }
   ],
   "source": [
    "Xgaussian_t.shape"
   ]
  },
  {
   "cell_type": "markdown",
   "metadata": {},
   "source": [
    "**Test size**"
   ]
  },
  {
   "cell_type": "code",
   "execution_count": 31,
   "metadata": {},
   "outputs": [
    {
     "data": {
      "text/plain": [
       "(2400, 2)"
      ]
     },
     "execution_count": 31,
     "metadata": {},
     "output_type": "execute_result"
    }
   ],
   "source": [
    "Xgu.shape"
   ]
  },
  {
   "cell_type": "code",
   "execution_count": 32,
   "metadata": {},
   "outputs": [
    {
     "data": {
      "text/plain": [
       "(2400, 2)"
      ]
     },
     "execution_count": 32,
     "metadata": {},
     "output_type": "execute_result"
    }
   ],
   "source": [
    "Xgaussian_tc.shape"
   ]
  },
  {
   "cell_type": "code",
   "execution_count": 33,
   "metadata": {},
   "outputs": [],
   "source": [
    "from tensorly import fold, unfold"
   ]
  },
  {
   "cell_type": "code",
   "execution_count": 34,
   "metadata": {},
   "outputs": [
    {
     "data": {
      "text/plain": [
       "array([[ 0.21809586, -0.12089806],\n",
       "       [ 0.13150888,  0.2562235 ],\n",
       "       [-0.61041875, -0.19740743],\n",
       "       [ 0.11773663,  0.01818286],\n",
       "       [-0.42141444, -0.17220399],\n",
       "       [-0.0450637 , -0.13845499],\n",
       "       [ 0.16240492,  0.47013477],\n",
       "       [ 0.15461048, -0.39655946],\n",
       "       [-0.30059502,  0.19298907],\n",
       "       [ 0.29087896, -0.21771308],\n",
       "       [-0.17626664, -0.6842647 ],\n",
       "       [ 0.36295128, -0.02653906],\n",
       "       [-0.1628999 ,  0.20335003],\n",
       "       [ 0.12379592,  0.39892881],\n",
       "       [-0.27653214,  0.04977453],\n",
       "       [-0.31816626, -0.00658874],\n",
       "       [-0.16087051, -0.43786873],\n",
       "       [-0.3058444 ,  0.15614044],\n",
       "       [-0.23641058, -0.02629352],\n",
       "       [-0.70469786,  0.09350002],\n",
       "       [-0.75577469, -0.15847842],\n",
       "       [ 0.03490129,  0.64594749],\n",
       "       [ 0.07026094, -0.28048965],\n",
       "       [-0.15733691,  0.08842423]])"
      ]
     },
     "execution_count": 34,
     "metadata": {},
     "output_type": "execute_result"
    }
   ],
   "source": [
    "Xgu[0:24,:]"
   ]
  },
  {
   "cell_type": "code",
   "execution_count": 35,
   "metadata": {},
   "outputs": [
    {
     "name": "stdout",
     "output_type": "stream",
     "text": [
      "(24, 2, 100)\n",
      "[[ 0.21809586 -0.12089806]\n",
      " [ 0.13150888  0.2562235 ]\n",
      " [-0.61041875 -0.19740743]\n",
      " [ 0.11773663  0.01818286]\n",
      " [-0.42141444 -0.17220399]\n",
      " [-0.0450637  -0.13845499]\n",
      " [ 0.16240492  0.47013477]\n",
      " [ 0.15461048 -0.39655946]\n",
      " [-0.30059502  0.19298907]\n",
      " [ 0.29087896 -0.21771308]\n",
      " [-0.17626664 -0.6842647 ]\n",
      " [ 0.36295128 -0.02653906]\n",
      " [-0.1628999   0.20335003]\n",
      " [ 0.12379592  0.39892881]\n",
      " [-0.27653214  0.04977453]\n",
      " [-0.31816626 -0.00658874]\n",
      " [-0.16087051 -0.43786873]\n",
      " [-0.3058444   0.15614044]\n",
      " [-0.23641058 -0.02629352]\n",
      " [-0.70469786  0.09350002]\n",
      " [-0.75577469 -0.15847842]\n",
      " [ 0.03490129  0.64594749]\n",
      " [ 0.07026094 -0.28048965]\n",
      " [-0.15733691  0.08842423]]\n"
     ]
    }
   ],
   "source": [
    "Xgu2 = fold(Xgu, 2, (24, 2, 100))\n",
    "print(Xgu2.shape)\n",
    "print(Xgu2[...,0])"
   ]
  },
  {
   "cell_type": "code",
   "execution_count": 36,
   "metadata": {},
   "outputs": [],
   "source": [
    "L2, S2 = robust_pca(Xgu2, reg_J=1)"
   ]
  },
  {
   "cell_type": "code",
   "execution_count": 37,
   "metadata": {},
   "outputs": [
    {
     "data": {
      "text/plain": [
       "(24, 2, 100)"
      ]
     },
     "execution_count": 37,
     "metadata": {},
     "output_type": "execute_result"
    }
   ],
   "source": [
    "L2.shape"
   ]
  },
  {
   "cell_type": "code",
   "execution_count": 39,
   "metadata": {},
   "outputs": [],
   "source": [
    "uL = unfold(L2, 1)"
   ]
  },
  {
   "cell_type": "code",
   "execution_count": 40,
   "metadata": {},
   "outputs": [
    {
     "data": {
      "text/plain": [
       "(2, 2400)"
      ]
     },
     "execution_count": 40,
     "metadata": {},
     "output_type": "execute_result"
    }
   ],
   "source": [
    "uL.shape"
   ]
  },
  {
   "cell_type": "code",
   "execution_count": 41,
   "metadata": {},
   "outputs": [
    {
     "ename": "NameError",
     "evalue": "name 'L' is not defined",
     "output_type": "error",
     "traceback": [
      "\u001b[1;31m---------------------------------------------------------------------------\u001b[0m",
      "\u001b[1;31mNameError\u001b[0m                                 Traceback (most recent call last)",
      "\u001b[1;32m<ipython-input-41-04f93e3e7762>\u001b[0m in \u001b[0;36m<module>\u001b[1;34m\u001b[0m\n\u001b[1;32m----> 1\u001b[1;33m \u001b[0mrob_mean\u001b[0m \u001b[1;33m=\u001b[0m \u001b[0mL\u001b[0m\u001b[1;33m.\u001b[0m\u001b[0mmean\u001b[0m\u001b[1;33m(\u001b[0m\u001b[0maxis\u001b[0m\u001b[1;33m=\u001b[0m\u001b[1;36m0\u001b[0m\u001b[1;33m)\u001b[0m\u001b[1;33m\u001b[0m\u001b[1;33m\u001b[0m\u001b[0m\n\u001b[0m\u001b[0;32m      2\u001b[0m \u001b[0mrob_cov\u001b[0m \u001b[1;33m=\u001b[0m \u001b[0mpd\u001b[0m\u001b[1;33m.\u001b[0m\u001b[0mDataFrame\u001b[0m\u001b[1;33m(\u001b[0m\u001b[0mL\u001b[0m\u001b[1;33m)\u001b[0m\u001b[1;33m.\u001b[0m\u001b[0mcov\u001b[0m\u001b[1;33m(\u001b[0m\u001b[1;33m)\u001b[0m\u001b[1;33m\u001b[0m\u001b[1;33m\u001b[0m\u001b[0m\n\u001b[0;32m      3\u001b[0m \u001b[0mrob_precision\u001b[0m \u001b[1;33m=\u001b[0m \u001b[0mlinalg\u001b[0m\u001b[1;33m.\u001b[0m\u001b[0mpinvh\u001b[0m\u001b[1;33m(\u001b[0m\u001b[0mrob_cov\u001b[0m\u001b[1;33m)\u001b[0m\u001b[1;33m\u001b[0m\u001b[1;33m\u001b[0m\u001b[0m\n\u001b[0;32m      4\u001b[0m \u001b[0mrob_dist\u001b[0m \u001b[1;33m=\u001b[0m \u001b[1;33m(\u001b[0m\u001b[0mnp\u001b[0m\u001b[1;33m.\u001b[0m\u001b[0mdot\u001b[0m\u001b[1;33m(\u001b[0m\u001b[0mL\u001b[0m\u001b[1;33m,\u001b[0m \u001b[0mrob_precision\u001b[0m\u001b[1;33m)\u001b[0m \u001b[1;33m*\u001b[0m \u001b[0mL\u001b[0m\u001b[1;33m)\u001b[0m\u001b[1;33m.\u001b[0m\u001b[0msum\u001b[0m\u001b[1;33m(\u001b[0m\u001b[0maxis\u001b[0m\u001b[1;33m=\u001b[0m\u001b[1;36m1\u001b[0m\u001b[1;33m)\u001b[0m\u001b[1;33m\u001b[0m\u001b[1;33m\u001b[0m\u001b[0m\n\u001b[0;32m      5\u001b[0m \u001b[1;33m\u001b[0m\u001b[0m\n",
      "\u001b[1;31mNameError\u001b[0m: name 'L' is not defined"
     ]
    }
   ],
   "source": [
    "rob_mean = L.mean(axis=0)\n",
    "rob_cov = pd.DataFrame(L).cov()\n",
    "rob_precision = linalg.pinvh(rob_cov)\n",
    "rob_dist = (np.dot(L, rob_precision) * L).sum(axis=1)\n",
    "\n",
    "rob_skew = skew(L, axis=0, bias=True)\n",
    "rob_skew_dist = (np.dot(L - rob_skew, rob_precision) * (L - rob_skew)).sum(axis=1)\n",
    "\n",
    "rob_kurt = kurtosis(L, axis=0, fisher=True, bias=True)\n",
    "rob_kurt_dist = (np.dot(L - rob_kurt, rob_precision) * (L - rob_kurt)).sum(axis=1)\n",
    "\n",
    "return L, rob_mean, rob_cov, rob_dist, rob_precision, rob_skew, rob_skew_dist, rob_kurt, rob_kurt_dist"
   ]
  },
  {
   "cell_type": "code",
   "execution_count": 42,
   "metadata": {},
   "outputs": [],
   "source": [
    "import tensorly as tl\n",
    "X = tl.tensor(np.arange(24).reshape((4, 3, 2)))"
   ]
  },
  {
   "cell_type": "code",
   "execution_count": 43,
   "metadata": {},
   "outputs": [
    {
     "data": {
      "text/plain": [
       "(4, 3, 2)"
      ]
     },
     "execution_count": 43,
     "metadata": {},
     "output_type": "execute_result"
    }
   ],
   "source": [
    "X.shape"
   ]
  },
  {
   "cell_type": "code",
   "execution_count": 44,
   "metadata": {},
   "outputs": [
    {
     "name": "stdout",
     "output_type": "stream",
     "text": [
      "[[[ 0  1]\n",
      "  [ 2  3]\n",
      "  [ 4  5]]\n",
      "\n",
      " [[ 6  7]\n",
      "  [ 8  9]\n",
      "  [10 11]]\n",
      "\n",
      " [[12 13]\n",
      "  [14 15]\n",
      "  [16 17]]\n",
      "\n",
      " [[18 19]\n",
      "  [20 21]\n",
      "  [22 23]]]\n"
     ]
    }
   ],
   "source": [
    "np.set_printoptions(precision=3)\n",
    "print(X)"
   ]
  },
  {
   "cell_type": "code",
   "execution_count": 45,
   "metadata": {},
   "outputs": [
    {
     "data": {
      "text/plain": [
       "array([[ 0,  2,  4],\n",
       "       [ 6,  8, 10],\n",
       "       [12, 14, 16],\n",
       "       [18, 20, 22]])"
      ]
     },
     "execution_count": 45,
     "metadata": {},
     "output_type": "execute_result"
    }
   ],
   "source": [
    "X[..., 0]"
   ]
  },
  {
   "cell_type": "code",
   "execution_count": 46,
   "metadata": {},
   "outputs": [
    {
     "data": {
      "text/plain": [
       "array([[ 1,  3,  5],\n",
       "       [ 7,  9, 11],\n",
       "       [13, 15, 17],\n",
       "       [19, 21, 23]])"
      ]
     },
     "execution_count": 46,
     "metadata": {},
     "output_type": "execute_result"
    }
   ],
   "source": [
    "X[..., 1]"
   ]
  },
  {
   "cell_type": "markdown",
   "metadata": {},
   "source": [
    "**mode-1 unfolding**"
   ]
  },
  {
   "cell_type": "code",
   "execution_count": 47,
   "metadata": {},
   "outputs": [
    {
     "name": "stdout",
     "output_type": "stream",
     "text": [
      "[[ 0  1  2  3  4  5]\n",
      " [ 6  7  8  9 10 11]\n",
      " [12 13 14 15 16 17]\n",
      " [18 19 20 21 22 23]]\n",
      "(4, 6)\n"
     ]
    }
   ],
   "source": [
    "X1 = unfold(X, 0)\n",
    "print(X1)\n",
    "print(X1.shape)"
   ]
  },
  {
   "cell_type": "markdown",
   "metadata": {},
   "source": [
    "**mode-2 unfolding**"
   ]
  },
  {
   "cell_type": "code",
   "execution_count": 48,
   "metadata": {},
   "outputs": [
    {
     "name": "stdout",
     "output_type": "stream",
     "text": [
      "[[ 0  1  6  7 12 13 18 19]\n",
      " [ 2  3  8  9 14 15 20 21]\n",
      " [ 4  5 10 11 16 17 22 23]]\n",
      "(3, 8)\n"
     ]
    }
   ],
   "source": [
    "X2 = unfold(X, 1)\n",
    "print(X2)\n",
    "print(X2.shape)"
   ]
  },
  {
   "cell_type": "markdown",
   "metadata": {},
   "source": [
    "**mode-3 unfolding**"
   ]
  },
  {
   "cell_type": "code",
   "execution_count": 49,
   "metadata": {},
   "outputs": [
    {
     "name": "stdout",
     "output_type": "stream",
     "text": [
      "[[ 0  2  4  6  8 10 12 14 16 18 20 22]\n",
      " [ 1  3  5  7  9 11 13 15 17 19 21 23]]\n",
      "(2, 12)\n"
     ]
    }
   ],
   "source": [
    "X3 = unfold(X, 2)\n",
    "print(X3)\n",
    "print(X3.shape)"
   ]
  },
  {
   "cell_type": "code",
   "execution_count": 50,
   "metadata": {},
   "outputs": [
    {
     "data": {
      "text/plain": [
       "array([[[ 0,  1],\n",
       "        [ 2,  3],\n",
       "        [ 4,  5]],\n",
       "\n",
       "       [[ 6,  7],\n",
       "        [ 8,  9],\n",
       "        [10, 11]],\n",
       "\n",
       "       [[12, 13],\n",
       "        [14, 15],\n",
       "        [16, 17]],\n",
       "\n",
       "       [[18, 19],\n",
       "        [20, 21],\n",
       "        [22, 23]]])"
      ]
     },
     "execution_count": 50,
     "metadata": {},
     "output_type": "execute_result"
    }
   ],
   "source": [
    "fold(X1, 0, (4, 3, 2))"
   ]
  },
  {
   "cell_type": "code",
   "execution_count": 51,
   "metadata": {},
   "outputs": [
    {
     "data": {
      "text/plain": [
       "array([[[ 0,  1],\n",
       "        [ 8,  9],\n",
       "        [16, 17]],\n",
       "\n",
       "       [[ 2,  3],\n",
       "        [10, 11],\n",
       "        [18, 19]],\n",
       "\n",
       "       [[ 4,  5],\n",
       "        [12, 13],\n",
       "        [20, 21]],\n",
       "\n",
       "       [[ 6,  7],\n",
       "        [14, 15],\n",
       "        [22, 23]]])"
      ]
     },
     "execution_count": 51,
     "metadata": {},
     "output_type": "execute_result"
    }
   ],
   "source": [
    "fold(X1, 1, (4, 3, 2))"
   ]
  },
  {
   "cell_type": "code",
   "execution_count": 52,
   "metadata": {},
   "outputs": [
    {
     "data": {
      "text/plain": [
       "array([[[ 0, 12],\n",
       "        [ 1, 13],\n",
       "        [ 2, 14]],\n",
       "\n",
       "       [[ 3, 15],\n",
       "        [ 4, 16],\n",
       "        [ 5, 17]],\n",
       "\n",
       "       [[ 6, 18],\n",
       "        [ 7, 19],\n",
       "        [ 8, 20]],\n",
       "\n",
       "       [[ 9, 21],\n",
       "        [10, 22],\n",
       "        [11, 23]]])"
      ]
     },
     "execution_count": 52,
     "metadata": {},
     "output_type": "execute_result"
    }
   ],
   "source": [
    "fold(X1, 2, (4, 3, 2))"
   ]
  },
  {
   "cell_type": "code",
   "execution_count": 53,
   "metadata": {},
   "outputs": [],
   "source": [
    "import numpy as np\n",
    "import matplotlib.pyplot as plt\n",
    "import seaborn as sns\n",
    "\n",
    "from sklearn.decomposition import FactorAnalysis, PCA\n",
    "import tensortools as tt\n",
    "from tensortools.operations import unfold as tt_unfold, khatri_rao\n",
    "import tensorly as tl\n",
    "from tensorly import unfold as tl_unfold\n",
    "from tensorly.decomposition import parafac\n",
    "\n",
    "# import some useful functions (they are available in utils.py)\n",
    "from utils import *"
   ]
  },
  {
   "cell_type": "code",
   "execution_count": 60,
   "metadata": {},
   "outputs": [],
   "source": [
    "time_factor = np.load(\"data/tensor-decomposition-in-python/time_factor.npy\")\n",
    "neuron_factor = np.load(\"data/tensor-decomposition-in-python/neuron_factor.npy\")\n",
    "trial_factor = np.load(\"data/tensor-decomposition-in-python/trial_factor.npy\")\n",
    "latent = np.load(\"data/tensor-decomposition-in-python/latent.npy\")\n",
    "observed = np.load(\"data/tensor-decomposition-in-python/observed.npy\")\n",
    "\n",
    "# Specify the tensor, and the rank (np. of factors)\n",
    "X, rank = observed, 3"
   ]
  },
  {
   "cell_type": "code",
   "execution_count": 61,
   "metadata": {},
   "outputs": [
    {
     "name": "stdout",
     "output_type": "stream",
     "text": [
      "(500, 50, 100)\n"
     ]
    }
   ],
   "source": [
    "print(observed.shape)"
   ]
  },
  {
   "cell_type": "code",
   "execution_count": 62,
   "metadata": {},
   "outputs": [],
   "source": [
    "# Perform CP decompositon using TensorLy\n",
    "factors_tl = parafac(X, rank=rank)"
   ]
  },
  {
   "cell_type": "code",
   "execution_count": 63,
   "metadata": {},
   "outputs": [],
   "source": [
    "# Perform CP decomposition using tensortools\n",
    "U = tt.cp_als(X, rank=rank, verbose=False)\n",
    "factors_tt = U.factors.factors"
   ]
  },
  {
   "cell_type": "code",
   "execution_count": 64,
   "metadata": {},
   "outputs": [
    {
     "ename": "ValueError",
     "evalue": "not enough values to unpack (expected 3, got 2)",
     "output_type": "error",
     "traceback": [
      "\u001b[1;31m---------------------------------------------------------------------------\u001b[0m",
      "\u001b[1;31mValueError\u001b[0m                                Traceback (most recent call last)",
      "\u001b[1;32m<ipython-input-64-87d78a910c1d>\u001b[0m in \u001b[0;36m<module>\u001b[1;34m\u001b[0m\n\u001b[0;32m      1\u001b[0m \u001b[1;31m# Reconstruct M, with the result of each library\u001b[0m\u001b[1;33m\u001b[0m\u001b[1;33m\u001b[0m\u001b[1;33m\u001b[0m\u001b[0m\n\u001b[1;32m----> 2\u001b[1;33m \u001b[0mM_tl\u001b[0m \u001b[1;33m=\u001b[0m \u001b[0mreconstruct\u001b[0m\u001b[1;33m(\u001b[0m\u001b[0mfactors_tl\u001b[0m\u001b[1;33m)\u001b[0m\u001b[1;33m\u001b[0m\u001b[1;33m\u001b[0m\u001b[0m\n\u001b[0m\u001b[0;32m      3\u001b[0m \u001b[0mM_tt\u001b[0m \u001b[1;33m=\u001b[0m \u001b[0mreconstruct\u001b[0m\u001b[1;33m(\u001b[0m\u001b[0mfactors_tt\u001b[0m\u001b[1;33m)\u001b[0m\u001b[1;33m\u001b[0m\u001b[1;33m\u001b[0m\u001b[0m\n",
      "\u001b[1;32mC:\\_thiago\\dev\\anomaly-detection\\network-attack-detection\\utils.py\u001b[0m in \u001b[0;36mreconstruct\u001b[1;34m(factors, rank)\u001b[0m\n\u001b[0;32m     18\u001b[0m \u001b[1;33m\u001b[0m\u001b[0m\n\u001b[0;32m     19\u001b[0m \u001b[1;32mdef\u001b[0m \u001b[0mreconstruct\u001b[0m\u001b[1;33m(\u001b[0m\u001b[0mfactors\u001b[0m\u001b[1;33m,\u001b[0m \u001b[0mrank\u001b[0m\u001b[1;33m=\u001b[0m\u001b[1;32mNone\u001b[0m\u001b[1;33m)\u001b[0m\u001b[1;33m:\u001b[0m\u001b[1;33m\u001b[0m\u001b[1;33m\u001b[0m\u001b[0m\n\u001b[1;32m---> 20\u001b[1;33m     \u001b[0ma\u001b[0m\u001b[1;33m,\u001b[0m \u001b[0mb\u001b[0m\u001b[1;33m,\u001b[0m \u001b[0mc\u001b[0m \u001b[1;33m=\u001b[0m \u001b[0mfactors\u001b[0m\u001b[1;33m\u001b[0m\u001b[1;33m\u001b[0m\u001b[0m\n\u001b[0m\u001b[0;32m     21\u001b[0m     \u001b[0mrank\u001b[0m \u001b[1;33m=\u001b[0m \u001b[0mrank\u001b[0m \u001b[1;32mif\u001b[0m \u001b[0mrank\u001b[0m \u001b[1;32melse\u001b[0m \u001b[0ma\u001b[0m\u001b[1;33m.\u001b[0m\u001b[0mshape\u001b[0m\u001b[1;33m[\u001b[0m\u001b[1;36m1\u001b[0m\u001b[1;33m]\u001b[0m\u001b[1;33m\u001b[0m\u001b[1;33m\u001b[0m\u001b[0m\n\u001b[0;32m     22\u001b[0m     \u001b[0mR1s\u001b[0m \u001b[1;33m=\u001b[0m \u001b[0mnp\u001b[0m\u001b[1;33m.\u001b[0m\u001b[0mzeros\u001b[0m\u001b[1;33m(\u001b[0m\u001b[1;33m(\u001b[0m\u001b[0ma\u001b[0m\u001b[1;33m.\u001b[0m\u001b[0mshape\u001b[0m\u001b[1;33m[\u001b[0m\u001b[1;36m0\u001b[0m\u001b[1;33m]\u001b[0m\u001b[1;33m,\u001b[0m \u001b[0mb\u001b[0m\u001b[1;33m.\u001b[0m\u001b[0mshape\u001b[0m\u001b[1;33m[\u001b[0m\u001b[1;36m0\u001b[0m\u001b[1;33m]\u001b[0m\u001b[1;33m,\u001b[0m \u001b[0mc\u001b[0m\u001b[1;33m.\u001b[0m\u001b[0mshape\u001b[0m\u001b[1;33m[\u001b[0m\u001b[1;36m0\u001b[0m\u001b[1;33m]\u001b[0m\u001b[1;33m,\u001b[0m \u001b[0mrank\u001b[0m\u001b[1;33m)\u001b[0m\u001b[1;33m)\u001b[0m\u001b[1;33m\u001b[0m\u001b[1;33m\u001b[0m\u001b[0m\n",
      "\u001b[1;31mValueError\u001b[0m: not enough values to unpack (expected 3, got 2)"
     ]
    }
   ],
   "source": [
    "# Reconstruct M, with the result of each library\n",
    "M_tt = reconstruct(factors_tt)\n",
    "M_tl = reconstruct(factors_tl)"
   ]
  },
  {
   "cell_type": "code",
   "execution_count": null,
   "metadata": {},
   "outputs": [],
   "source": [
    "# plot the decomposed factors\n",
    "plot_factors(factors_tl)\n",
    "plot_factors(factors_tt)"
   ]
  },
  {
   "cell_type": "code",
   "execution_count": null,
   "metadata": {},
   "outputs": [],
   "source": [
    "def decompose_three_way(tensor, rank, max_iter=501, verbose=False):\n",
    "\n",
    "    # a = np.random.random((rank, tensor.shape[0]))\n",
    "    b = np.random.random((rank, tensor.shape[1]))\n",
    "    c = np.random.random((rank, tensor.shape[2]))\n",
    "\n",
    "    for epoch in range(max_iter):\n",
    "        # optimize a\n",
    "        input_a = khatri_rao([b.T, c.T])\n",
    "        target_a = tl.unfold(tensor, mode=0).T\n",
    "        a = np.linalg.solve(input_a.T.dot(input_a), input_a.T.dot(target_a))\n",
    "\n",
    "        # optimize b\n",
    "        input_b = khatri_rao([a.T, c.T])\n",
    "        target_b = tl.unfold(tensor, mode=1).T\n",
    "        b = np.linalg.solve(input_b.T.dot(input_b), input_b.T.dot(target_b))\n",
    "\n",
    "        # optimize c\n",
    "        input_c = khatri_rao([a.T, b.T])\n",
    "        target_c = tl.unfold(tensor, mode=2).T\n",
    "        c = np.linalg.solve(input_c.T.dot(input_c), input_c.T.dot(target_c))\n",
    "\n",
    "        if verbose and epoch % int(max_iter * .2) == 0:\n",
    "            res_a = np.square(input_a.dot(a) - target_a)\n",
    "            res_b = np.square(input_b.dot(b) - target_b)\n",
    "            res_c = np.square(input_c.dot(c) - target_c)\n",
    "            print(\"Epoch:\", epoch, \"| Loss (C):\", res_a.mean(), \"| Loss (B):\", res_b.mean(), \"| Loss (C):\", res_c.mean())\n",
    "\n",
    "    return a.T, b.T, c.T"
   ]
  },
  {
   "cell_type": "code",
   "execution_count": null,
   "metadata": {},
   "outputs": [],
   "source": []
  },
  {
   "cell_type": "code",
   "execution_count": null,
   "metadata": {},
   "outputs": [],
   "source": []
  }
 ],
 "metadata": {
  "kernelspec": {
   "display_name": "Python 3",
   "language": "python",
   "name": "python3"
  },
  "language_info": {
   "codemirror_mode": {
    "name": "ipython",
    "version": 3
   },
   "file_extension": ".py",
   "mimetype": "text/x-python",
   "name": "python",
   "nbconvert_exporter": "python",
   "pygments_lexer": "ipython3",
   "version": "3.7.4"
  },
  "pycharm": {
   "stem_cell": {
    "cell_type": "raw",
    "metadata": {
     "collapsed": false
    },
    "source": []
   }
  }
 },
 "nbformat": 4,
 "nbformat_minor": 1
}

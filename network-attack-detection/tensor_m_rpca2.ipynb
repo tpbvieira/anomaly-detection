{
  "nbformat": 4,
  "nbformat_minor": 0,
  "metadata": {
    "colab": {
      "name": "tensor_m-rpca",
      "provenance": [],
      "collapsed_sections": []
    },
    "kernelspec": {
      "display_name": "Python 3",
      "name": "python3"
    }
  },
  "cells": [
    {
      "cell_type": "code",
      "metadata": {
        "id": "tBYojbsQxGt0",
        "colab_type": "code",
        "outputId": "2ba17264-edd8-4c85-ecf6-46d477af1152",
        "colab": {
          "base_uri": "https://localhost:8080/",
          "height": 323
        }
      },
      "source": [
        "from __future__ import division\n",
        "from __future__ import print_function\n",
        "\n",
        "import os\n",
        "import sys\n",
        "import warnings\n",
        "warnings.filterwarnings(\"ignore\")\n",
        "import numpy as np\n",
        "import seaborn as sns\n",
        "import matplotlib.pyplot as plt\n",
        "import matplotlib.font_manager\n",
        "from scipy.stats import weibull_min\n",
        "from numpy import percentile\n",
        "!pip install pyod\n",
        "# Import all models\n",
        "from pyod.models.abod import ABOD\n",
        "from pyod.models.cblof import CBLOF\n",
        "from pyod.models.feature_bagging import FeatureBagging\n",
        "from pyod.models.hbos import HBOS\n",
        "from pyod.models.iforest import IForest\n",
        "from pyod.models.knn import KNN\n",
        "from pyod.models.lof import LOF\n",
        "from pyod.models.loci import LOCI\n",
        "from pyod.models.mcd import MCD\n",
        "from pyod.models.ocsvm import OCSVM\n",
        "from pyod.models.pca import PCA\n",
        "from pyod.models.sos import SOS\n",
        "from pyod.models.lscp import LSCP\n",
        "\n",
        "import pandas as pd\n",
        "from scipy import linalg\n",
        "from scipy.stats import skew, kurtosis\n",
        "from sklearn.metrics import pairwise_distances, f1_score\n",
        "!pip install tensorly\n",
        "from tensorly.decomposition.robust_decomposition import robust_pca\n",
        "\n",
        "from scipy.stats import skewnorm\n",
        "\n",
        "# temporary solution for relative imports in case pyod is not installed\n",
        "# if pyod is installed, no need to use the following line\n",
        "sys.path.append(\n",
        "    os.path.abspath(os.path.join(os.path.dirname(\"__file__\"), '..')))"
      ],
      "execution_count": 1,
      "outputs": [
        {
          "output_type": "stream",
          "text": [
            "Requirement already satisfied: pyod in /usr/local/lib/python3.6/dist-packages (0.7.5)\n",
            "Requirement already satisfied: six in /usr/local/lib/python3.6/dist-packages (from pyod) (1.12.0)\n",
            "Requirement already satisfied: numba>=0.35 in /usr/local/lib/python3.6/dist-packages (from pyod) (0.40.1)\n",
            "Requirement already satisfied: scikit-learn>=0.19.1 in /usr/local/lib/python3.6/dist-packages (from pyod) (0.21.3)\n",
            "Requirement already satisfied: numpy>=1.13 in /usr/local/lib/python3.6/dist-packages (from pyod) (1.17.3)\n",
            "Requirement already satisfied: joblib in /usr/local/lib/python3.6/dist-packages (from pyod) (0.14.0)\n",
            "Requirement already satisfied: scipy>=0.19.1 in /usr/local/lib/python3.6/dist-packages (from pyod) (1.3.1)\n",
            "Requirement already satisfied: matplotlib in /usr/local/lib/python3.6/dist-packages (from pyod) (3.1.1)\n",
            "Requirement already satisfied: llvmlite>=0.25.0dev0 in /usr/local/lib/python3.6/dist-packages (from numba>=0.35->pyod) (0.30.0)\n",
            "Requirement already satisfied: cycler>=0.10 in /usr/local/lib/python3.6/dist-packages (from matplotlib->pyod) (0.10.0)\n",
            "Requirement already satisfied: kiwisolver>=1.0.1 in /usr/local/lib/python3.6/dist-packages (from matplotlib->pyod) (1.1.0)\n",
            "Requirement already satisfied: pyparsing!=2.0.4,!=2.1.2,!=2.1.6,>=2.0.1 in /usr/local/lib/python3.6/dist-packages (from matplotlib->pyod) (2.4.2)\n",
            "Requirement already satisfied: python-dateutil>=2.1 in /usr/local/lib/python3.6/dist-packages (from matplotlib->pyod) (2.6.1)\n",
            "Requirement already satisfied: setuptools in /usr/local/lib/python3.6/dist-packages (from kiwisolver>=1.0.1->matplotlib->pyod) (41.4.0)\n",
            "Requirement already satisfied: tensorly in /usr/local/lib/python3.6/dist-packages (0.4.4)\n",
            "Requirement already satisfied: scipy in /usr/local/lib/python3.6/dist-packages (from tensorly) (1.3.1)\n",
            "Requirement already satisfied: nose in /usr/local/lib/python3.6/dist-packages (from tensorly) (1.3.7)\n",
            "Requirement already satisfied: numpy in /usr/local/lib/python3.6/dist-packages (from tensorly) (1.17.3)\n"
          ],
          "name": "stdout"
        }
      ]
    },
    {
      "cell_type": "code",
      "metadata": {
        "id": "s1Cw3e0fhJPH",
        "colab_type": "code",
        "colab": {}
      },
      "source": [
        "def fit_m_rpca(data, m_reg_J=1):\n",
        "    \"\"\"\n",
        "    Robust PCA based estimation of mean, covariance, skewness and kurtosis.\n",
        "    \n",
        "    :param data: MxN matrix with M observations and N features, where M>N \n",
        "    :param m_reg_J: regularization. Default value is 1\n",
        "    :return: \n",
        "        L: array-like, shape (m_obserations, n_features,)\n",
        "            Robust data\n",
        "        \n",
        "        rob_mean:\n",
        "        rob_cov:\n",
        "        rob_dist:\n",
        "        rob_precision:\n",
        "        rob_skew:\n",
        "        rob_skew_dist:\n",
        "        rob_kurt:\n",
        "        rob_kurt_dist:\n",
        "    \"\"\"\n",
        "\n",
        "    L, S = robust_pca(data, reg_J=m_reg_J)\n",
        "    rob_mean = L.mean(axis=0)\n",
        "    rob_cov = pd.DataFrame(L).cov()\n",
        "    rob_precision = linalg.pinvh(rob_cov)\n",
        "    rob_dist = (np.dot(L, rob_precision) * L).sum(axis=1)\n",
        "    rob_skew = skew(L, axis=0, bias=True)\n",
        "    rob_skew_dist = (np.dot(L - rob_skew, rob_precision) * (L - rob_skew)).sum(axis=1)\n",
        "    rob_kurt = kurtosis(L, axis=0, fisher=True, bias=True)\n",
        "    rob_kurt_dist = (np.dot(L - rob_kurt, rob_precision) * (L - rob_kurt)).sum(axis=1)\n",
        "\n",
        "    return L, rob_mean, rob_cov, rob_dist, rob_precision, rob_skew, rob_skew_dist, rob_kurt, rob_kurt_dist\n",
        "\n",
        "\n",
        "def cv_location_contamination(cv_df, cv_labels, location, precision):\n",
        "    \"\"\"\n",
        "\n",
        "    :param cv_df: cross-validation data frame\n",
        "    :param cv_labels: labels to evaluate prediction performance by contamination\n",
        "    :param location: mean vector\n",
        "    :param precision: inverse of covariance matrix\n",
        "    :return: For all tested contamination rates, returns the rate in which the best F1-score were achieved.\n",
        "    \"\"\"\n",
        "\n",
        "    contamination = round(0.00, 2)\n",
        "    contamination_prediction_list = []\n",
        "    labels = np.array(cv_labels)\n",
        "\n",
        "    for i in range(40):\n",
        "        contamination += 0.01\n",
        "        contamination = round(contamination, 2)\n",
        "        pred_label = predict_by_location_contamination(cv_df, location, precision, contamination)\n",
        "        contamination_prediction_list.append((contamination, f1_score(labels, pred_label, average=\"binary\")))\n",
        "\n",
        "    contamination_prediction_list.sort(key=lambda tup: tup[1], reverse=True)\n",
        "    contamination_best_f1 = contamination_prediction_list[0][0]\n",
        "\n",
        "    return contamination_best_f1\n",
        "\n",
        "\n",
        "def cv_location_threshold(cv_df, cv_labels, location, precision, dist):\n",
        "    \"\"\"\n",
        "\n",
        "    :param cv_df: cross-validation data frame\n",
        "    :param cv_labels: labels to evaluate prediction performance by contamination\n",
        "    :param location:\n",
        "    :param precision:\n",
        "    :return: For all tested contamination rates, returns the rate in which the best F1-score were achieved.\n",
        "    \"\"\"\n",
        "\n",
        "    threshold_prediction_list = []\n",
        "    labels = np.array(cv_labels)\n",
        "    min_dist = min(dist)\n",
        "    max_dist = max(dist)\n",
        "\n",
        "    for m_threshold in np.linspace(min_dist, max_dist, 40):\n",
        "        pred_label = predict_by_location_threshold(cv_df, location, precision, m_threshold)\n",
        "        threshold_prediction_list.append((m_threshold, f1_score(labels, pred_label, average=\"binary\")))\n",
        "\n",
        "    threshold_prediction_list.sort(key=lambda tup: tup[1], reverse=True)\n",
        "    best_threshold = threshold_prediction_list[0][0]\n",
        "\n",
        "    return best_threshold\n",
        "\n",
        "\n",
        "def cv_skewness_contamination(cv_df, cv_labels, skewness, precision):\n",
        "    \"\"\"\n",
        "\n",
        "    :param cv_df: cross-validation data frame\n",
        "    :param cv_labels: labels to evaluate prediction performance by contamination\n",
        "    :param skewness:\n",
        "    :param precision:\n",
        "    :return: For all tested contamination rates, returns the rate in which the best F1-score were achieved.\n",
        "    \"\"\"\n",
        "\n",
        "    contamination = round(0.00, 2)\n",
        "    contamination_prediction_list = []\n",
        "    actual_anomalies = np.array(cv_labels)\n",
        "    for i in range(40):\n",
        "        contamination += 0.01\n",
        "        contamination = round(contamination, 2)\n",
        "        pred_label = predict_by_skewness_contamination(cv_df, precision, skewness, contamination)\n",
        "        contamination_prediction_list.append((contamination, f1_score(actual_anomalies, pred_label, average=\"binary\")))\n",
        "\n",
        "    contamination_prediction_list.sort(key=lambda tup: tup[1], reverse=True)\n",
        "    best_contamination = contamination_prediction_list[0][0]\n",
        "\n",
        "    return best_contamination\n",
        "\n",
        "\n",
        "def cv_skewness_threshold(cv_df, cv_labels, skewness, precision, skew_dist):\n",
        "    \"\"\"\n",
        "\n",
        "    :param cv_df:\n",
        "    :param cv_labels: labels to evaluate prediction performance by contamination\n",
        "    :param skewness:\n",
        "    :param precision:\n",
        "    :param skew_dist:\n",
        "    :return:\n",
        "    \"\"\"\n",
        "\n",
        "    threshold_prediction_list = []\n",
        "    actual_anomalies = np.array(cv_labels)\n",
        "    min_dist = min(skew_dist)\n",
        "    max_dist = max(skew_dist)\n",
        "\n",
        "    for m_threshold in np.linspace(min_dist, max_dist, 40):\n",
        "        pred_label = predict_by_skewness_threshold(cv_df, precision, skewness, m_threshold)\n",
        "        threshold_prediction_list.append((m_threshold, f1_score(actual_anomalies, pred_label, average=\"binary\")))\n",
        "\n",
        "    threshold_prediction_list.sort(key=lambda tup: tup[1], reverse=True)\n",
        "    best_threshold = threshold_prediction_list[0][0]\n",
        "\n",
        "    return best_threshold\n",
        "\n",
        "\n",
        "def cv_kurtosis_contamination(cv_df, cv_labels, m_kurtosis, precision):\n",
        "    \"\"\"\n",
        "\n",
        "    :param df: cross-validation data frame\n",
        "    :param location:\n",
        "    :param precision:\n",
        "    :return: For all tested contamination rates, returns the rate in which the best F1-score were achieved.\n",
        "    \"\"\"\n",
        "\n",
        "    contamination = round(0.00, 2)\n",
        "    contamination_prediction_list = []\n",
        "    actual_anomalies = np.array(cv_labels)\n",
        "    for i in range(40):\n",
        "        contamination += 0.01\n",
        "        contamination = round(contamination, 2)\n",
        "        pred_label = predict_by_kurtosis_contamination(cv_df, precision, m_kurtosis, contamination)\n",
        "        contamination_prediction_list.append((contamination, f1_score(actual_anomalies, pred_label, average=\"binary\")))\n",
        "\n",
        "    contamination_prediction_list.sort(key=lambda tup: tup[1], reverse=True)\n",
        "    best_contamination = contamination_prediction_list[0][0]\n",
        "\n",
        "    return best_contamination\n",
        "\n",
        "\n",
        "def cv_kurtosis_threshold(cv_df, cv_labels, kurtosis, precision, kurt_dist):\n",
        "    \"\"\"\n",
        "\n",
        "    :param cv_df:\n",
        "    :param cv_labels: labels to evaluate prediction performance by contamination\n",
        "    :param kurtosis:\n",
        "    :param precision:\n",
        "    :param kurt_dist:\n",
        "    :return:\n",
        "    \"\"\"\n",
        "\n",
        "    threshold_prediction_list = []\n",
        "    actual_anomalies = np.array(cv_labels)\n",
        "    min_dist = min(kurt_dist)\n",
        "    max_dist = max(kurt_dist)\n",
        "\n",
        "    for m_threshold in np.linspace(min_dist, max_dist, 40):\n",
        "        pred_label = predict_by_kurtosis_threshold(cv_df, precision, kurtosis, m_threshold)\n",
        "        threshold_prediction_list.append((m_threshold, f1_score(actual_anomalies, pred_label, average=\"binary\")))\n",
        "\n",
        "    threshold_prediction_list.sort(key=lambda tup: tup[1], reverse=True)\n",
        "    best_threshold = threshold_prediction_list[0][0]\n",
        "\n",
        "    return best_threshold\n",
        "\n",
        "\n",
        "def md_rpca_prediction(test_df, location, precision, contamination):\n",
        "    \"\"\"\n",
        "\n",
        "    :param test_df:\n",
        "    :param location:\n",
        "    :param precision:\n",
        "    :param contamination:\n",
        "    :return:\n",
        "    \"\"\"\n",
        "\n",
        "    pred_label = np.full(test_df.shape[0], 0, dtype=int)\n",
        "    if contamination is not None:\n",
        "        # malhalanobis distance\n",
        "        mahal_dist = pairwise_distances(test_df, location[np.newaxis, :], metric='mahalanobis', VI=precision)\n",
        "        mahal_dist = np.reshape(mahal_dist, (len(test_df),)) ** 2  #MD squared\n",
        "        # detect outliers\n",
        "        contamination_threshold = np.percentile(mahal_dist,  100. * (1. - contamination))\n",
        "        pred_label[mahal_dist > contamination_threshold] = 1\n",
        "    else:\n",
        "        raise NotImplementedError(\"You must provide a contamination rate.\")\n",
        "\n",
        "    return pred_label, mahal_dist\n",
        "\n",
        "\n",
        "def predict_by_location_centered_contamination(X, location, precision, contamination):\n",
        "    \"\"\"\n",
        "\n",
        "    :param X:\n",
        "    :param location:\n",
        "    :param precision:\n",
        "    :param contamination:\n",
        "    :return:\n",
        "    \"\"\"\n",
        "\n",
        "    pred_label = np.full(X.shape[0], 0, dtype=int)\n",
        "    if contamination is not None:\n",
        "        # malhalanobis distance\n",
        "        X = X - location\n",
        "        mahal_dist = pairwise_distances(X, location[np.newaxis, :], metric='mahalanobis', VI=precision)\n",
        "        mahal_dist = np.reshape(mahal_dist, (len(X),)) ** 2  #MD squared\n",
        "        # detect outliers\n",
        "        contamination_threshold = np.percentile(mahal_dist,  100. * (1. - contamination))\n",
        "        pred_label[mahal_dist > contamination_threshold] = 1\n",
        "    else:\n",
        "        raise NotImplementedError(\"You must provide a contamination rate.\")\n",
        "\n",
        "    return pred_label\n",
        "\n",
        "\n",
        "def predict_by_location_threshold(X, location, precision, threshold):\n",
        "    \"\"\"\n",
        "\n",
        "    :param X:\n",
        "    :param location:\n",
        "    :param precision:\n",
        "    :param threshold:\n",
        "    :return:\n",
        "    \"\"\"\n",
        "\n",
        "    pred_label = np.full(X.shape[0], 0, dtype=int)\n",
        "\n",
        "    # malhalanobis distance\n",
        "    mahal_dist = pairwise_distances(X, location[np.newaxis, :], metric='mahalanobis', VI=precision)\n",
        "    mahal_dist = np.reshape(mahal_dist, (len(X),)) ** 2  #MD squared\n",
        "    # detect outliers\n",
        "    pred_label[mahal_dist > threshold] = 1\n",
        "\n",
        "    return pred_label\n",
        "\n",
        "\n",
        "def sd_rpca_prediction(X, skewness, precision, contamination):\n",
        "    \"\"\"\n",
        "\n",
        "    :param X:\n",
        "    :param precision:\n",
        "    :param skewness:\n",
        "    :param contamination:\n",
        "    :return:\n",
        "    \"\"\"\n",
        "\n",
        "    pred_label = np.full(X.shape[0], 0, dtype=int)\n",
        "\n",
        "    # malhalanobis distance\n",
        "    mahal_dist = pairwise_distances(X, skewness[np.newaxis, :], metric='mahalanobis', VI=precision)\n",
        "    mahal_dist = np.reshape(mahal_dist, (len(X),)) ** 2  # MD squared\n",
        "    pred_skew_dist = -mahal_dist\n",
        "\n",
        "    # detect outliers\n",
        "    contamination_threshold = np.percentile(pred_skew_dist, 100. * contamination)\n",
        "    pred_label[pred_skew_dist <= contamination_threshold] = 1\n",
        "\n",
        "    return pred_label, pred_skew_dist\n",
        "\n",
        "\n",
        "def predict_by_skewness_centered_contamination(X, precision, skewness, contamination):\n",
        "    \"\"\"\n",
        "\n",
        "    :param X:\n",
        "    :param precision:\n",
        "    :param skewness:\n",
        "    :param contamination:\n",
        "    :return:\n",
        "    \"\"\"\n",
        "\n",
        "    pred_label = np.full(X.shape[0], 0, dtype=int)\n",
        "\n",
        "    # skewness of the data\n",
        "    X_skew = X - skew(X, axis=0, bias=True)\n",
        "\n",
        "    # malhalanobis distance\n",
        "    mahal_dist = pairwise_distances(X_skew, skewness[np.newaxis, :], metric='mahalanobis', VI=precision)\n",
        "    mahal_dist = np.reshape(mahal_dist, (len(X_skew),)) ** 2 #MD squared\n",
        "    pred_skew_dist = -mahal_dist\n",
        "\n",
        "    # detect outliers\n",
        "    contamination_threshold = np.percentile(pred_skew_dist, 100. * contamination)\n",
        "    pred_label[pred_skew_dist <= contamination_threshold] = 1\n",
        "\n",
        "    return pred_label\n",
        "\n",
        "\n",
        "def predict_by_skewness_threshold(X, precision, skewness, threshold):\n",
        "    \"\"\"\n",
        "\n",
        "    :param X:\n",
        "    :param precision:\n",
        "    :param skewness:\n",
        "    :param threshold:\n",
        "    :return:\n",
        "    \"\"\"\n",
        "\n",
        "    pred_label = np.full(X.shape[0], 0, dtype=int)\n",
        "\n",
        "    # malhalanobis distance\n",
        "    mahal_dist = pairwise_distances(X, skewness[np.newaxis, :], metric='mahalanobis', VI=precision)\n",
        "    mahal_dist = np.reshape(mahal_dist, (len(X),)) ** 2  # MD squared\n",
        "    pred_skew_dist = -mahal_dist\n",
        "\n",
        "    # detect outliers\n",
        "    pred_label[pred_skew_dist <= threshold] = 1\n",
        "\n",
        "    return pred_label\n",
        "\n",
        "\n",
        "def predict_by_skewness_centered_threshold(X, precision, skewness, threshold):\n",
        "    \"\"\"\n",
        "\n",
        "    :param X:\n",
        "    :param precision:\n",
        "    :param skewness:\n",
        "    :param threshold:\n",
        "    :return:\n",
        "    \"\"\"\n",
        "\n",
        "    pred_label = np.full(X.shape[0], 0, dtype=int)\n",
        "\n",
        "    # skewness of the data\n",
        "    X_skew = X - skew(X, axis=0, bias=True)\n",
        "\n",
        "    # malhalanobis distance\n",
        "    mahal_dist = pairwise_distances(X_skew, skewness[np.newaxis, :], metric='mahalanobis', VI=precision)\n",
        "    mahal_dist = np.reshape(mahal_dist, (len(X_skew),)) ** 2  # MD squared\n",
        "    pred_skew_dist = -mahal_dist\n",
        "\n",
        "    # detect outliers\n",
        "    pred_label[pred_skew_dist <= threshold] = 1\n",
        "\n",
        "    return pred_label\n",
        "\n",
        "\n",
        "def kd_rpca_prediction(X, m_kurtosis, precision, contamination):\n",
        "    \"\"\"\n",
        "\n",
        "    :param X:\n",
        "    :param precision:\n",
        "    :param m_kurtosis\t:\n",
        "    :param contamination:\n",
        "    :return:\n",
        "    \"\"\"\n",
        "\n",
        "    pred_label = np.full(X.shape[0], 0, dtype=int)\n",
        "\n",
        "    # malhalanobis distance\n",
        "    mahal_dist = pairwise_distances(X, m_kurtosis[np.newaxis, :], metric='mahalanobis', VI=precision)\n",
        "    mahal_dist = np.reshape(mahal_dist, (len(X),)) ** 2  # MD squared\n",
        "    pred_kurt_dist = -mahal_dist\n",
        "\n",
        "    # detect outliers\n",
        "    contamination_threshold = np.percentile(pred_kurt_dist, 100. * contamination)\n",
        "    pred_label[pred_kurt_dist <= contamination_threshold] = 1\n",
        "\n",
        "    return pred_label, pred_kurt_dist\n",
        "\n",
        "\n",
        "def predict_by_kurtosis_centered_contamination(X, precision, m_kurtosis, contamination):\n",
        "    \"\"\"\n",
        "\n",
        "    :param X:\n",
        "    :param precision:\n",
        "    :param m_kurtosis\t:\n",
        "    :param contamination:\n",
        "    :return:\n",
        "    \"\"\"\n",
        "\n",
        "    pred_label = np.full(X.shape[0], 0, dtype=int)\n",
        "\n",
        "    # m_kurtosis\t of the data\n",
        "    X_kurt = X - kurtosis(X, axis=0, bias=True)\n",
        "\n",
        "    # malhalanobis distance\n",
        "    mahal_dist = pairwise_distances(X_kurt, m_kurtosis[np.newaxis, :], metric='mahalanobis', VI=precision)\n",
        "    mahal_dist = np.reshape(mahal_dist, (len(X_kurt),)) ** 2 #MD squared\n",
        "    pred_kurt_dist = -mahal_dist\n",
        "\n",
        "    # detect outliers\n",
        "    contamination_threshold = np.percentile(pred_kurt_dist, 100. * contamination)\n",
        "    pred_label[pred_kurt_dist <= contamination_threshold] = 1\n",
        "\n",
        "    return pred_label\n",
        "\n",
        "\n",
        "def predict_by_kurtosis_threshold(X, precision, m_kurtosis, threshold):\n",
        "    \"\"\"\n",
        "\n",
        "    :param X:\n",
        "    :param precision:\n",
        "    :param m_kurtosis\t:\n",
        "    :param threshold:\n",
        "    :return:\n",
        "    \"\"\"\n",
        "\n",
        "    pred_label = np.full(X.shape[0], 0, dtype=int)\n",
        "\n",
        "    # malhalanobis distance\n",
        "    mahal_dist = pairwise_distances(X, m_kurtosis[np.newaxis, :], metric='mahalanobis', VI=precision)\n",
        "    mahal_dist = np.reshape(mahal_dist, (len(X),)) ** 2  # MD squared\n",
        "    pred_kurt_dist = -mahal_dist\n",
        "\n",
        "    # detect outliers\n",
        "    pred_label[pred_kurt_dist <= threshold] = 1\n",
        "\n",
        "    return pred_label\n",
        "\n",
        "\n",
        "def predict_by_kurtosis_centered_threshold(X, precision, m_kurtosis, threshold):\n",
        "    \"\"\"\n",
        "\n",
        "    :param X:\n",
        "    :param precision:\n",
        "    :param m_kurtosis\t:\n",
        "    :param threshold:\n",
        "    :return:\n",
        "    \"\"\"\n",
        "\n",
        "    pred_label = np.full(X.shape[0], 0, dtype=int)\n",
        "\n",
        "    # m_kurtosis\t of the data\n",
        "    X_kurt = X - kurtosis(X, axis=0, bias=True)\n",
        "\n",
        "    # malhalanobis distance\n",
        "    mahal_dist = pairwise_distances(X_kurt, m_kurtosis[np.newaxis, :], metric='mahalanobis', VI=precision)\n",
        "    mahal_dist = np.reshape(mahal_dist, (len(X_kurt),)) ** 2  # MD squared\n",
        "    pred_kurt_dist = -mahal_dist\n",
        "\n",
        "    # detect outliers\n",
        "    pred_label[pred_kurt_dist <= threshold] = 1\n",
        "\n",
        "    return pred_label"
      ],
      "execution_count": 0,
      "outputs": []
    },
    {
      "cell_type": "markdown",
      "metadata": {
        "id": "aN9SRs3JUc0f",
        "colab_type": "text"
      },
      "source": [
        ""
      ]
    },
    {
      "cell_type": "code",
      "metadata": {
        "id": "EAVHk4xbxcEW",
        "colab_type": "code",
        "outputId": "2029993a-cb06-4bb6-f04d-bd87a947c061",
        "colab": {
          "base_uri": "https://localhost:8080/",
          "height": 85
        }
      },
      "source": [
        "# Define the number of inliers and outliers\n",
        "n_samples = 2400\n",
        "#outliers_fraction = 0.33\n",
        "#outliers_fraction = 0.25\n",
        "outliers_fraction = 0.10\n",
        "n_inliers = int((1. - outliers_fraction) * n_samples)\n",
        "n_outliers = int(n_samples - n_inliers)\n",
        "\n",
        "# result path\n",
        "result_path = 'output/synthetic/'\n",
        "\n",
        "# Initialize the data\n",
        "ground_truth = np.zeros(n_samples, dtype=int)\n",
        "ground_truth[-n_outliers:] = 1 #put outliers into the end\n",
        "\n",
        "# print the data shapes\n",
        "print('n_samples:', n_samples)\n",
        "print('n_inliers:', n_inliers)\n",
        "print('n_outliers:', n_outliers)\n",
        "print('ground_truth:', ground_truth.shape)"
      ],
      "execution_count": 3,
      "outputs": [
        {
          "output_type": "stream",
          "text": [
            "n_samples: 2400\n",
            "n_inliers: 2160\n",
            "n_outliers: 240\n",
            "ground_truth: (2400,)\n"
          ],
          "name": "stdout"
        }
      ]
    },
    {
      "cell_type": "code",
      "metadata": {
        "id": "E5bzTpumxf4k",
        "colab_type": "code",
        "outputId": "aa421227-50a7-4d14-a439-5a38977b5613",
        "colab": {
          "base_uri": "https://localhost:8080/",
          "height": 51
        }
      },
      "source": [
        "# Gaussian\n",
        "np.random.seed(11)\n",
        "X1 = 0.3 * np.random.randn(n_inliers, 2)\n",
        "X2 = 0.3 * np.random.randn(n_inliers, 2) \n",
        "Xgaussian = np.r_[X1, X2]\n",
        "Xgaussian_t = Xgaussian[:n_inliers]\n",
        "print('Xgaussian_t:', Xgaussian_t.shape)\n",
        "Xgaussian = Xgaussian[n_inliers:]\n",
        "print('Xgaussian:', Xgaussian.shape)"
      ],
      "execution_count": 4,
      "outputs": [
        {
          "output_type": "stream",
          "text": [
            "Xgaussian_t: (2160, 2)\n",
            "Xgaussian: (2160, 2)\n"
          ],
          "name": "stdout"
        }
      ]
    },
    {
      "cell_type": "code",
      "metadata": {
        "id": "gXIaS5sXlCBQ",
        "colab_type": "code",
        "outputId": "423b6844-dba2-4641-8b45-358329b7db73",
        "colab": {
          "base_uri": "https://localhost:8080/",
          "height": 34
        }
      },
      "source": [
        "# Append uniform outliers\n",
        "Cuniform = np.random.uniform(low=-6, high=6, size=(n_outliers, 2))\n",
        "Xgu = np.r_[Xgaussian,Cuniform]\n",
        "print('Xgu:', Xgu.shape)"
      ],
      "execution_count": 5,
      "outputs": [
        {
          "output_type": "stream",
          "text": [
            "Xgu: (2400, 2)\n"
          ],
          "name": "stdout"
        }
      ]
    },
    {
      "cell_type": "code",
      "metadata": {
        "id": "IJd7PChDlGCz",
        "colab_type": "code",
        "outputId": "63a4a167-4352-4fee-be80-0ecb0ceaf3e0",
        "colab": {
          "base_uri": "https://localhost:8080/",
          "height": 34
        }
      },
      "source": [
        "# Contaminated Gaussian\n",
        "Ctuniform = np.random.uniform(low=-6, high=6, size=(n_outliers, 2))\n",
        "Xgaussian_tc = np.r_[Xgaussian_t, Ctuniform]\n",
        "print('Xgaussian_tc:', Xgaussian_tc.shape)"
      ],
      "execution_count": 6,
      "outputs": [
        {
          "output_type": "stream",
          "text": [
            "Xgaussian_tc: (2400, 2)\n"
          ],
          "name": "stdout"
        }
      ]
    },
    {
      "cell_type": "code",
      "metadata": {
        "id": "N6ohR17Z6YF8",
        "colab_type": "code",
        "colab": {}
      },
      "source": [
        "# # Pareto distribution\n",
        "# np.random.seed(42)\n",
        "# a = 3.  # shape\n",
        "# m = 1.  # mode\n",
        "\n",
        "# p1 = (np.random.pareto(a, n_inliers) + 1) * m\n",
        "# p2 = (np.random.pareto(a, n_inliers) + 1) * m\n",
        "# Xpareto = np.vstack((p1,p2)).transpose()\n",
        "# print('Xpareto:', Xpareto.shape)\n",
        "\n",
        "# p1 = (np.random.pareto(a, n_inliers) + 1) * m\n",
        "# p2 = (np.random.pareto(a, n_inliers) + 1) * m\n",
        "# Xpareto_t = np.vstack((p1,p2)).transpose()\n",
        "# print('Xpareto_t:', Xpareto_t.shape)\n",
        "\n",
        "# # Add outliers\n",
        "# Cgaussian = 0.1 * np.random.randn(n_outliers, 2)\n",
        "# print('Cgaussian:', Cgaussian.shape)\n",
        "# Xpg = np.r_[Xpareto, Cgaussian]\n",
        "# print('Xpg:', Xpg.shape)\n",
        "\n",
        "# np.random.seed(42)\n",
        "# Ct = 0.1 * np.random.randn(n_outliers, 2)\n",
        "# Xpareto_tc = np.r_[Xpareto_t, Ct]\n",
        "\n",
        "# Xgaussian_t = Xpareto_t\n",
        "# Xgaussian_tc = Xpareto_tc\n",
        "# Xgu = Xpg"
      ],
      "execution_count": 0,
      "outputs": []
    },
    {
      "cell_type": "code",
      "metadata": {
        "id": "i5CAlFnHE2WT",
        "colab_type": "code",
        "outputId": "02d17109-ef84-4932-9f59-cc7f46f3d591",
        "colab": {
          "base_uri": "https://localhost:8080/",
          "height": 119
        }
      },
      "source": [
        "random_state = np.random.RandomState(42)\n",
        "\n",
        "# Define nine outlier detection tools to be compared\n",
        "classifiers = {\n",
        "    'Isolation Forest': IForest(contamination=outliers_fraction, random_state=random_state),\n",
        "    'K Nearest Neighbors (KNN)': KNN(contamination=outliers_fraction),\n",
        "    'Local Outlier Factor (LOF)': LOF(n_neighbors=35, contamination=outliers_fraction),\n",
        "    'Minimum Covariance Determinant (MCD)': MCD(contamination=outliers_fraction, random_state=random_state),\n",
        "    'One-class SVM (OCSVM)': OCSVM(contamination=outliers_fraction),\n",
        "    'Principal Component Analysis (PCA)': PCA(contamination=outliers_fraction, random_state=random_state),\n",
        "}\n",
        "\n",
        "for i, (clf_name, clf) in enumerate(classifiers.items()):    \n",
        "    # fit the data and tag outliers\n",
        "    clf.fit(Xgu)\n",
        "    scores_pred = clf.decision_function(Xgu) * -1\n",
        "    y_pred = clf.predict(Xgu)\n",
        "    threshold = percentile(scores_pred, 100 * outliers_fraction)    \n",
        "    f1 = f1_score(ground_truth, y_pred, average=\"binary\")\n",
        "    print(i + 1, 'fitting', clf_name, f1)"
      ],
      "execution_count": 8,
      "outputs": [
        {
          "output_type": "stream",
          "text": [
            "1 fitting Isolation Forest 0.9708333333333333\n",
            "2 fitting K Nearest Neighbors (KNN) 0.9727463312368972\n",
            "3 fitting Local Outlier Factor (LOF) 0.2923728813559322\n",
            "4 fitting Minimum Covariance Determinant (MCD) 0.975\n",
            "5 fitting One-class SVM (OCSVM) 0.975\n",
            "6 fitting Principal Component Analysis (PCA) 0.9291666666666667\n"
          ],
          "name": "stdout"
        }
      ]
    },
    {
      "cell_type": "code",
      "metadata": {
        "id": "lh0s9zTql8BV",
        "colab_type": "code",
        "outputId": "846613bf-b10c-4788-f870-99d142037be2",
        "colab": {
          "base_uri": "https://localhost:8080/",
          "height": 170
        }
      },
      "source": [
        "# Train\n",
        "r_L, r_mu, r_cov, r_dist, r_precision, r_skew, _, r_kurt, _ = fit_m_rpca(Xgaussian_t)\n",
        "# Testing md-rpca\n",
        "md_pred_label, md_pred_dist = md_rpca_prediction(Xgu, r_mu, r_precision, outliers_fraction)\n",
        "md_f1 = f1_score(ground_truth, md_pred_label, average=\"binary\")\n",
        "print('ss_md_rpca - F1: %f' % (md_f1))\n",
        "# Testing sd-rpca\n",
        "sd_pred_label, sd_pred_dist = sd_rpca_prediction(Xgu, r_skew, r_precision, outliers_fraction)\n",
        "sd_f1 = f1_score(ground_truth, sd_pred_label, average=\"binary\")\n",
        "print('ss_sd_rpca - F1: %f' % (sd_f1))\n",
        "# Testing kd-rpca\n",
        "kd_pred_label, kd_pred_dist = kd_rpca_prediction(Xgu, r_kurt, r_precision, outliers_fraction)\n",
        "kd_f1 = f1_score(ground_truth, kd_pred_label, average=\"binary\")\n",
        "print('ss_kd_rpca - F1: %f' % (kd_f1))\n",
        "\n",
        "# Train\n",
        "r_L, r_mu, r_cov, r_dist, r_precision, r_skew, _, r_kurt, _ = fit_m_rpca(Xgaussian_tc)\n",
        "# Testing md-rpca\n",
        "md_pred_label, md_pred_dist = md_rpca_prediction(Xgu, r_mu, r_precision, outliers_fraction)\n",
        "md_f1 = f1_score(ground_truth, md_pred_label, average=\"binary\")\n",
        "print('css_md_rpca - F1: %f' % (md_f1))\n",
        "# Testing sd-rpca\n",
        "sd_pred_label, sd_pred_dist = sd_rpca_prediction(Xgu, r_skew, r_precision, outliers_fraction)\n",
        "sd_f1 = f1_score(ground_truth, sd_pred_label, average=\"binary\")\n",
        "print('css_sd_rpca - F1: %f' % (sd_f1))\n",
        "# Testing kd-rpca\n",
        "kd_pred_label, kd_pred_dist = kd_rpca_prediction(Xgu, r_kurt, r_precision, outliers_fraction)\n",
        "kd_f1 = f1_score(ground_truth, kd_pred_label, average=\"binary\")\n",
        "print('css_kd_rpca - F1: %f' % (kd_f1))\n",
        "\n",
        "# Train\n",
        "r_L, r_mu, r_cov, r_dist, r_precision, r_skew, _, r_kurt, _ = fit_m_rpca(Xgu)\n",
        "# Testing md-rpca\n",
        "md_pred_label, md_pred_dist = md_rpca_prediction(Xgu, r_mu, r_precision, outliers_fraction)\n",
        "md_f1 = f1_score(ground_truth, md_pred_label, average=\"binary\")\n",
        "print('u_md_rpca - F1: %f' % (md_f1))\n",
        "# Testing sd-rpca\n",
        "sd_pred_label, sd_pred_dist = sd_rpca_prediction(Xgu, r_skew, r_precision, outliers_fraction)\n",
        "sd_f1 = f1_score(ground_truth, sd_pred_label, average=\"binary\")\n",
        "print('u_sd_rpca - F1: %f' % (sd_f1))\n",
        "# Testing kd-rpca\n",
        "kd_pred_label, kd_pred_dist = kd_rpca_prediction(Xgu, r_kurt, r_precision, outliers_fraction)\n",
        "kd_f1 = f1_score(ground_truth, kd_pred_label, average=\"binary\")\n",
        "print('u_kd_rpca - F1: %f' % (kd_f1))"
      ],
      "execution_count": 9,
      "outputs": [
        {
          "output_type": "stream",
          "text": [
            "ss_md_rpca - F1: 0.975000\n",
            "ss_sd_rpca - F1: 0.975000\n",
            "ss_kd_rpca - F1: 0.970833\n",
            "css_md_rpca - F1: 0.975000\n",
            "css_sd_rpca - F1: 0.962500\n",
            "css_kd_rpca - F1: 0.487500\n",
            "u_md_rpca - F1: 0.975000\n",
            "u_sd_rpca - F1: 0.970833\n",
            "u_kd_rpca - F1: 0.504167\n"
          ],
          "name": "stdout"
        }
      ]
    },
    {
      "cell_type": "code",
      "metadata": {
        "id": "IDepKtRJy3oj",
        "colab_type": "code",
        "colab": {}
      },
      "source": [
        "from tensorly import fold, unfold\n",
        "\n",
        "def fit_t_m_rpca(tensor, m_reg_J=1):\n",
        "\n",
        "    L, S = robust_pca(tensor, reg_J=m_reg_J)\n",
        "    L = unfold(L.T, 1)\n",
        "    L = L.T\n",
        "\n",
        "    rob_mean = L.mean(axis=0)\n",
        "    rob_cov = pd.DataFrame(L).cov()\n",
        "    rob_precision = linalg.pinvh(rob_cov)\n",
        "    rob_dist = (np.dot(L, rob_precision) * L).sum(axis=1)\n",
        "\n",
        "    rob_skew = skew(L, axis=0, bias=True)\n",
        "    rob_skew_dist = (np.dot(L - rob_skew, rob_precision) * (L - rob_skew)).sum(axis=1)\n",
        "\n",
        "    rob_kurt = kurtosis(L, axis=0, fisher=True, bias=True)\n",
        "    rob_kurt_dist = (np.dot(L - rob_kurt, rob_precision) * (L - rob_kurt)).sum(axis=1)\n",
        "\n",
        "    return L, rob_mean, rob_cov, rob_dist, rob_precision, rob_skew, rob_skew_dist, rob_kurt, rob_kurt_dist\n",
        "\n",
        "import warnings\n",
        "import types\n",
        "import sys\n",
        "import numpy.core.numeric as _nx\n",
        "from numpy.core import linspace\n",
        "from numpy.core.numeric import ones, zeros, arange, concatenate, array, \\\n",
        "        asarray, asanyarray, empty, empty_like, ndarray, around\n",
        "from numpy.core.numeric import ScalarType, dot, where, newaxis, intp, \\\n",
        "        integer, isscalar\n",
        "from numpy.core.umath import pi, multiply, add, arctan2,  \\\n",
        "        frompyfunc, isnan, cos, less_equal, sqrt, sin, mod, exp, log10\n",
        "from numpy.core.fromnumeric import ravel, nonzero, choose, sort, partition, mean\n",
        "from numpy.core.numerictypes import typecodes, number\n",
        "from numpy.core import atleast_1d, atleast_2d\n",
        "from numpy.lib.twodim_base import diag\n",
        "import numpy as np\n",
        "import collections\n",
        "from numpy.compat import long\n",
        "\n",
        "def npcov(m, y=None, rowvar=1, bias=0, ddof=None):\n",
        "    \"\"\"\n",
        "    Estimate a covariance matrix, given data.\n",
        "    Covariance indicates the level to which two variables vary together.\n",
        "    If we examine N-dimensional samples, :math:`X = [x_1, x_2, ... x_N]^T`,\n",
        "    then the covariance matrix element :math:`C_{ij}` is the covariance of\n",
        "    :math:`x_i` and :math:`x_j`. The element :math:`C_{ii}` is the variance\n",
        "    of :math:`x_i`.\n",
        "    Parameters\n",
        "    ----------\n",
        "    m : array_like\n",
        "        A 1-D or 2-D array containing multiple variables and observations.\n",
        "        Each row of `m` represents a variable, and each column a single\n",
        "        observation of all those variables. Also see `rowvar` below.\n",
        "    y : array_like, optional\n",
        "        An additional set of variables and observations. `y` has the same\n",
        "        form as that of `m`.\n",
        "    rowvar : int, optional\n",
        "        If `rowvar` is non-zero (default), then each row represents a\n",
        "        variable, with observations in the columns. Otherwise, the relationship\n",
        "        is transposed: each column represents a variable, while the rows\n",
        "        contain observations.\n",
        "    bias : int, optional\n",
        "        Default normalization is by ``(N - 1)``, where ``N`` is the number of\n",
        "        observations given (unbiased estimate). If `bias` is 1, then\n",
        "        normalization is by ``N``. These values can be overridden by using\n",
        "        the keyword ``ddof`` in numpy versions >= 1.5.\n",
        "    ddof : int, optional\n",
        "        .. versionadded:: 1.5\n",
        "        If not ``None`` normalization is by ``(N - ddof)``, where ``N`` is\n",
        "        the number of observations; this overrides the value implied by\n",
        "        ``bias``. The default value is ``None``.\n",
        "    Returns\n",
        "    -------\n",
        "    out : ndarray\n",
        "        The covariance matrix of the variables.\n",
        "    See Also\n",
        "    --------\n",
        "    corrcoef : Normalized covariance matrix\n",
        "    Examples\n",
        "    --------\n",
        "    Consider two variables, :math:`x_0` and :math:`x_1`, which\n",
        "    correlate perfectly, but in opposite directions:\n",
        "    >>> x = np.array([[0, 2], [1, 1], [2, 0]]).T\n",
        "    >>> x\n",
        "    array([[0, 1, 2],\n",
        "           [2, 1, 0]])\n",
        "    Note how :math:`x_0` increases while :math:`x_1` decreases. The covariance\n",
        "    matrix shows this clearly:\n",
        "    >>> np.cov(x)\n",
        "    array([[ 1., -1.],\n",
        "           [-1.,  1.]])\n",
        "    Note that element :math:`C_{0,1}`, which shows the correlation between\n",
        "    :math:`x_0` and :math:`x_1`, is negative.\n",
        "    Further, note how `x` and `y` are combined:\n",
        "    >>> x = [-2.1, -1,  4.3]\n",
        "    >>> y = [3,  1.1,  0.12]\n",
        "    >>> X = np.vstack((x,y))\n",
        "    >>> print np.cov(X)\n",
        "    [[ 11.71        -4.286     ]\n",
        "     [ -4.286        2.14413333]]\n",
        "    >>> print np.cov(x, y)\n",
        "    [[ 11.71        -4.286     ]\n",
        "     [ -4.286        2.14413333]]\n",
        "    >>> print np.cov(x)\n",
        "    11.71\n",
        "    \"\"\"\n",
        "    # Check inputs\n",
        "    if ddof is not None and ddof != int(ddof):\n",
        "        raise ValueError(\"ddof must be integer\")\n",
        "\n",
        "    X = np.array(m, ndmin=2, dtype=float)\n",
        "\n",
        "    if X.size == 0:\n",
        "        # handle empty arrays\n",
        "        return np.array(m)\n",
        "\n",
        "    if X.shape[0] == 1:\n",
        "        rowvar = 1\n",
        "\n",
        "    if rowvar:\n",
        "        axis = 0\n",
        "        tup = (slice(None), newaxis)\n",
        "    else:\n",
        "        axis = 1\n",
        "        tup = (newaxis, slice(None))\n",
        "\n",
        "    if y is not None:\n",
        "        y = array(y, copy=False, ndmin=2, dtype=float)\n",
        "        X = concatenate((X, y), axis)\n",
        "\n",
        "    X -= X.mean(axis=1-axis)[tup]\n",
        "\n",
        "    if rowvar:\n",
        "        N = X.shape[1]\n",
        "    else:\n",
        "        N = X.shape[0]\n",
        "\n",
        "    if ddof is None:\n",
        "        if bias == 0:\n",
        "            ddof = 1\n",
        "        else:\n",
        "            ddof = 0\n",
        "\n",
        "    fact = float(N - ddof)\n",
        "\n",
        "    if not rowvar:\n",
        "        return (dot(X.T, X.conj()) / fact).squeeze()\n",
        "    else:\n",
        "        return (dot(X, X.T.conj()) / fact).squeeze()"
      ],
      "execution_count": 0,
      "outputs": []
    },
    {
      "cell_type": "code",
      "metadata": {
        "id": "S6Z0v58f_gFa",
        "colab_type": "code",
        "colab": {
          "base_uri": "https://localhost:8080/",
          "height": 68
        },
        "outputId": "7d715a1f-5961-45e2-fd22-88b69d4df305"
      },
      "source": [
        "from tensorly import fold\n",
        "\n",
        "t_Xgaussian_t = fold(Xgaussian_t, 2, (54,2,40))\n",
        "print('Xgaussian_t:', Xgaussian_t.shape, t_Xgaussian_t.shape)\n",
        "\n",
        "t_Xgaussian_tc = fold(Xgaussian_tc, 2, (60,2,40))\n",
        "print('t_Xgaussian_tc:', Xgaussian_tc.shape, t_Xgaussian_tc.shape)\n",
        "\n",
        "t_Xgu = fold(Xgu, 2, (60,2,40))\n",
        "print('t_Xgu:', Xgu.shape, t_Xgu.shape)"
      ],
      "execution_count": 11,
      "outputs": [
        {
          "output_type": "stream",
          "text": [
            "Xgaussian_t: (2160, 2) (54, 2, 40)\n",
            "t_Xgaussian_tc: (2400, 2) (60, 2, 40)\n",
            "t_Xgu: (2400, 2) (60, 2, 40)\n"
          ],
          "name": "stdout"
        }
      ]
    },
    {
      "cell_type": "code",
      "metadata": {
        "id": "UPk4GJx7pqEj",
        "colab_type": "code",
        "outputId": "97b1689c-4950-47c9-e7c8-f54be4e1d491",
        "colab": {
          "base_uri": "https://localhost:8080/",
          "height": 170
        }
      },
      "source": [
        "# Train\n",
        "r_L, r_mu, r_cov, r_dist, r_precision, r_skew, _, r_kurt, _ = fit_t_m_rpca(t_Xgaussian_t, m_reg_J=0.1)\n",
        "# Testing md-rpca\n",
        "md_pred_label, md_pred_dist = md_rpca_prediction(Xgu, r_mu, r_precision, outliers_fraction)\n",
        "md_f1 = f1_score(ground_truth, md_pred_label, average=\"binary\")\n",
        "print('ss_md_rpca - F1: %f' % (md_f1))\n",
        "# Testing sd-rpca\n",
        "sd_pred_label, sd_pred_dist = sd_rpca_prediction(Xgu, r_skew, r_precision, outliers_fraction)\n",
        "sd_f1 = f1_score(ground_truth, sd_pred_label, average=\"binary\")\n",
        "print('ss_sd_rpca - F1: %f' % (sd_f1))\n",
        "# Testing kd-rpca\n",
        "kd_pred_label, kd_pred_dist = kd_rpca_prediction(Xgu, r_kurt, r_precision, outliers_fraction)\n",
        "kd_f1 = f1_score(ground_truth, kd_pred_label, average=\"binary\")\n",
        "print('ss_kd_rpca - F1: %f' % (kd_f1))\n",
        "\n",
        "# Train\n",
        "r_L, r_mu, r_cov, r_dist, r_precision, r_skew, _, r_kurt, _ = fit_t_m_rpca(t_Xgaussian_tc, m_reg_J=0.01)\n",
        "# Testing md-rpca\n",
        "md_pred_label, md_pred_dist = md_rpca_prediction(Xgu, r_mu, r_precision, outliers_fraction)\n",
        "md_f1 = f1_score(ground_truth, md_pred_label, average=\"binary\")\n",
        "print('css_md_rpca - F1: %f' % (md_f1))\n",
        "# Testing sd-rpca\n",
        "sd_pred_label, sd_pred_dist = sd_rpca_prediction(Xgu, r_skew, r_precision, outliers_fraction)\n",
        "sd_f1 = f1_score(ground_truth, sd_pred_label, average=\"binary\")\n",
        "print('css_sd_rpca - F1: %f' % (sd_f1))\n",
        "# Testing kd-rpca\n",
        "kd_pred_label, kd_pred_dist = kd_rpca_prediction(Xgu, r_kurt, r_precision, outliers_fraction)\n",
        "kd_f1 = f1_score(ground_truth, kd_pred_label, average=\"binary\")\n",
        "print('css_kd_rpca - F1: %f' % (kd_f1))\n",
        "\n",
        "# Train\n",
        "r_L, r_mu, r_cov, r_dist, r_precision, r_skew, _, r_kurt, _ = fit_t_m_rpca(t_Xgu, m_reg_J=0.5)\n",
        "# Testing md-rpca\n",
        "md_pred_label, md_pred_dist = md_rpca_prediction(Xgu, r_mu, r_precision, outliers_fraction)\n",
        "md_f1 = f1_score(ground_truth, md_pred_label, average=\"binary\")\n",
        "print('u_md_rpca - F1: %f' % (md_f1))\n",
        "# Testing sd-rpca\n",
        "sd_pred_label, sd_pred_dist = sd_rpca_prediction(Xgu, r_skew, r_precision, outliers_fraction)\n",
        "sd_f1 = f1_score(ground_truth, sd_pred_label, average=\"binary\")\n",
        "print('u_sd_rpca - F1: %f' % (sd_f1))\n",
        "# Testing kd-rpca\n",
        "kd_pred_label, kd_pred_dist = kd_rpca_prediction(Xgu, r_kurt, r_precision, outliers_fraction)\n",
        "kd_f1 = f1_score(ground_truth, kd_pred_label, average=\"binary\")\n",
        "print('u_kd_rpca - F1: %f' % (kd_f1))"
      ],
      "execution_count": 12,
      "outputs": [
        {
          "output_type": "stream",
          "text": [
            "ss_md_rpca - F1: 0.975000\n",
            "ss_sd_rpca - F1: 0.975000\n",
            "ss_kd_rpca - F1: 0.970833\n",
            "css_md_rpca - F1: 0.975000\n",
            "css_sd_rpca - F1: 0.962500\n",
            "css_kd_rpca - F1: 0.487500\n",
            "u_md_rpca - F1: 0.975000\n",
            "u_sd_rpca - F1: 0.970833\n",
            "u_kd_rpca - F1: 0.504167\n"
          ],
          "name": "stdout"
        }
      ]
    },
    {
      "cell_type": "code",
      "metadata": {
        "id": "ndm8TXNVgcxu",
        "colab_type": "code",
        "outputId": "9a98f036-4974-4e25-c5b7-6989a002818a",
        "colab": {
          "base_uri": "https://localhost:8080/",
          "height": 500
        }
      },
      "source": [
        "X = Xgu\n",
        "# X = Xgaussian_t\n",
        "# X = Xgaussian_tc\n",
        "%matplotlib inline\n",
        "plt.style.use('ggplot')\n",
        "plt.rcParams['figure.figsize'] = (12, 8)\n",
        "plt.scatter(X[:, 0], X[:, 1])\n",
        "plt.title('Generated Data')\n",
        "plt.axis('equal');"
      ],
      "execution_count": 33,
      "outputs": [
        {
          "output_type": "display_data",
          "data": {
            "image/png": "[encoded data removed]",
            "text/plain": [
              "<Figure size 864x576 with 1 Axes>"
            ]
          },
          "metadata": {
            "tags": []
          }
        }
      ]
    },
    {
      "cell_type": "code",
      "metadata": {
        "id": "B0Lt6GpLgNtt",
        "colab_type": "code",
        "colab": {}
      },
      "source": [
        "# Covariance\n",
        "def cov(x, y):\n",
        "    xbar, ybar = x.mean(), y.mean()\n",
        "    return np.sum((x - xbar)*(y - ybar))/(len(x) - 1)\n",
        "\n",
        "# Covariance matrix\n",
        "def cov_mat(X):\n",
        "    return np.array([[cov(X[0], X[0]), cov(X[0], X[1])], \\\n",
        "                     [cov(X[1], X[0]), cov(X[1], X[1])]])"
      ],
      "execution_count": 0,
      "outputs": []
    },
    {
      "cell_type": "code",
      "metadata": {
        "id": "U9acFlSAJMYN",
        "colab_type": "code",
        "colab": {}
      },
      "source": [
        "print('Xgu:', Xgu.shape)\n",
        "print('t_Xgu:', t_Xgu.shape)\n",
        "print('1-t_Xgu:', unfold(t_Xgu, 0).shape)\n",
        "print('2-t_Xgu:', unfold(t_Xgu, 1).shape)\n",
        "print('3-t_Xgu:', unfold(t_Xgu, 2).shape)"
      ],
      "execution_count": 0,
      "outputs": []
    },
    {
      "cell_type": "code",
      "metadata": {
        "id": "vOBNmOvzFNXk",
        "colab_type": "code",
        "colab": {
          "base_uri": "https://localhost:8080/",
          "height": 51
        },
        "outputId": "55de4919-dfad-4aee-97d0-4711514dd26e"
      },
      "source": [
        "cov_mat(Xgu.T)"
      ],
      "execution_count": 37,
      "outputs": [
        {
          "output_type": "execute_result",
          "data": {
            "text/plain": [
              "array([[ 1.29461387, -0.07977427],\n",
              "       [-0.07977427,  1.28388689]])"
            ]
          },
          "metadata": {
            "tags": []
          },
          "execution_count": 37
        }
      ]
    },
    {
      "cell_type": "code",
      "metadata": {
        "id": "wLZhmm14FRyi",
        "colab_type": "code",
        "colab": {
          "base_uri": "https://localhost:8080/",
          "height": 51
        },
        "outputId": "5d54c236-203a-4986-b4ce-b61ddd3c658e"
      },
      "source": [
        "npcov(Xgu.T)"
      ],
      "execution_count": 38,
      "outputs": [
        {
          "output_type": "execute_result",
          "data": {
            "text/plain": [
              "array([[ 1.29461387, -0.07977427],\n",
              "       [-0.07977427,  1.28388689]])"
            ]
          },
          "metadata": {
            "tags": []
          },
          "execution_count": 38
        }
      ]
    },
    {
      "cell_type": "code",
      "metadata": {
        "id": "CZ4B7LtciFpm",
        "colab_type": "code",
        "outputId": "e47f7a82-11cc-4480-ce1c-eeec159d1d2d",
        "colab": {
          "base_uri": "https://localhost:8080/",
          "height": 51
        }
      },
      "source": [
        "np.cov(Xgu.T)"
      ],
      "execution_count": 39,
      "outputs": [
        {
          "output_type": "execute_result",
          "data": {
            "text/plain": [
              "array([[ 1.29461387, -0.07977427],\n",
              "       [-0.07977427,  1.28388689]])"
            ]
          },
          "metadata": {
            "tags": []
          },
          "execution_count": 39
        }
      ]
    },
    {
      "cell_type": "code",
      "metadata": {
        "id": "VdczVDqOOXF9",
        "colab_type": "code",
        "colab": {
          "base_uri": "https://localhost:8080/",
          "height": 111
        },
        "outputId": "277d4359-0265-4e74-e124-17534072f360"
      },
      "source": [
        "pd.DataFrame(Xgu).cov()"
      ],
      "execution_count": 62,
      "outputs": [
        {
          "output_type": "execute_result",
          "data": {
            "text/html": [
              "<div>\n",
              "<style scoped>\n",
              "    .dataframe tbody tr th:only-of-type {\n",
              "        vertical-align: middle;\n",
              "    }\n",
              "\n",
              "    .dataframe tbody tr th {\n",
              "        vertical-align: top;\n",
              "    }\n",
              "\n",
              "    .dataframe thead th {\n",
              "        text-align: right;\n",
              "    }\n",
              "</style>\n",
              "<table border=\"1\" class=\"dataframe\">\n",
              "  <thead>\n",
              "    <tr style=\"text-align: right;\">\n",
              "      <th></th>\n",
              "      <th>0</th>\n",
              "      <th>1</th>\n",
              "    </tr>\n",
              "  </thead>\n",
              "  <tbody>\n",
              "    <tr>\n",
              "      <th>0</th>\n",
              "      <td>1.294614</td>\n",
              "      <td>-0.079774</td>\n",
              "    </tr>\n",
              "    <tr>\n",
              "      <th>1</th>\n",
              "      <td>-0.079774</td>\n",
              "      <td>1.283887</td>\n",
              "    </tr>\n",
              "  </tbody>\n",
              "</table>\n",
              "</div>"
            ],
            "text/plain": [
              "          0         1\n",
              "0  1.294614 -0.079774\n",
              "1 -0.079774  1.283887"
            ]
          },
          "metadata": {
            "tags": []
          },
          "execution_count": 62
        }
      ]
    },
    {
      "cell_type": "code",
      "metadata": {
        "id": "mitshIblkTEo",
        "colab_type": "code",
        "outputId": "47f0e093-71fc-4610-b8fd-e90a1e474abc",
        "colab": {
          "base_uri": "https://localhost:8080/",
          "height": 51
        }
      },
      "source": [
        "Xgu_mu = np.mean(Xgu, axis=0)\n",
        "Xbar = Xgu - Xgu_mu\n",
        "# print('Xgu:', Xgu)\n",
        "# print('Xgu_mu:', Xgu_mu)\n",
        "# print('Xbar:', Xbar)\n",
        "Xhat = (np.dot(Xbar.T, Xbar))/(2-1)\n",
        "Xhat.squeeze()"
      ],
      "execution_count": 60,
      "outputs": [
        {
          "output_type": "execute_result",
          "data": {
            "text/plain": [
              "array([[3105.77868085, -191.37846378],\n",
              "       [-191.37846378, 3080.04464097]])"
            ]
          },
          "metadata": {
            "tags": []
          },
          "execution_count": 60
        }
      ]
    },
    {
      "cell_type": "code",
      "metadata": {
        "id": "7MaDiswAl4wF",
        "colab_type": "code",
        "outputId": "49599ba9-7fe6-4c9b-987d-56e274d1e050",
        "colab": {
          "base_uri": "https://localhost:8080/",
          "height": 34
        }
      },
      "source": [
        "skew(Xgu, axis=0, bias=True)"
      ],
      "execution_count": 68,
      "outputs": [
        {
          "output_type": "execute_result",
          "data": {
            "text/plain": [
              "array([ 0.2480918 , -0.30349916])"
            ]
          },
          "metadata": {
            "tags": []
          },
          "execution_count": 68
        }
      ]
    },
    {
      "cell_type": "code",
      "metadata": {
        "id": "aa9pAxYmDenZ",
        "colab_type": "code",
        "colab": {
          "base_uri": "https://localhost:8080/",
          "height": 34
        },
        "outputId": "71708cf7-6356-45b4-d070-f64b29d585d4"
      },
      "source": [
        "kurtosis(Xgu, axis=0, bias=True)"
      ],
      "execution_count": 67,
      "outputs": [
        {
          "output_type": "execute_result",
          "data": {
            "text/plain": [
              "array([12.55094211, 13.0871958 ])"
            ]
          },
          "metadata": {
            "tags": []
          },
          "execution_count": 67
        }
      ]
    }
  ]
}
{
 "cells": [
  {
   "cell_type": "code",
   "execution_count": 1,
   "metadata": {},
   "outputs": [
    {
     "name": "stderr",
     "output_type": "stream",
     "text": [
      "Using TensorFlow backend.\n"
     ]
    }
   ],
   "source": [
    "from main import train_and_test_with, train_with_tensorflow\n",
    "from utils import *\n",
    "\n",
    "binet_files = get_binetflow_files()\n",
    "\n",
    "\n",
    "def run_analysis_on_bot(bot, alg, interval):\n",
    "    \"\"\" Check how well we can be detection by bots \"\"\"\n",
    "    \n",
    "    all_summaries = []\n",
    "\n",
    "    # Gather all files that has this bot into one single array\n",
    "    bot_files = get_files_with_bot(bot)\n",
    "    for index in bot_files:        \n",
    "        bot_file = binet_files[index]\n",
    "        time = get_start_time_for(bot_file)\n",
    "        all_summaries += get_saved_data(interval, bot_file)\n",
    "    \n",
    "    features, labels = get_feature_labels(all_summaries)\n",
    "    \n",
    "    if alg == 'tf':\n",
    "        results = {'f1_score': train_with_tensorflow(features, labels)}\n",
    "    else:\n",
    "        results = train_and_test_with(features, labels, alg)\n",
    "    \n",
    "    for key, value in results.items():\n",
    "        print(\"%s \\t\\t= %s\" % (key, value))\n"
   ]
  },
  {
   "cell_type": "markdown",
   "metadata": {},
   "source": [
    "# Detecting Bots\n",
    "\n",
    "Code below shows analysis on detecting various bots. Change the interval and machine learning algorithm to see how well each algorithm does. \n",
    "\n",
    "I left them on what I've found to be best algorithm for each but feel free to double check.\n",
    "\n",
    "dt = Decision Tree\n",
    "\n",
    "rf = Random Forest\n",
    "\n",
    "tf = Tensorflow"
   ]
  },
  {
   "cell_type": "code",
   "execution_count": 2,
   "metadata": {},
   "outputs": [
    {
     "name": "stdout",
     "output_type": "stream",
     "text": [
      "saved_data/saved_1s_11.pk1\n",
      "saved_data/saved_1s_12.pk1\n",
      "saved_data/saved_1s_18.pk1\n",
      "recall \t\t= 0.7118579773917002\n",
      "precision \t\t= 0.7172450695612291\n",
      "f1 score \t\t= 0.7145413699881963\n",
      "attacks \t\t= 26345\n",
      "normal count \t\t= 245012\n",
      "training size \t\t= 135678\n",
      "1 \t\t= 13164, 13181\n",
      "0 \t\t= 122514, 122498\n"
     ]
    }
   ],
   "source": [
    "run_analysis_on_bot('Neris', 'dt', 1)\n"
   ]
  },
  {
   "cell_type": "code",
   "execution_count": 3,
   "metadata": {},
   "outputs": [
    {
     "name": "stdout",
     "output_type": "stream",
     "text": [
      "saved_data/saved_1s_15.pk1\n",
      "saved_data/saved_1s_15-2.pk1\n",
      "saved_data/saved_1s_18-2.pk1\n",
      "saved_data/saved_1s_19.pk1\n",
      "recall \t\t= 0.08209606986899563\n",
      "precision \t\t= 0.7580645161290323\n",
      "f1 score \t\t= 0.14814814814814814\n",
      "attacks \t\t= 2303\n",
      "normal count \t\t= 19829\n",
      "training size \t\t= 11066\n",
      "1 \t\t= 1158, 1145\n",
      "0 \t\t= 9908, 9921\n"
     ]
    }
   ],
   "source": [
    "run_analysis_on_bot('Rbot', 'rf', 1)\n"
   ]
  },
  {
   "cell_type": "code",
   "execution_count": 4,
   "metadata": {},
   "outputs": [
    {
     "name": "stdout",
     "output_type": "stream",
     "text": [
      "saved_data/saved_1s_16.pk1\n",
      "saved_data/saved_1s_17.pk1\n",
      "recall \t\t= 0.8701942132382084\n",
      "precision \t\t= 0.9772980191408859\n",
      "f1 score \t\t= 0.9206415766851871\n",
      "attacks \t\t= 10133\n",
      "normal count \t\t= 16137\n",
      "training size \t\t= 13135\n",
      "1 \t\t= 5087, 5046\n",
      "0 \t\t= 8048, 8089\n"
     ]
    }
   ],
   "source": [
    "run_analysis_on_bot('Virut', 'rf', 1)\n"
   ]
  },
  {
   "cell_type": "code",
   "execution_count": 5,
   "metadata": {},
   "outputs": [
    {
     "name": "stdout",
     "output_type": "stream",
     "text": [
      "saved_data/saved_1s_16-2.pk1\n",
      "recall \t\t= 0.0\n",
      "precision \t\t= 0.0\n",
      "f1 score \t\t= 0.0\n",
      "attacks \t\t= 23\n",
      "normal count \t\t= 1216\n",
      "training size \t\t= 619\n",
      "1 \t\t= 11, 12\n",
      "0 \t\t= 608, 608\n"
     ]
    },
    {
     "name": "stderr",
     "output_type": "stream",
     "text": [
      "/usr/local/lib/python3.6/dist-packages/sklearn/metrics/classification.py:1143: UndefinedMetricWarning: Precision is ill-defined and being set to 0.0 due to no predicted samples.\n",
      "  'precision', 'predicted', average, warn_for)\n",
      "/usr/local/lib/python3.6/dist-packages/sklearn/metrics/classification.py:1143: UndefinedMetricWarning: F-score is ill-defined and being set to 0.0 due to no predicted samples.\n",
      "  'precision', 'predicted', average, warn_for)\n"
     ]
    }
   ],
   "source": [
    "run_analysis_on_bot('Menti', 'rf', 1)\n"
   ]
  },
  {
   "cell_type": "code",
   "execution_count": 6,
   "metadata": {},
   "outputs": [
    {
     "name": "stdout",
     "output_type": "stream",
     "text": [
      "saved_data/saved_1s_16-3.pk1\n",
      "WARNING:tensorflow:From /usr/local/lib/python3.6/dist-packages/tensorflow/python/framework/op_def_library.py:263: colocate_with (from tensorflow.python.framework.ops) is deprecated and will be removed in a future version.\n",
      "Instructions for updating:\n",
      "Colocations handled automatically by placer.\n",
      "WARNING:tensorflow:From /home/thiago/dev/anomaly-detection/network-attack-detection/BinetflowTrainer-master/main.py:154: softmax_cross_entropy_with_logits (from tensorflow.python.ops.nn_ops) is deprecated and will be removed in a future version.\n",
      "Instructions for updating:\n",
      "\n",
      "Future major versions of TensorFlow will allow gradients to flow\n",
      "into the labels input on backprop by default.\n",
      "\n",
      "See `tf.nn.softmax_cross_entropy_with_logits_v2`.\n",
      "\n",
      "f1_score \t\t= (0.0, 0.96465904)\n"
     ]
    }
   ],
   "source": [
    "run_analysis_on_bot('Sogou', 'tf', 1)\n"
   ]
  },
  {
   "cell_type": "code",
   "execution_count": 7,
   "metadata": {},
   "outputs": [
    {
     "name": "stdout",
     "output_type": "stream",
     "text": [
      "saved_data/saved_1s_17.pk1\n",
      "recall \t\t= 0.902213625617881\n",
      "precision \t\t= 0.9699630314232902\n",
      "f1 score \t\t= 0.9348624874735553\n",
      "attacks \t\t= 9328\n",
      "normal count \t\t= 9329\n",
      "training size \t\t= 9328\n",
      "1 \t\t= 4675, 4653\n",
      "0 \t\t= 4653, 4676\n"
     ]
    }
   ],
   "source": [
    "run_analysis_on_bot('Murlo', 'rf', 1)\n"
   ]
  },
  {
   "cell_type": "code",
   "execution_count": 8,
   "metadata": {},
   "outputs": [
    {
     "name": "stdout",
     "output_type": "stream",
     "text": [
      "saved_data/saved_1s_15-3.pk1\n",
      "recall \t\t= 0.8759247051929979\n",
      "precision \t\t= 0.8764382557713448\n",
      "f1 score \t\t= 0.8761814052311525\n",
      "attacks \t\t= 27118\n",
      "normal count \t\t= 31811\n",
      "training size \t\t= 29464\n",
      "1 \t\t= 13465, 13653\n",
      "0 \t\t= 15999, 15812\n"
     ]
    }
   ],
   "source": [
    "run_analysis_on_bot('NSIS.ay', 'dt', 1)\n"
   ]
  },
  {
   "cell_type": "code",
   "execution_count": null,
   "metadata": {},
   "outputs": [],
   "source": []
  }
 ],
 "metadata": {
  "kernelspec": {
   "display_name": "Python 3",
   "language": "python",
   "name": "python3"
  },
  "language_info": {
   "codemirror_mode": {
    "name": "ipython",
    "version": 2
   },
   "file_extension": ".py",
   "mimetype": "text/x-python",
   "name": "python",
   "nbconvert_exporter": "python",
   "pygments_lexer": "ipython2",
   "version": "2.7.15rc1"
  }
 },
 "nbformat": 4,
 "nbformat_minor": 2
}
